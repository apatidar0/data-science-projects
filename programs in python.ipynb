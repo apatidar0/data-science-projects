{
 "cells": [
  {
   "cell_type": "code",
   "execution_count": 1,
   "metadata": {},
   "outputs": [],
   "source": [
    "# odd even programe"
   ]
  },
  {
   "cell_type": "code",
   "execution_count": 4,
   "metadata": {},
   "outputs": [
    {
     "name": "stdout",
     "output_type": "stream",
     "text": [
      " no 0 is even\n",
      " no 2 is even\n",
      " no 4 is even\n",
      " no 6 is even\n",
      " no 8 is even\n",
      " no 10 is even\n",
      " no 12 is even\n",
      " no 14 is even\n",
      " no 16 is even\n",
      " no 18 is even\n",
      " no 20 is even\n",
      " no 22 is even\n",
      " no 24 is even\n",
      " no 26 is even\n",
      " no 28 is even\n",
      " no 30 is even\n",
      " no 32 is even\n",
      " no 34 is even\n",
      " no 36 is even\n",
      " no 38 is even\n"
     ]
    }
   ],
   "source": [
    "for i in range(0,40):\n",
    "    if i%2==0:\n",
    "        print(\" no {} is even\".format(i)  )"
   ]
  },
  {
   "cell_type": "code",
   "execution_count": 7,
   "metadata": {},
   "outputs": [
    {
     "name": "stdout",
     "output_type": "stream",
     "text": [
      "[0, 1, 4, 9, 16, 25, 36, 49, 64, 81]\n"
     ]
    }
   ],
   "source": [
    "s=[]\n",
    "for i in range(0,10):\n",
    "    s.append(i**2)\n",
    "print(s)    "
   ]
  },
  {
   "cell_type": "code",
   "execution_count": 16,
   "metadata": {},
   "outputs": [
    {
     "name": "stdout",
     "output_type": "stream",
     "text": [
      "[100, 81, 64, 49, 36, 25, 16, 9, 4, 1, 0]\n"
     ]
    }
   ],
   "source": [
    "s=[]\n",
    "for i in range(10,-1,-1):\n",
    "    s.append(i**2)\n",
    "print(s)    "
   ]
  },
  {
   "cell_type": "code",
   "execution_count": 8,
   "metadata": {},
   "outputs": [
    {
     "name": "stdout",
     "output_type": "stream",
     "text": [
      "0\n",
      "1\n",
      "4\n",
      "9\n",
      "16\n",
      "25\n",
      "36\n",
      "49\n",
      "64\n",
      "81\n"
     ]
    }
   ],
   "source": [
    "s=[]\n",
    "for i in range(0,10):\n",
    "    print(i**2)\n",
    "    "
   ]
  },
  {
   "cell_type": "code",
   "execution_count": 10,
   "metadata": {},
   "outputs": [
    {
     "name": "stdout",
     "output_type": "stream",
     "text": [
      "letter is A,count is 1\n",
      "letter is n,count is 1\n",
      "letter is i,count is 2\n",
      "letter is l,count is 1\n",
      "letter is  ,count is 1\n",
      "letter is P,count is 1\n",
      "letter is a,count is 2\n",
      "letter is t,count is 1\n",
      "letter is i,count is 2\n",
      "letter is d,count is 1\n",
      "letter is a,count is 2\n",
      "letter is r,count is 1\n"
     ]
    }
   ],
   "source": [
    "name=\"Anil Patidar\"\n",
    "for i in name:\n",
    "    print(\"letter is {},count is {}\".format(i,name.count(i)))"
   ]
  },
  {
   "cell_type": "code",
   "execution_count": 36,
   "metadata": {},
   "outputs": [],
   "source": [
    "# factorial"
   ]
  },
  {
   "cell_type": "code",
   "execution_count": 39,
   "metadata": {},
   "outputs": [
    {
     "name": "stderr",
     "output_type": "stream",
     "text": [
      "IOPub data rate exceeded.\n",
      "The notebook server will temporarily stop sending output\n",
      "to the client in order to avoid crashing it.\n",
      "To change this limit, set the config variable\n",
      "`--NotebookApp.iopub_data_rate_limit`.\n",
      "\n",
      "Current values:\n",
      "NotebookApp.iopub_data_rate_limit=1000000.0 (bytes/sec)\n",
      "NotebookApp.rate_limit_window=3.0 (secs)\n",
      "\n"
     ]
    }
   ],
   "source": [
    "s=[]\n",
    "for i in range(1,10):\n",
    "    s.append(s*i)\n",
    "    print(s)"
   ]
  },
  {
   "cell_type": "code",
   "execution_count": 41,
   "metadata": {},
   "outputs": [],
   "source": [
    "## random no game"
   ]
  },
  {
   "cell_type": "code",
   "execution_count": 2,
   "metadata": {},
   "outputs": [
    {
     "name": "stdout",
     "output_type": "stream",
     "text": [
      "enter a no between 1,100 100\n",
      "too high\n",
      "enter a no between 1,10090\n",
      "too high\n",
      "enter a no between 1,10080\n",
      "too high\n",
      "enter a no between 1,10070\n",
      "too high\n",
      "enter a no between 1,10060\n",
      "too high\n",
      "enter a no between 1,10050\n",
      "too high\n",
      "enter a no between 1,10040\n",
      "too low\n",
      "enter a no between 1,10045\n",
      "too low\n",
      "enter a no between 1,10046\n",
      "too low\n",
      "enter a no between 1,10047\n",
      "too low\n",
      "enter a no between 1,10048\n",
      "too low\n",
      "enter a no between 1,10049\n",
      "you won in 12 time\n"
     ]
    }
   ],
   "source": [
    "n=int(input(\"enter a no between 1,100\"))\n",
    "guess=1\n",
    "import random\n",
    "i=random.randint(1,100)\n",
    "over=False\n",
    "while not over:\n",
    "    if i==n:\n",
    "        print(f\"you won in {guess } time\")\n",
    "        over= True\n",
    "    else:\n",
    "        if i>n:\n",
    "            print(\"too low\")\n",
    "            guess+=1\n",
    "            n=int(input(\"enter a no between 1,100\"))\n",
    "        else:\n",
    "            print(\"too high\")\n",
    "            guess+=1\n",
    "            n=int(input(\"enter a no between 1,100\"))\n",
    "\n",
    "\n",
    "\n"
   ]
  },
  {
   "cell_type": "code",
   "execution_count": 9,
   "metadata": {},
   "outputs": [
    {
     "name": "stdout",
     "output_type": "stream",
     "text": [
      "1\n",
      "4\n",
      "7\n",
      "10\n",
      "enter one no40\n",
      "0\n",
      "2\n",
      "4\n",
      "6\n",
      "8\n",
      "10\n",
      "12\n",
      "14\n",
      "16\n",
      "18\n",
      "20\n",
      "22\n",
      "24\n",
      "26\n",
      "28\n",
      "30\n",
      "32\n",
      "34\n",
      "36\n",
      "38\n",
      "enter one no10\n",
      "1\n",
      "3\n",
      "5\n",
      "7\n",
      "9\n",
      "enter one no5\n",
      "1\n",
      "9\n",
      "25\n",
      "enter one no10\n",
      "0\n",
      "4\n",
      "16\n",
      "36\n",
      "64\n",
      "100\n",
      "enter one no10\n",
      "10\n",
      "9\n",
      "8\n",
      "7\n",
      "6\n",
      "5\n",
      "4\n",
      "3\n",
      "2\n",
      "1\n"
     ]
    }
   ],
   "source": [
    "###step in range \n",
    "for i in range (1,11,3):\n",
    "    print(i)\n",
    "\n",
    "\n",
    "#even no\n",
    "n= int(input(\"enter one no\"))\n",
    "for i in range(0,n,2):\n",
    "    print (i)\n",
    "\n",
    "#odd no\n",
    "n= int(input(\"enter one no\"))\n",
    "for i in range(1,n,2):\n",
    "    print (i)\n",
    "\n",
    "#square  of n odd no no\n",
    "n= int(input(\"enter one no\"))\n",
    "x = 0\n",
    "for i in range(1,n+1,2):\n",
    "    x=i*i\n",
    "    print(x)\n",
    "#square of n even no\n",
    "n= int(input(\"enter one no\"))\n",
    "x=0\n",
    "for i in range(0,n+1,2):\n",
    "    x= i*i\n",
    "\n",
    "    print (x)\n",
    "\n",
    "#negative series\n",
    "n= int(input(\"enter one no\"))\n",
    "for i in range(n,0,-1):\n",
    "    print (i)\n"
   ]
  },
  {
   "cell_type": "markdown",
   "metadata": {},
   "source": [
    "# total"
   ]
  },
  {
   "cell_type": "code",
   "execution_count": 12,
   "metadata": {},
   "outputs": [
    {
     "name": "stdout",
     "output_type": "stream",
     "text": [
      "enter one no55\n",
      "10\n",
      "enter one no55\n",
      "10\n"
     ]
    }
   ],
   "source": [
    "n = input(\"enter one no\")\n",
    "total = 0\n",
    "for i in range (len(n)):\n",
    "    total = total+int(n[i])\n",
    "print ( total)\n",
    "\n",
    "\n",
    "n = input(\"enter one no\")\n",
    "total =0\n",
    "for i in n:\n",
    "    total+=int( i)\n",
    "print(total)\n",
    "    "
   ]
  },
  {
   "cell_type": "code",
   "execution_count": 1,
   "metadata": {},
   "outputs": [
    {
     "name": "stdout",
     "output_type": "stream",
     "text": [
      "numa5\n",
      "numb10\n",
      "15\n",
      "numa10\n",
      "numb10\n",
      "1010\n"
     ]
    }
   ],
   "source": [
    "def total(a,b):\n",
    "    return (a+b)\n",
    "def add(a,b,c):\n",
    "    print(a+b+c)\n",
    "\n",
    "\n",
    "\n",
    "a=int (input(\"numa\"))\n",
    "b=int(input(\"numb\"))\n",
    "print(total(a,b))\n",
    "\n",
    "a=input(\"numa\")\n",
    "b=input(\"numb\")\n",
    "print(total(a,b))"
   ]
  },
  {
   "cell_type": "code",
   "execution_count": 2,
   "metadata": {},
   "outputs": [
    {
     "name": "stdout",
     "output_type": "stream",
     "text": [
      "enter one nameannu\n",
      "u\n",
      " a no5\n",
      "odd\n",
      " a no5\n",
      "odd\n",
      " a no5\n",
      "False\n",
      " a no5\n",
      "False\n"
     ]
    }
   ],
   "source": [
    "def lastname(a):\n",
    "    return a[len(a)-1]\n",
    "a = input(\"enter one name\")\n",
    "print(lastname(a))\n",
    "\n",
    "#\n",
    "\n",
    "def odd_even(x):\n",
    "    if x%2==0:\n",
    "        return \"even\"\n",
    "    else:\n",
    "        return \"odd\"\n",
    "\n",
    "x= int(input(\" a no\"))\n",
    "print(odd_even(x))\n",
    "\n",
    "\n",
    "#\n",
    "def odd_even(x):\n",
    "    if x%2==0:\n",
    "        return \"even\"\n",
    "    return \"odd\"\n",
    "\n",
    "y= int(input(\" a no\"))\n",
    "print(odd_even(y))\n",
    "\n",
    "\n",
    "#\n",
    "def is_even(z):\n",
    "    if z%2== 0:\n",
    "        return \"True\"\n",
    "    return \"False\"\n",
    "\n",
    "z= int(input(\" a no\"))\n",
    "print(is_even(z))\n",
    "\n",
    "#\n",
    "def is_even(z):\n",
    "    return z%2== 0\n",
    "    \n",
    "z= int(input(\" a no\"))\n",
    "print(is_even(z))\n"
   ]
  },
  {
   "cell_type": "code",
   "execution_count": 3,
   "metadata": {},
   "outputs": [
    {
     "name": "stdout",
     "output_type": "stream",
     "text": [
      "enter a no5\n",
      "enter a no5\n",
      "enter a no5\n",
      "5is greatest\n"
     ]
    }
   ],
   "source": [
    "def greatest(a,b,c):\n",
    "    if a>=b and a>c:\n",
    "        return(a)\n",
    "    elif b>=c and b>a:\n",
    "        return (b)\n",
    "    return (c)\n",
    "\n",
    "        \n",
    "        \n",
    "        \n",
    "\n",
    "\n",
    "a=int( input (\"enter a no\"))\n",
    "b=int( input (\"enter a no\"))\n",
    "c=int( input (\"enter a no\"))\n",
    "bigger=greatest(a,b,c)\n",
    "print(f\"{bigger}is greatest\")\n"
   ]
  },
  {
   "cell_type": "code",
   "execution_count": 5,
   "metadata": {},
   "outputs": [
    {
     "name": "stdout",
     "output_type": "stream",
     "text": [
      "enter a no5\n",
      "enter a no5\n",
      "enter a no5\n",
      " 5 is greatest\n"
     ]
    }
   ],
   "source": [
    "def greater (a,b):\n",
    "    if a>b:\n",
    "        return a\n",
    "    elif a==b:\n",
    "        return a\n",
    "    return b\n",
    "    \n",
    "\n",
    "def greatest(a,b,c):\n",
    "    bigger=greater(a,b)\n",
    "    return greater(bigger,c)\n",
    "\n",
    "a=int( input (\"enter a no\"))\n",
    "b=int( input (\"enter a no\"))\n",
    "c=int( input (\"enter a no\"))\n",
    "print(f\" {greatest(a,b,c)} is greatest\")\n"
   ]
  },
  {
   "cell_type": "code",
   "execution_count": 6,
   "metadata": {},
   "outputs": [
    {
     "name": "stdout",
     "output_type": "stream",
     "text": [
      "True\n",
      "False\n",
      "True\n",
      "True\n"
     ]
    },
    {
     "ename": "NameError",
     "evalue": "name 'harshit' is not defined",
     "output_type": "error",
     "traceback": [
      "\u001b[1;31m---------------------------------------------------------------------------\u001b[0m",
      "\u001b[1;31mNameError\u001b[0m                                 Traceback (most recent call last)",
      "\u001b[1;32m<ipython-input-6-9192c53ff487>\u001b[0m in \u001b[0;36m<module>\u001b[1;34m\u001b[0m\n\u001b[0;32m     10\u001b[0m \u001b[0mprint\u001b[0m\u001b[1;33m(\u001b[0m\u001b[0mis_palindrom\u001b[0m\u001b[1;33m(\u001b[0m\u001b[1;34m\"madam\"\u001b[0m\u001b[1;33m)\u001b[0m\u001b[1;33m)\u001b[0m\u001b[1;33m\u001b[0m\u001b[1;33m\u001b[0m\u001b[0m\n\u001b[0;32m     11\u001b[0m \u001b[1;33m\u001b[0m\u001b[0m\n\u001b[1;32m---> 12\u001b[1;33m \u001b[0mn\u001b[0m\u001b[1;33m=\u001b[0m \u001b[0mharshit\u001b[0m\u001b[1;33m\u001b[0m\u001b[1;33m\u001b[0m\u001b[0m\n\u001b[0m\u001b[0;32m     13\u001b[0m \u001b[1;32mfor\u001b[0m \u001b[0mi\u001b[0m \u001b[1;32min\u001b[0m \u001b[0mrange\u001b[0m\u001b[1;33m(\u001b[0m\u001b[0mlen\u001b[0m\u001b[1;33m(\u001b[0m\u001b[0mn\u001b[0m\u001b[1;33m)\u001b[0m\u001b[1;33m-\u001b[0m\u001b[1;36m1\u001b[0m\u001b[1;33m,\u001b[0m\u001b[1;33m-\u001b[0m\u001b[1;36m1\u001b[0m\u001b[1;33m,\u001b[0m\u001b[1;33m-\u001b[0m\u001b[1;36m1\u001b[0m\u001b[1;33m)\u001b[0m\u001b[1;33m:\u001b[0m\u001b[1;33m\u001b[0m\u001b[1;33m\u001b[0m\u001b[0m\n\u001b[0;32m     14\u001b[0m      \u001b[0mprint\u001b[0m\u001b[1;33m(\u001b[0m\u001b[0mn\u001b[0m\u001b[1;33m(\u001b[0m\u001b[0mi\u001b[0m\u001b[1;33m)\u001b[0m\u001b[1;33m)\u001b[0m\u001b[1;33m\u001b[0m\u001b[1;33m\u001b[0m\u001b[0m\n",
      "\u001b[1;31mNameError\u001b[0m: name 'harshit' is not defined"
     ]
    }
   ],
   "source": [
    "def is_palindrom(a):\n",
    "    if a[0:len(a):1]==a[len(a)-1::-1]:\n",
    "        return True\n",
    "    return False\n",
    "\n",
    "print(is_palindrom(\"naman\"))\n",
    "print(is_palindrom(\"horse\"))\n",
    "\n",
    "print(is_palindrom(\"kanak\"))\n",
    "print(is_palindrom(\"madam\"))\n",
    "\n",
    "n= harshit\n",
    "for i in range(len(n)-1,-1,-1):\n",
    "     print(n(i))"
   ]
  },
  {
   "cell_type": "code",
   "execution_count": 7,
   "metadata": {},
   "outputs": [
    {
     "name": "stdout",
     "output_type": "stream",
     "text": [
      "enter a no5\n",
      " chaar is : 5 : 1\n"
     ]
    }
   ],
   "source": [
    "n = input(\"enter a no\")\n",
    "i=len(n)-1\n",
    "var =\"\"\n",
    "while -1<i<=(len(n)-1):\n",
    "    if n[i] not in var:\n",
    "        var += n[i]\n",
    "        print(f\" chaar is : {n[i]} : {n.count(n[i])}\")\n",
    "    i=i-1"
   ]
  },
  {
   "cell_type": "code",
   "execution_count": 8,
   "metadata": {},
   "outputs": [
    {
     "name": "stdout",
     "output_type": "stream",
     "text": [
      "enter a no5\n",
      "True\n",
      "True\n",
      "False\n"
     ]
    }
   ],
   "source": [
    "def is_palindrom(a):\n",
    "    if a[::1] == a[::-1]:\n",
    "        return True\n",
    "    return False\n",
    "\n",
    "        \n",
    "n= input(\"enter a no\")\n",
    "print(is_palindrom(n))\n",
    "print ( is_palindrom(\"naman\"))\n",
    "print ( is_palindrom(\"horse\"))\n"
   ]
  },
  {
   "cell_type": "code",
   "execution_count": 9,
   "metadata": {},
   "outputs": [
    {
     "name": "stdout",
     "output_type": "stream",
     "text": [
      "a n010\n",
      "0 1,1 2 3 5 8 13 21 34 None\n",
      "0 1,1 2 3 5 8 13 21 34 "
     ]
    }
   ],
   "source": [
    "def faboneci_sq (n):\n",
    "    a=0\n",
    "    b=1\n",
    "    if n==1:\n",
    "        print(a)\n",
    "    elif n==2:\n",
    "        print(a,b)\n",
    "    else:\n",
    "        print(a,b,end =\",\")\n",
    "        for i in range(3,n+1): #for i in range (n-2)\n",
    "            if i== n+1:\n",
    "                break\n",
    "            c= a+b\n",
    "            a=b\n",
    "            b=c\n",
    "            print(b,end = \" \")\n",
    "            \n",
    "            \n",
    "                \n",
    "n = int(input(\"a n0\"))\n",
    "print(faboneci_sq (n))\n",
    "faboneci_sq (10)\n"
   ]
  },
  {
   "cell_type": "code",
   "execution_count": null,
   "metadata": {},
   "outputs": [
    {
     "name": "stdout",
     "output_type": "stream",
     "text": [
      "enter one no515\n",
      "5 : 2\n",
      "1 : 1\n"
     ]
    }
   ],
   "source": [
    "#negative series for in stings.\n",
    "n= input(\"enter one no\")\n",
    "var = \"\"\n",
    "for i in n:\n",
    "    if i not in var:\n",
    "        print(f\"{i} : {n.count(i)}\")\n",
    "        var += i\n",
    "\n",
    "\n",
    "    \n",
    "n= input(\"enter one no\")\n",
    "var =\"\"\n",
    "for i in range (len(n)-1,-1,-1):\n",
    "    if n[i] not in var:\n",
    "        var +=n[i]\n",
    "        print(f\"{n[i]} : {n.count(n[i])}\")\n",
    "    "
   ]
  },
  {
   "cell_type": "code",
   "execution_count": null,
   "metadata": {},
   "outputs": [],
   "source": []
  }
 ],
 "metadata": {
  "kernelspec": {
   "display_name": "Python 3",
   "language": "python",
   "name": "python3"
  },
  "language_info": {
   "codemirror_mode": {
    "name": "ipython",
    "version": 3
   },
   "file_extension": ".py",
   "mimetype": "text/x-python",
   "name": "python",
   "nbconvert_exporter": "python",
   "pygments_lexer": "ipython3",
   "version": "3.7.1"
  }
 },
 "nbformat": 4,
 "nbformat_minor": 2
}
