{
 "cells": [
  {
   "cell_type": "code",
   "execution_count": 1,
   "metadata": {},
   "outputs": [],
   "source": [
    "import pandas as pd\n",
    "import numpy as np\n",
    "from matplotlib import pyplot as plt"
   ]
  },
  {
   "cell_type": "code",
   "execution_count": 45,
   "metadata": {},
   "outputs": [
    {
     "data": {
      "text/html": [
       "<div>\n",
       "<style scoped>\n",
       "    .dataframe tbody tr th:only-of-type {\n",
       "        vertical-align: middle;\n",
       "    }\n",
       "\n",
       "    .dataframe tbody tr th {\n",
       "        vertical-align: top;\n",
       "    }\n",
       "\n",
       "    .dataframe thead th {\n",
       "        text-align: right;\n",
       "    }\n",
       "</style>\n",
       "<table border=\"1\" class=\"dataframe\">\n",
       "  <thead>\n",
       "    <tr style=\"text-align: right;\">\n",
       "      <th></th>\n",
       "      <th>RowNumber</th>\n",
       "      <th>CustomerId</th>\n",
       "      <th>Surname</th>\n",
       "      <th>CreditScore</th>\n",
       "      <th>Geography</th>\n",
       "      <th>Gender</th>\n",
       "      <th>Age</th>\n",
       "      <th>Tenure</th>\n",
       "      <th>Balance</th>\n",
       "      <th>NumOfProducts</th>\n",
       "      <th>HasCrCard</th>\n",
       "      <th>IsActiveMember</th>\n",
       "      <th>EstimatedSalary</th>\n",
       "      <th>Exited</th>\n",
       "    </tr>\n",
       "  </thead>\n",
       "  <tbody>\n",
       "    <tr>\n",
       "      <th>0</th>\n",
       "      <td>1</td>\n",
       "      <td>15634602</td>\n",
       "      <td>Hargrave</td>\n",
       "      <td>619</td>\n",
       "      <td>France</td>\n",
       "      <td>Female</td>\n",
       "      <td>42</td>\n",
       "      <td>2</td>\n",
       "      <td>0.00</td>\n",
       "      <td>1</td>\n",
       "      <td>1</td>\n",
       "      <td>1</td>\n",
       "      <td>101348.88</td>\n",
       "      <td>1</td>\n",
       "    </tr>\n",
       "    <tr>\n",
       "      <th>1</th>\n",
       "      <td>2</td>\n",
       "      <td>15647311</td>\n",
       "      <td>Hill</td>\n",
       "      <td>608</td>\n",
       "      <td>Spain</td>\n",
       "      <td>Female</td>\n",
       "      <td>41</td>\n",
       "      <td>1</td>\n",
       "      <td>83807.86</td>\n",
       "      <td>1</td>\n",
       "      <td>0</td>\n",
       "      <td>1</td>\n",
       "      <td>112542.58</td>\n",
       "      <td>0</td>\n",
       "    </tr>\n",
       "    <tr>\n",
       "      <th>2</th>\n",
       "      <td>3</td>\n",
       "      <td>15619304</td>\n",
       "      <td>Onio</td>\n",
       "      <td>502</td>\n",
       "      <td>France</td>\n",
       "      <td>Female</td>\n",
       "      <td>42</td>\n",
       "      <td>8</td>\n",
       "      <td>159660.80</td>\n",
       "      <td>3</td>\n",
       "      <td>1</td>\n",
       "      <td>0</td>\n",
       "      <td>113931.57</td>\n",
       "      <td>1</td>\n",
       "    </tr>\n",
       "    <tr>\n",
       "      <th>3</th>\n",
       "      <td>4</td>\n",
       "      <td>15701354</td>\n",
       "      <td>Boni</td>\n",
       "      <td>699</td>\n",
       "      <td>France</td>\n",
       "      <td>Female</td>\n",
       "      <td>39</td>\n",
       "      <td>1</td>\n",
       "      <td>0.00</td>\n",
       "      <td>2</td>\n",
       "      <td>0</td>\n",
       "      <td>0</td>\n",
       "      <td>93826.63</td>\n",
       "      <td>0</td>\n",
       "    </tr>\n",
       "    <tr>\n",
       "      <th>4</th>\n",
       "      <td>5</td>\n",
       "      <td>15737888</td>\n",
       "      <td>Mitchell</td>\n",
       "      <td>850</td>\n",
       "      <td>Spain</td>\n",
       "      <td>Female</td>\n",
       "      <td>43</td>\n",
       "      <td>2</td>\n",
       "      <td>125510.82</td>\n",
       "      <td>1</td>\n",
       "      <td>1</td>\n",
       "      <td>1</td>\n",
       "      <td>79084.10</td>\n",
       "      <td>0</td>\n",
       "    </tr>\n",
       "  </tbody>\n",
       "</table>\n",
       "</div>"
      ],
      "text/plain": [
       "   RowNumber  CustomerId   Surname  CreditScore Geography  Gender  Age  \\\n",
       "0          1    15634602  Hargrave          619    France  Female   42   \n",
       "1          2    15647311      Hill          608     Spain  Female   41   \n",
       "2          3    15619304      Onio          502    France  Female   42   \n",
       "3          4    15701354      Boni          699    France  Female   39   \n",
       "4          5    15737888  Mitchell          850     Spain  Female   43   \n",
       "\n",
       "   Tenure    Balance  NumOfProducts  HasCrCard  IsActiveMember  \\\n",
       "0       2       0.00              1          1               1   \n",
       "1       1   83807.86              1          0               1   \n",
       "2       8  159660.80              3          1               0   \n",
       "3       1       0.00              2          0               0   \n",
       "4       2  125510.82              1          1               1   \n",
       "\n",
       "   EstimatedSalary  Exited  \n",
       "0        101348.88       1  \n",
       "1        112542.58       0  \n",
       "2        113931.57       1  \n",
       "3         93826.63       0  \n",
       "4         79084.10       0  "
      ]
     },
     "execution_count": 45,
     "metadata": {},
     "output_type": "execute_result"
    }
   ],
   "source": [
    "dataset = pd.read_csv('Churn_Modelling.csv')\n",
    "dataset.head()"
   ]
  },
  {
   "cell_type": "code",
   "execution_count": 3,
   "metadata": {},
   "outputs": [],
   "source": [
    "X=dataset.iloc[:,3:13].values"
   ]
  },
  {
   "cell_type": "code",
   "execution_count": 4,
   "metadata": {},
   "outputs": [
    {
     "data": {
      "text/plain": [
       "array([[619, 'France', 'Female', ..., 1, 1, 101348.88],\n",
       "       [608, 'Spain', 'Female', ..., 0, 1, 112542.58],\n",
       "       [502, 'France', 'Female', ..., 1, 0, 113931.57],\n",
       "       ...,\n",
       "       [709, 'France', 'Female', ..., 0, 1, 42085.58],\n",
       "       [772, 'Germany', 'Male', ..., 1, 0, 92888.52],\n",
       "       [792, 'France', 'Female', ..., 1, 0, 38190.78]], dtype=object)"
      ]
     },
     "execution_count": 4,
     "metadata": {},
     "output_type": "execute_result"
    }
   ],
   "source": [
    "X"
   ]
  },
  {
   "cell_type": "code",
   "execution_count": 5,
   "metadata": {},
   "outputs": [],
   "source": [
    "y=dataset.iloc[:,13].values"
   ]
  },
  {
   "cell_type": "code",
   "execution_count": 6,
   "metadata": {},
   "outputs": [
    {
     "data": {
      "text/plain": [
       "array([1, 0, 1, ..., 1, 1, 0], dtype=int64)"
      ]
     },
     "execution_count": 6,
     "metadata": {},
     "output_type": "execute_result"
    }
   ],
   "source": [
    "y"
   ]
  },
  {
   "cell_type": "code",
   "execution_count": 7,
   "metadata": {},
   "outputs": [],
   "source": [
    "##### encoding data set"
   ]
  },
  {
   "cell_type": "code",
   "execution_count": 13,
   "metadata": {},
   "outputs": [],
   "source": [
    "from sklearn.preprocessing import LabelEncoder,OneHotEncoder"
   ]
  },
  {
   "cell_type": "code",
   "execution_count": 9,
   "metadata": {},
   "outputs": [],
   "source": [
    "label=LabelEncoder()"
   ]
  },
  {
   "cell_type": "code",
   "execution_count": 10,
   "metadata": {},
   "outputs": [],
   "source": [
    "X[:,1]=label.fit_transform(X[:,1])"
   ]
  },
  {
   "cell_type": "code",
   "execution_count": 11,
   "metadata": {},
   "outputs": [],
   "source": [
    "labelencoder_X_2 = LabelEncoder()\n"
   ]
  },
  {
   "cell_type": "code",
   "execution_count": 12,
   "metadata": {},
   "outputs": [
    {
     "data": {
      "text/plain": [
       "array([[619, 0, 'Female', ..., 1, 1, 101348.88],\n",
       "       [608, 2, 'Female', ..., 0, 1, 112542.58],\n",
       "       [502, 0, 'Female', ..., 1, 0, 113931.57],\n",
       "       ...,\n",
       "       [709, 0, 'Female', ..., 0, 1, 42085.58],\n",
       "       [772, 1, 'Male', ..., 1, 0, 92888.52],\n",
       "       [792, 0, 'Female', ..., 1, 0, 38190.78]], dtype=object)"
      ]
     },
     "execution_count": 12,
     "metadata": {},
     "output_type": "execute_result"
    }
   ],
   "source": [
    "X"
   ]
  },
  {
   "cell_type": "code",
   "execution_count": 13,
   "metadata": {},
   "outputs": [],
   "source": [
    "X[:,2]=labelencoder_X_2.fit_transform(X[:,2])"
   ]
  },
  {
   "cell_type": "code",
   "execution_count": 14,
   "metadata": {},
   "outputs": [],
   "source": [
    "ohe=OneHotEncoder(categorical_features = [1])"
   ]
  },
  {
   "cell_type": "code",
   "execution_count": 15,
   "metadata": {},
   "outputs": [
    {
     "name": "stderr",
     "output_type": "stream",
     "text": [
      "C:\\Users\\sandY\\AppData\\Local\\conda\\conda\\envs\\tensorflow\\lib\\site-packages\\sklearn\\preprocessing\\_encoders.py:371: FutureWarning: The handling of integer data will change in version 0.22. Currently, the categories are determined based on the range [0, max(values)], while in the future they will be determined based on the unique values.\n",
      "If you want the future behaviour and silence this warning, you can specify \"categories='auto'\".\n",
      "In case you used a LabelEncoder before this OneHotEncoder to convert the categories to integers, then you can now use the OneHotEncoder directly.\n",
      "  warnings.warn(msg, FutureWarning)\n",
      "C:\\Users\\sandY\\AppData\\Local\\conda\\conda\\envs\\tensorflow\\lib\\site-packages\\sklearn\\preprocessing\\_encoders.py:392: DeprecationWarning: The 'categorical_features' keyword is deprecated in version 0.20 and will be removed in 0.22. You can use the ColumnTransformer instead.\n",
      "  \"use the ColumnTransformer instead.\", DeprecationWarning)\n"
     ]
    }
   ],
   "source": [
    "X=ohe.fit_transform(X).toarray()"
   ]
  },
  {
   "cell_type": "code",
   "execution_count": 16,
   "metadata": {},
   "outputs": [
    {
     "data": {
      "text/plain": [
       "array([1.0000000e+00, 0.0000000e+00, 0.0000000e+00, 5.0200000e+02,\n",
       "       0.0000000e+00, 4.2000000e+01, 8.0000000e+00, 1.5966080e+05,\n",
       "       3.0000000e+00, 1.0000000e+00, 0.0000000e+00, 1.1393157e+05])"
      ]
     },
     "execution_count": 16,
     "metadata": {},
     "output_type": "execute_result"
    }
   ],
   "source": [
    "X[2]"
   ]
  },
  {
   "cell_type": "code",
   "execution_count": 17,
   "metadata": {},
   "outputs": [
    {
     "data": {
      "text/html": [
       "<div>\n",
       "<style scoped>\n",
       "    .dataframe tbody tr th:only-of-type {\n",
       "        vertical-align: middle;\n",
       "    }\n",
       "\n",
       "    .dataframe tbody tr th {\n",
       "        vertical-align: top;\n",
       "    }\n",
       "\n",
       "    .dataframe thead th {\n",
       "        text-align: right;\n",
       "    }\n",
       "</style>\n",
       "<table border=\"1\" class=\"dataframe\">\n",
       "  <thead>\n",
       "    <tr style=\"text-align: right;\">\n",
       "      <th></th>\n",
       "      <th>0</th>\n",
       "      <th>1</th>\n",
       "      <th>2</th>\n",
       "      <th>3</th>\n",
       "      <th>4</th>\n",
       "      <th>5</th>\n",
       "      <th>6</th>\n",
       "      <th>7</th>\n",
       "      <th>8</th>\n",
       "      <th>9</th>\n",
       "      <th>10</th>\n",
       "      <th>11</th>\n",
       "    </tr>\n",
       "  </thead>\n",
       "  <tbody>\n",
       "    <tr>\n",
       "      <th>0</th>\n",
       "      <td>1.0</td>\n",
       "      <td>0.0</td>\n",
       "      <td>0.0</td>\n",
       "      <td>619.0</td>\n",
       "      <td>0.0</td>\n",
       "      <td>42.0</td>\n",
       "      <td>2.0</td>\n",
       "      <td>0.00</td>\n",
       "      <td>1.0</td>\n",
       "      <td>1.0</td>\n",
       "      <td>1.0</td>\n",
       "      <td>101348.88</td>\n",
       "    </tr>\n",
       "    <tr>\n",
       "      <th>1</th>\n",
       "      <td>0.0</td>\n",
       "      <td>0.0</td>\n",
       "      <td>1.0</td>\n",
       "      <td>608.0</td>\n",
       "      <td>0.0</td>\n",
       "      <td>41.0</td>\n",
       "      <td>1.0</td>\n",
       "      <td>83807.86</td>\n",
       "      <td>1.0</td>\n",
       "      <td>0.0</td>\n",
       "      <td>1.0</td>\n",
       "      <td>112542.58</td>\n",
       "    </tr>\n",
       "    <tr>\n",
       "      <th>2</th>\n",
       "      <td>1.0</td>\n",
       "      <td>0.0</td>\n",
       "      <td>0.0</td>\n",
       "      <td>502.0</td>\n",
       "      <td>0.0</td>\n",
       "      <td>42.0</td>\n",
       "      <td>8.0</td>\n",
       "      <td>159660.80</td>\n",
       "      <td>3.0</td>\n",
       "      <td>1.0</td>\n",
       "      <td>0.0</td>\n",
       "      <td>113931.57</td>\n",
       "    </tr>\n",
       "    <tr>\n",
       "      <th>3</th>\n",
       "      <td>1.0</td>\n",
       "      <td>0.0</td>\n",
       "      <td>0.0</td>\n",
       "      <td>699.0</td>\n",
       "      <td>0.0</td>\n",
       "      <td>39.0</td>\n",
       "      <td>1.0</td>\n",
       "      <td>0.00</td>\n",
       "      <td>2.0</td>\n",
       "      <td>0.0</td>\n",
       "      <td>0.0</td>\n",
       "      <td>93826.63</td>\n",
       "    </tr>\n",
       "    <tr>\n",
       "      <th>4</th>\n",
       "      <td>0.0</td>\n",
       "      <td>0.0</td>\n",
       "      <td>1.0</td>\n",
       "      <td>850.0</td>\n",
       "      <td>0.0</td>\n",
       "      <td>43.0</td>\n",
       "      <td>2.0</td>\n",
       "      <td>125510.82</td>\n",
       "      <td>1.0</td>\n",
       "      <td>1.0</td>\n",
       "      <td>1.0</td>\n",
       "      <td>79084.10</td>\n",
       "    </tr>\n",
       "  </tbody>\n",
       "</table>\n",
       "</div>"
      ],
      "text/plain": [
       "    0    1    2      3    4     5    6          7    8    9    10         11\n",
       "0  1.0  0.0  0.0  619.0  0.0  42.0  2.0       0.00  1.0  1.0  1.0  101348.88\n",
       "1  0.0  0.0  1.0  608.0  0.0  41.0  1.0   83807.86  1.0  0.0  1.0  112542.58\n",
       "2  1.0  0.0  0.0  502.0  0.0  42.0  8.0  159660.80  3.0  1.0  0.0  113931.57\n",
       "3  1.0  0.0  0.0  699.0  0.0  39.0  1.0       0.00  2.0  0.0  0.0   93826.63\n",
       "4  0.0  0.0  1.0  850.0  0.0  43.0  2.0  125510.82  1.0  1.0  1.0   79084.10"
      ]
     },
     "execution_count": 17,
     "metadata": {},
     "output_type": "execute_result"
    }
   ],
   "source": [
    "pd.DataFrame(X).head()"
   ]
  },
  {
   "cell_type": "code",
   "execution_count": 18,
   "metadata": {},
   "outputs": [],
   "source": [
    "X=X[:,1:]"
   ]
  },
  {
   "cell_type": "code",
   "execution_count": 19,
   "metadata": {},
   "outputs": [],
   "source": [
    "from sklearn.model_selection import train_test_split"
   ]
  },
  {
   "cell_type": "code",
   "execution_count": 20,
   "metadata": {},
   "outputs": [],
   "source": [
    "X_train,X_test,y_train,y_test=train_test_split(X,y,test_size=0.2,random_state=0)"
   ]
  },
  {
   "cell_type": "code",
   "execution_count": 21,
   "metadata": {},
   "outputs": [],
   "source": [
    "from sklearn.preprocessing import StandardScaler"
   ]
  },
  {
   "cell_type": "code",
   "execution_count": 22,
   "metadata": {},
   "outputs": [],
   "source": [
    "sc=StandardScaler()"
   ]
  },
  {
   "cell_type": "code",
   "execution_count": 23,
   "metadata": {},
   "outputs": [],
   "source": [
    "X_train=sc.fit_transform(X_train)"
   ]
  },
  {
   "cell_type": "code",
   "execution_count": 24,
   "metadata": {},
   "outputs": [],
   "source": [
    "X_test=sc.fit_transform(X_test)"
   ]
  },
  {
   "cell_type": "code",
   "execution_count": 25,
   "metadata": {},
   "outputs": [],
   "source": [
    "######part 2"
   ]
  },
  {
   "cell_type": "code",
   "execution_count": 26,
   "metadata": {},
   "outputs": [
    {
     "name": "stderr",
     "output_type": "stream",
     "text": [
      "Using TensorFlow backend.\n"
     ]
    }
   ],
   "source": [
    "import keras"
   ]
  },
  {
   "cell_type": "code",
   "execution_count": 27,
   "metadata": {},
   "outputs": [],
   "source": [
    "from keras.models import Sequential"
   ]
  },
  {
   "cell_type": "code",
   "execution_count": 30,
   "metadata": {},
   "outputs": [
    {
     "name": "stderr",
     "output_type": "stream",
     "text": [
      "Using TensorFlow backend.\n"
     ]
    }
   ],
   "source": [
    "import keras\n",
    "from keras.models import Sequential\n",
    "from keras.layers import Dense"
   ]
  },
  {
   "cell_type": "code",
   "execution_count": 29,
   "metadata": {},
   "outputs": [],
   "source": [
    "########### build our ,model"
   ]
  },
  {
   "cell_type": "code",
   "execution_count": 30,
   "metadata": {},
   "outputs": [],
   "source": [
    "classifier=Sequential()"
   ]
  },
  {
   "cell_type": "code",
   "execution_count": 33,
   "metadata": {},
   "outputs": [
    {
     "name": "stderr",
     "output_type": "stream",
     "text": [
      "C:\\Users\\sandY\\AppData\\Local\\conda\\conda\\envs\\tensorflow\\lib\\site-packages\\ipykernel_launcher.py:1: UserWarning: Update your `Dense` call to the Keras 2 API: `Dense(activation=\"relu\", input_dim=11, units=6, kernel_initializer=\"uniform\")`\n",
      "  \"\"\"Entry point for launching an IPython kernel.\n"
     ]
    }
   ],
   "source": [
    "classifier.add(Dense(output_dim = 6, init = 'uniform', activation = 'relu', input_dim = 11))"
   ]
  },
  {
   "cell_type": "code",
   "execution_count": 34,
   "metadata": {},
   "outputs": [
    {
     "name": "stderr",
     "output_type": "stream",
     "text": [
      "C:\\Users\\sandY\\AppData\\Local\\conda\\conda\\envs\\tensorflow\\lib\\site-packages\\ipykernel_launcher.py:2: UserWarning: Update your `Dense` call to the Keras 2 API: `Dense(activation=\"relu\", units=6, kernel_initializer=\"uniform\")`\n",
      "  \n",
      "C:\\Users\\sandY\\AppData\\Local\\conda\\conda\\envs\\tensorflow\\lib\\site-packages\\ipykernel_launcher.py:5: UserWarning: Update your `Dense` call to the Keras 2 API: `Dense(activation=\"sigmoid\", units=1, kernel_initializer=\"uniform\")`\n",
      "  \"\"\"\n"
     ]
    }
   ],
   "source": [
    "# Adding the second hidden layer\n",
    "classifier.add(Dense(output_dim = 6, init = 'uniform', activation = 'relu'))\n",
    "\n",
    "# Adding the output layer\n",
    "classifier.add(Dense(output_dim = 1, init = 'uniform', activation = 'sigmoid'))"
   ]
  },
  {
   "cell_type": "code",
   "execution_count": 35,
   "metadata": {},
   "outputs": [
    {
     "name": "stderr",
     "output_type": "stream",
     "text": [
      "C:\\Users\\sandY\\AppData\\Local\\conda\\conda\\envs\\tensorflow\\lib\\site-packages\\ipykernel_launcher.py:5: UserWarning: The `nb_epoch` argument in `fit` has been renamed `epochs`.\n",
      "  \"\"\"\n"
     ]
    },
    {
     "name": "stdout",
     "output_type": "stream",
     "text": [
      "WARNING:tensorflow:From C:\\Users\\sandY\\AppData\\Local\\conda\\conda\\envs\\tensorflow\\lib\\site-packages\\tensorflow\\python\\ops\\math_ops.py:3066: to_int32 (from tensorflow.python.ops.math_ops) is deprecated and will be removed in a future version.\n",
      "Instructions for updating:\n",
      "Use tf.cast instead.\n",
      "Epoch 1/100\n",
      " 150/8000 [..............................] - ETA: 33:53 - loss: 0.6916 - acc: 0.7400  "
     ]
    },
    {
     "name": "stderr",
     "output_type": "stream",
     "text": [
      "C:\\Users\\sandY\\AppData\\Local\\conda\\conda\\envs\\tensorflow\\lib\\site-packages\\keras\\callbacks.py:122: UserWarning: Method on_batch_end() is slow compared to the batch update (0.185004). Check your callbacks.\n",
      "  % delta_t_median)\n",
      "C:\\Users\\sandY\\AppData\\Local\\conda\\conda\\envs\\tensorflow\\lib\\site-packages\\keras\\callbacks.py:122: UserWarning: Method on_batch_end() is slow compared to the batch update (0.148100). Check your callbacks.\n",
      "  % delta_t_median)\n"
     ]
    },
    {
     "name": "stdout",
     "output_type": "stream",
     "text": [
      "8000/8000 [==============================] - 51s 6ms/step - loss: 0.5292 - acc: 0.7960\n",
      "Epoch 2/100\n",
      "8000/8000 [==============================] - 12s 2ms/step - loss: 0.4762 - acc: 0.7960\n",
      "Epoch 3/100\n",
      "8000/8000 [==============================] - 13s 2ms/step - loss: 0.4560 - acc: 0.7960\n",
      "Epoch 4/100\n",
      "  30/8000 [..............................] - ETA: 1:06 - loss: 0.4457 - acc: 0.8333"
     ]
    },
    {
     "name": "stderr",
     "output_type": "stream",
     "text": [
      "C:\\Users\\sandY\\AppData\\Local\\conda\\conda\\envs\\tensorflow\\lib\\site-packages\\keras\\callbacks.py:122: UserWarning: Method on_batch_end() is slow compared to the batch update (0.121080). Check your callbacks.\n",
      "  % delta_t_median)\n",
      "C:\\Users\\sandY\\AppData\\Local\\conda\\conda\\envs\\tensorflow\\lib\\site-packages\\keras\\callbacks.py:122: UserWarning: Method on_batch_end() is slow compared to the batch update (0.137091). Check your callbacks.\n",
      "  % delta_t_median)\n"
     ]
    },
    {
     "name": "stdout",
     "output_type": "stream",
     "text": [
      "  50/8000 [..............................] - ETA: 1:33 - loss: 0.4683 - acc: 0.8000"
     ]
    },
    {
     "name": "stderr",
     "output_type": "stream",
     "text": [
      "C:\\Users\\sandY\\AppData\\Local\\conda\\conda\\envs\\tensorflow\\lib\\site-packages\\keras\\callbacks.py:122: UserWarning: Method on_batch_end() is slow compared to the batch update (0.156103). Check your callbacks.\n",
      "  % delta_t_median)\n"
     ]
    },
    {
     "name": "stdout",
     "output_type": "stream",
     "text": [
      " 280/8000 [>.............................] - ETA: 24s - loss: 0.4698 - acc: 0.7893"
     ]
    },
    {
     "name": "stderr",
     "output_type": "stream",
     "text": [
      "C:\\Users\\sandY\\AppData\\Local\\conda\\conda\\envs\\tensorflow\\lib\\site-packages\\keras\\callbacks.py:122: UserWarning: Method on_batch_end() is slow compared to the batch update (0.170113). Check your callbacks.\n",
      "  % delta_t_median)\n",
      "C:\\Users\\sandY\\AppData\\Local\\conda\\conda\\envs\\tensorflow\\lib\\site-packages\\keras\\callbacks.py:122: UserWarning: Method on_batch_end() is slow compared to the batch update (0.153602). Check your callbacks.\n",
      "  % delta_t_median)\n",
      "C:\\Users\\sandY\\AppData\\Local\\conda\\conda\\envs\\tensorflow\\lib\\site-packages\\keras\\callbacks.py:122: UserWarning: Method on_batch_end() is slow compared to the batch update (0.102067). Check your callbacks.\n",
      "  % delta_t_median)\n"
     ]
    },
    {
     "name": "stdout",
     "output_type": "stream",
     "text": [
      "8000/8000 [==============================] - 14s 2ms/step - loss: 0.4394 - acc: 0.7960\n",
      "Epoch 5/100\n",
      "7820/8000 [============================>.] - ETA: 0s - loss: 0.4276 - acc: 0.7957"
     ]
    },
    {
     "name": "stderr",
     "output_type": "stream",
     "text": [
      "C:\\Users\\sandY\\AppData\\Local\\conda\\conda\\envs\\tensorflow\\lib\\site-packages\\keras\\callbacks.py:122: UserWarning: Method on_batch_end() is slow compared to the batch update (0.161106). Check your callbacks.\n",
      "  % delta_t_median)\n"
     ]
    },
    {
     "name": "stdout",
     "output_type": "stream",
     "text": [
      "8000/8000 [==============================] - 14s 2ms/step - loss: 0.4276 - acc: 0.7960\n",
      "Epoch 6/100\n",
      "  40/8000 [..............................] - ETA: 1:16 - loss: 0.4218 - acc: 0.8000"
     ]
    },
    {
     "name": "stderr",
     "output_type": "stream",
     "text": [
      "C:\\Users\\sandY\\AppData\\Local\\conda\\conda\\envs\\tensorflow\\lib\\site-packages\\keras\\callbacks.py:122: UserWarning: Method on_batch_end() is slow compared to the batch update (0.129585). Check your callbacks.\n",
      "  % delta_t_median)\n",
      "C:\\Users\\sandY\\AppData\\Local\\conda\\conda\\envs\\tensorflow\\lib\\site-packages\\keras\\callbacks.py:122: UserWarning: Method on_batch_end() is slow compared to the batch update (0.139092). Check your callbacks.\n",
      "  % delta_t_median)\n"
     ]
    },
    {
     "name": "stdout",
     "output_type": "stream",
     "text": [
      "8000/8000 [==============================] - 15s 2ms/step - loss: 0.4192 - acc: 0.8105\n",
      "Epoch 7/100\n",
      "4540/8000 [================>.............] - ETA: 6s - loss: 0.4332 - acc: 0.8134"
     ]
    },
    {
     "name": "stderr",
     "output_type": "stream",
     "text": [
      "C:\\Users\\sandY\\AppData\\Local\\conda\\conda\\envs\\tensorflow\\lib\\site-packages\\keras\\callbacks.py:122: UserWarning: Method on_batch_end() is slow compared to the batch update (0.106070). Check your callbacks.\n",
      "  % delta_t_median)\n"
     ]
    },
    {
     "name": "stdout",
     "output_type": "stream",
     "text": [
      "5790/8000 [====================>.........] - ETA: 4s - loss: 0.4242 - acc: 0.8209"
     ]
    },
    {
     "name": "stderr",
     "output_type": "stream",
     "text": [
      "C:\\Users\\sandY\\AppData\\Local\\conda\\conda\\envs\\tensorflow\\lib\\site-packages\\keras\\callbacks.py:122: UserWarning: Method on_batch_end() is slow compared to the batch update (0.111574). Check your callbacks.\n",
      "  % delta_t_median)\n"
     ]
    },
    {
     "name": "stdout",
     "output_type": "stream",
     "text": [
      "8000/8000 [==============================] - 15s 2ms/step - loss: 0.4153 - acc: 0.8255\n",
      "Epoch 8/100\n",
      "8000/8000 [==============================] - 15s 2ms/step - loss: 0.4130 - acc: 0.8277\n",
      "Epoch 9/100\n",
      "8000/8000 [==============================] - 13s 2ms/step - loss: 0.4110 - acc: 0.8310\n",
      "Epoch 10/100\n",
      "6650/8000 [=======================>......] - ETA: 2s - loss: 0.4102 - acc: 0.8305"
     ]
    },
    {
     "name": "stderr",
     "output_type": "stream",
     "text": [
      "C:\\Users\\sandY\\AppData\\Local\\conda\\conda\\envs\\tensorflow\\lib\\site-packages\\keras\\callbacks.py:122: UserWarning: Method on_batch_end() is slow compared to the batch update (0.107070). Check your callbacks.\n",
      "  % delta_t_median)\n"
     ]
    },
    {
     "name": "stdout",
     "output_type": "stream",
     "text": [
      "6680/8000 [========================>.....] - ETA: 2s - loss: 0.4098 - acc: 0.8307"
     ]
    },
    {
     "name": "stderr",
     "output_type": "stream",
     "text": [
      "C:\\Users\\sandY\\AppData\\Local\\conda\\conda\\envs\\tensorflow\\lib\\site-packages\\keras\\callbacks.py:122: UserWarning: Method on_batch_end() is slow compared to the batch update (0.137591). Check your callbacks.\n",
      "  % delta_t_median)\n",
      "C:\\Users\\sandY\\AppData\\Local\\conda\\conda\\envs\\tensorflow\\lib\\site-packages\\keras\\callbacks.py:122: UserWarning: Method on_batch_end() is slow compared to the batch update (0.136090). Check your callbacks.\n",
      "  % delta_t_median)\n",
      "C:\\Users\\sandY\\AppData\\Local\\conda\\conda\\envs\\tensorflow\\lib\\site-packages\\keras\\callbacks.py:122: UserWarning: Method on_batch_end() is slow compared to the batch update (0.105569). Check your callbacks.\n",
      "  % delta_t_median)\n"
     ]
    },
    {
     "name": "stdout",
     "output_type": "stream",
     "text": [
      "8000/8000 [==============================] - 16s 2ms/step - loss: 0.4098 - acc: 0.8325\n",
      "Epoch 11/100\n",
      "  10/8000 [..............................] - ETA: 2s - loss: 0.2026 - acc: 1.0000"
     ]
    },
    {
     "name": "stderr",
     "output_type": "stream",
     "text": [
      "C:\\Users\\sandY\\AppData\\Local\\conda\\conda\\envs\\tensorflow\\lib\\site-packages\\keras\\callbacks.py:122: UserWarning: Method on_batch_end() is slow compared to the batch update (0.222729). Check your callbacks.\n",
      "  % delta_t_median)\n"
     ]
    },
    {
     "name": "stdout",
     "output_type": "stream",
     "text": [
      "  40/8000 [..............................] - ETA: 2:00 - loss: 0.3043 - acc: 0.9250"
     ]
    },
    {
     "name": "stderr",
     "output_type": "stream",
     "text": [
      "C:\\Users\\sandY\\AppData\\Local\\conda\\conda\\envs\\tensorflow\\lib\\site-packages\\keras\\callbacks.py:122: UserWarning: Method on_batch_end() is slow compared to the batch update (0.240950). Check your callbacks.\n",
      "  % delta_t_median)\n",
      "C:\\Users\\sandY\\AppData\\Local\\conda\\conda\\envs\\tensorflow\\lib\\site-packages\\keras\\callbacks.py:122: UserWarning: Method on_batch_end() is slow compared to the batch update (0.167902). Check your callbacks.\n",
      "  % delta_t_median)\n",
      "C:\\Users\\sandY\\AppData\\Local\\conda\\conda\\envs\\tensorflow\\lib\\site-packages\\keras\\callbacks.py:122: UserWarning: Method on_batch_end() is slow compared to the batch update (0.113075). Check your callbacks.\n",
      "  % delta_t_median)\n"
     ]
    },
    {
     "name": "stdout",
     "output_type": "stream",
     "text": [
      "1940/8000 [======>.......................] - ETA: 12s - loss: 0.4040 - acc: 0.8381"
     ]
    },
    {
     "name": "stderr",
     "output_type": "stream",
     "text": [
      "C:\\Users\\sandY\\AppData\\Local\\conda\\conda\\envs\\tensorflow\\lib\\site-packages\\keras\\callbacks.py:122: UserWarning: Method on_batch_end() is slow compared to the batch update (0.143595). Check your callbacks.\n",
      "  % delta_t_median)\n"
     ]
    },
    {
     "name": "stdout",
     "output_type": "stream",
     "text": [
      "8000/8000 [==============================] - 15s 2ms/step - loss: 0.4086 - acc: 0.8312\n",
      "Epoch 12/100\n",
      "8000/8000 [==============================] - 14s 2ms/step - loss: 0.4077 - acc: 0.8309\n",
      "Epoch 13/100\n",
      "  20/8000 [..............................] - ETA: 2:08 - loss: 0.4757 - acc: 0.8000"
     ]
    },
    {
     "name": "stderr",
     "output_type": "stream",
     "text": [
      "C:\\Users\\sandY\\AppData\\Local\\conda\\conda\\envs\\tensorflow\\lib\\site-packages\\keras\\callbacks.py:122: UserWarning: Method on_batch_end() is slow compared to the batch update (0.314208). Check your callbacks.\n",
      "  % delta_t_median)\n",
      "C:\\Users\\sandY\\AppData\\Local\\conda\\conda\\envs\\tensorflow\\lib\\site-packages\\keras\\callbacks.py:122: UserWarning: Method on_batch_end() is slow compared to the batch update (0.158105). Check your callbacks.\n",
      "  % delta_t_median)\n"
     ]
    },
    {
     "name": "stdout",
     "output_type": "stream",
     "text": [
      "8000/8000 [==============================] - 12s 1ms/step - loss: 0.4066 - acc: 0.8336\n",
      "Epoch 14/100\n",
      "  10/8000 [..............................] - ETA: 2s - loss: 0.4604 - acc: 0.8000"
     ]
    },
    {
     "name": "stderr",
     "output_type": "stream",
     "text": [
      "C:\\Users\\sandY\\AppData\\Local\\conda\\conda\\envs\\tensorflow\\lib\\site-packages\\keras\\callbacks.py:122: UserWarning: Method on_batch_end() is slow compared to the batch update (0.198132). Check your callbacks.\n",
      "  % delta_t_median)\n"
     ]
    },
    {
     "name": "stdout",
     "output_type": "stream",
     "text": [
      "  30/8000 [..............................] - ETA: 1:58 - loss: 0.3701 - acc: 0.8667"
     ]
    },
    {
     "name": "stderr",
     "output_type": "stream",
     "text": [
      "C:\\Users\\sandY\\AppData\\Local\\conda\\conda\\envs\\tensorflow\\lib\\site-packages\\keras\\callbacks.py:122: UserWarning: Method on_batch_end() is slow compared to the batch update (0.218645). Check your callbacks.\n",
      "  % delta_t_median)\n",
      "C:\\Users\\sandY\\AppData\\Local\\conda\\conda\\envs\\tensorflow\\lib\\site-packages\\keras\\callbacks.py:122: UserWarning: Method on_batch_end() is slow compared to the batch update (0.101067). Check your callbacks.\n",
      "  % delta_t_median)\n"
     ]
    },
    {
     "name": "stdout",
     "output_type": "stream",
     "text": [
      "8000/8000 [==============================] - 17s 2ms/step - loss: 0.4057 - acc: 0.8349\n",
      "Epoch 15/100\n",
      "8000/8000 [==============================] - 13s 2ms/step - loss: 0.4053 - acc: 0.8334\n",
      "Epoch 16/100\n",
      "8000/8000 [==============================] - 15s 2ms/step - loss: 0.4048 - acc: 0.8332\n",
      "Epoch 17/100\n",
      " 520/8000 [>.............................] - ETA: 17s - loss: 0.4229 - acc: 0.8231"
     ]
    },
    {
     "name": "stderr",
     "output_type": "stream",
     "text": [
      "C:\\Users\\sandY\\AppData\\Local\\conda\\conda\\envs\\tensorflow\\lib\\site-packages\\keras\\callbacks.py:122: UserWarning: Method on_batch_end() is slow compared to the batch update (0.116577). Check your callbacks.\n",
      "  % delta_t_median)\n"
     ]
    },
    {
     "name": "stdout",
     "output_type": "stream",
     "text": [
      "4510/8000 [===============>..............] - ETA: 6s - loss: 0.4096 - acc: 0.8322"
     ]
    },
    {
     "name": "stderr",
     "output_type": "stream",
     "text": [
      "C:\\Users\\sandY\\AppData\\Local\\conda\\conda\\envs\\tensorflow\\lib\\site-packages\\keras\\callbacks.py:122: UserWarning: Method on_batch_end() is slow compared to the batch update (0.136091). Check your callbacks.\n",
      "  % delta_t_median)\n"
     ]
    },
    {
     "name": "stdout",
     "output_type": "stream",
     "text": [
      "8000/8000 [==============================] - 13s 2ms/step - loss: 0.4041 - acc: 0.8354\n",
      "Epoch 18/100\n",
      "8000/8000 [==============================] - 11s 1ms/step - loss: 0.4038 - acc: 0.8336\n",
      "Epoch 19/100\n",
      "  40/8000 [..............................] - ETA: 1:07 - loss: 0.3757 - acc: 0.8750"
     ]
    },
    {
     "name": "stderr",
     "output_type": "stream",
     "text": [
      "C:\\Users\\sandY\\AppData\\Local\\conda\\conda\\envs\\tensorflow\\lib\\site-packages\\keras\\callbacks.py:122: UserWarning: Method on_batch_end() is slow compared to the batch update (0.202134). Check your callbacks.\n",
      "  % delta_t_median)\n"
     ]
    },
    {
     "name": "stdout",
     "output_type": "stream",
     "text": [
      "8000/8000 [==============================] - 12s 2ms/step - loss: 0.4028 - acc: 0.8350\n",
      "Epoch 20/100\n",
      "8000/8000 [==============================] - 12s 1ms/step - loss: 0.4033 - acc: 0.8335\n",
      "Epoch 21/100\n",
      "  30/8000 [..............................] - ETA: 1:23 - loss: 0.4052 - acc: 0.9000"
     ]
    },
    {
     "name": "stderr",
     "output_type": "stream",
     "text": [
      "C:\\Users\\sandY\\AppData\\Local\\conda\\conda\\envs\\tensorflow\\lib\\site-packages\\keras\\callbacks.py:122: UserWarning: Method on_batch_end() is slow compared to the batch update (0.152601). Check your callbacks.\n",
      "  % delta_t_median)\n"
     ]
    },
    {
     "name": "stdout",
     "output_type": "stream",
     "text": [
      "8000/8000 [==============================] - 14s 2ms/step - loss: 0.4024 - acc: 0.8354\n",
      "Epoch 22/100\n",
      "  20/8000 [..............................] - ETA: 1:53 - loss: 0.5155 - acc: 0.7500"
     ]
    },
    {
     "name": "stderr",
     "output_type": "stream",
     "text": [
      "C:\\Users\\sandY\\AppData\\Local\\conda\\conda\\envs\\tensorflow\\lib\\site-packages\\keras\\callbacks.py:122: UserWarning: Method on_batch_end() is slow compared to the batch update (0.280185). Check your callbacks.\n",
      "  % delta_t_median)\n",
      "C:\\Users\\sandY\\AppData\\Local\\conda\\conda\\envs\\tensorflow\\lib\\site-packages\\keras\\callbacks.py:122: UserWarning: Method on_batch_end() is slow compared to the batch update (0.141093). Check your callbacks.\n",
      "  % delta_t_median)\n"
     ]
    },
    {
     "name": "stdout",
     "output_type": "stream",
     "text": [
      "6710/8000 [========================>.....] - ETA: 2s - loss: 0.4034 - acc: 0.8362"
     ]
    },
    {
     "name": "stderr",
     "output_type": "stream",
     "text": [
      "C:\\Users\\sandY\\AppData\\Local\\conda\\conda\\envs\\tensorflow\\lib\\site-packages\\keras\\callbacks.py:122: UserWarning: Method on_batch_end() is slow compared to the batch update (0.161465). Check your callbacks.\n",
      "  % delta_t_median)\n",
      "C:\\Users\\sandY\\AppData\\Local\\conda\\conda\\envs\\tensorflow\\lib\\site-packages\\keras\\callbacks.py:122: UserWarning: Method on_batch_end() is slow compared to the batch update (0.170470). Check your callbacks.\n",
      "  % delta_t_median)\n"
     ]
    },
    {
     "name": "stdout",
     "output_type": "stream",
     "text": [
      "8000/8000 [==============================] - 14s 2ms/step - loss: 0.4020 - acc: 0.8360\n",
      "Epoch 23/100\n",
      " 530/8000 [>.............................] - ETA: 17s - loss: 0.3891 - acc: 0.8472"
     ]
    },
    {
     "name": "stderr",
     "output_type": "stream",
     "text": [
      "C:\\Users\\sandY\\AppData\\Local\\conda\\conda\\envs\\tensorflow\\lib\\site-packages\\keras\\callbacks.py:122: UserWarning: Method on_batch_end() is slow compared to the batch update (0.130336). Check your callbacks.\n",
      "  % delta_t_median)\n"
     ]
    },
    {
     "name": "stdout",
     "output_type": "stream",
     "text": [
      "8000/8000 [==============================] - 13s 2ms/step - loss: 0.4016 - acc: 0.8340\n",
      "Epoch 24/100\n",
      "7220/8000 [==========================>...] - ETA: 1s - loss: 0.4015 - acc: 0.8355"
     ]
    },
    {
     "name": "stderr",
     "output_type": "stream",
     "text": [
      "C:\\Users\\sandY\\AppData\\Local\\conda\\conda\\envs\\tensorflow\\lib\\site-packages\\keras\\callbacks.py:122: UserWarning: Method on_batch_end() is slow compared to the batch update (0.115579). Check your callbacks.\n",
      "  % delta_t_median)\n",
      "C:\\Users\\sandY\\AppData\\Local\\conda\\conda\\envs\\tensorflow\\lib\\site-packages\\keras\\callbacks.py:122: UserWarning: Method on_batch_end() is slow compared to the batch update (0.104609). Check your callbacks.\n",
      "  % delta_t_median)\n"
     ]
    },
    {
     "name": "stdout",
     "output_type": "stream",
     "text": [
      "8000/8000 [==============================] - 15s 2ms/step - loss: 0.4012 - acc: 0.8352\n",
      "Epoch 25/100\n",
      " 240/8000 [..............................] - ETA: 5s - loss: 0.3794 - acc: 0.8417 "
     ]
    },
    {
     "name": "stderr",
     "output_type": "stream",
     "text": [
      "C:\\Users\\sandY\\AppData\\Local\\conda\\conda\\envs\\tensorflow\\lib\\site-packages\\keras\\callbacks.py:122: UserWarning: Method on_batch_end() is slow compared to the batch update (0.112074). Check your callbacks.\n",
      "  % delta_t_median)\n"
     ]
    },
    {
     "name": "stdout",
     "output_type": "stream",
     "text": [
      "8000/8000 [==============================] - 14s 2ms/step - loss: 0.4011 - acc: 0.8364\n",
      "Epoch 26/100\n",
      "4970/8000 [=================>............] - ETA: 3s - loss: 0.3987 - acc: 0.8370"
     ]
    },
    {
     "name": "stderr",
     "output_type": "stream",
     "text": [
      "C:\\Users\\sandY\\AppData\\Local\\conda\\conda\\envs\\tensorflow\\lib\\site-packages\\keras\\callbacks.py:122: UserWarning: Method on_batch_end() is slow compared to the batch update (0.126083). Check your callbacks.\n",
      "  % delta_t_median)\n"
     ]
    },
    {
     "name": "stdout",
     "output_type": "stream",
     "text": [
      "4990/8000 [=================>............] - ETA: 4s - loss: 0.3986 - acc: 0.8369"
     ]
    },
    {
     "name": "stderr",
     "output_type": "stream",
     "text": [
      "C:\\Users\\sandY\\AppData\\Local\\conda\\conda\\envs\\tensorflow\\lib\\site-packages\\keras\\callbacks.py:122: UserWarning: Method on_batch_end() is slow compared to the batch update (0.167110). Check your callbacks.\n",
      "  % delta_t_median)\n"
     ]
    },
    {
     "name": "stdout",
     "output_type": "stream",
     "text": [
      "5010/8000 [=================>............] - ETA: 4s - loss: 0.3990 - acc: 0.8367"
     ]
    },
    {
     "name": "stderr",
     "output_type": "stream",
     "text": [
      "C:\\Users\\sandY\\AppData\\Local\\conda\\conda\\envs\\tensorflow\\lib\\site-packages\\keras\\callbacks.py:122: UserWarning: Method on_batch_end() is slow compared to the batch update (0.166110). Check your callbacks.\n",
      "  % delta_t_median)\n",
      "C:\\Users\\sandY\\AppData\\Local\\conda\\conda\\envs\\tensorflow\\lib\\site-packages\\keras\\callbacks.py:122: UserWarning: Method on_batch_end() is slow compared to the batch update (0.160105). Check your callbacks.\n",
      "  % delta_t_median)\n",
      "C:\\Users\\sandY\\AppData\\Local\\conda\\conda\\envs\\tensorflow\\lib\\site-packages\\keras\\callbacks.py:122: UserWarning: Method on_batch_end() is slow compared to the batch update (0.122080). Check your callbacks.\n",
      "  % delta_t_median)\n"
     ]
    },
    {
     "name": "stdout",
     "output_type": "stream",
     "text": [
      "8000/8000 [==============================] - 11s 1ms/step - loss: 0.4006 - acc: 0.8362\n",
      "Epoch 27/100\n",
      "3720/8000 [============>.................] - ETA: 7s - loss: 0.4006 - acc: 0.8352"
     ]
    },
    {
     "name": "stderr",
     "output_type": "stream",
     "text": [
      "C:\\Users\\sandY\\AppData\\Local\\conda\\conda\\envs\\tensorflow\\lib\\site-packages\\keras\\callbacks.py:122: UserWarning: Method on_batch_end() is slow compared to the batch update (0.100066). Check your callbacks.\n",
      "  % delta_t_median)\n"
     ]
    },
    {
     "name": "stdout",
     "output_type": "stream",
     "text": [
      "5390/8000 [===================>..........] - ETA: 5s - loss: 0.4032 - acc: 0.8336"
     ]
    },
    {
     "name": "stderr",
     "output_type": "stream",
     "text": [
      "C:\\Users\\sandY\\AppData\\Local\\conda\\conda\\envs\\tensorflow\\lib\\site-packages\\keras\\callbacks.py:122: UserWarning: Method on_batch_end() is slow compared to the batch update (0.102568). Check your callbacks.\n",
      "  % delta_t_median)\n",
      "C:\\Users\\sandY\\AppData\\Local\\conda\\conda\\envs\\tensorflow\\lib\\site-packages\\keras\\callbacks.py:122: UserWarning: Method on_batch_end() is slow compared to the batch update (0.107571). Check your callbacks.\n",
      "  % delta_t_median)\n"
     ]
    },
    {
     "name": "stdout",
     "output_type": "stream",
     "text": [
      "8000/8000 [==============================] - 15s 2ms/step - loss: 0.4006 - acc: 0.8360\n",
      "Epoch 28/100\n",
      "1870/8000 [======>.......................] - ETA: 9s - loss: 0.4052 - acc: 0.8358"
     ]
    },
    {
     "name": "stderr",
     "output_type": "stream",
     "text": [
      "C:\\Users\\sandY\\AppData\\Local\\conda\\conda\\envs\\tensorflow\\lib\\site-packages\\keras\\callbacks.py:122: UserWarning: Method on_batch_end() is slow compared to the batch update (0.104631). Check your callbacks.\n",
      "  % delta_t_median)\n"
     ]
    },
    {
     "name": "stdout",
     "output_type": "stream",
     "text": [
      "8000/8000 [==============================] - 14s 2ms/step - loss: 0.4009 - acc: 0.8332\n",
      "Epoch 29/100\n",
      "4060/8000 [==============>...............] - ETA: 5s - loss: 0.4041 - acc: 0.8365"
     ]
    },
    {
     "name": "stderr",
     "output_type": "stream",
     "text": [
      "C:\\Users\\sandY\\AppData\\Local\\conda\\conda\\envs\\tensorflow\\lib\\site-packages\\keras\\callbacks.py:122: UserWarning: Method on_batch_end() is slow compared to the batch update (0.106784). Check your callbacks.\n",
      "  % delta_t_median)\n"
     ]
    },
    {
     "name": "stdout",
     "output_type": "stream",
     "text": [
      "4080/8000 [==============>...............] - ETA: 6s - loss: 0.4034 - acc: 0.8368"
     ]
    },
    {
     "name": "stderr",
     "output_type": "stream",
     "text": [
      "C:\\Users\\sandY\\AppData\\Local\\conda\\conda\\envs\\tensorflow\\lib\\site-packages\\keras\\callbacks.py:122: UserWarning: Method on_batch_end() is slow compared to the batch update (0.136304). Check your callbacks.\n",
      "  % delta_t_median)\n"
     ]
    },
    {
     "name": "stdout",
     "output_type": "stream",
     "text": [
      "4330/8000 [===============>..............] - ETA: 6s - loss: 0.4014 - acc: 0.8376"
     ]
    },
    {
     "name": "stderr",
     "output_type": "stream",
     "text": [
      "C:\\Users\\sandY\\AppData\\Local\\conda\\conda\\envs\\tensorflow\\lib\\site-packages\\keras\\callbacks.py:122: UserWarning: Method on_batch_end() is slow compared to the batch update (0.131587). Check your callbacks.\n",
      "  % delta_t_median)\n",
      "C:\\Users\\sandY\\AppData\\Local\\conda\\conda\\envs\\tensorflow\\lib\\site-packages\\keras\\callbacks.py:122: UserWarning: Method on_batch_end() is slow compared to the batch update (0.127084). Check your callbacks.\n",
      "  % delta_t_median)\n"
     ]
    },
    {
     "name": "stdout",
     "output_type": "stream",
     "text": [
      "4380/8000 [===============>..............] - ETA: 7s - loss: 0.4006 - acc: 0.8381"
     ]
    },
    {
     "name": "stderr",
     "output_type": "stream",
     "text": [
      "C:\\Users\\sandY\\AppData\\Local\\conda\\conda\\envs\\tensorflow\\lib\\site-packages\\keras\\callbacks.py:122: UserWarning: Method on_batch_end() is slow compared to the batch update (0.172114). Check your callbacks.\n",
      "  % delta_t_median)\n",
      "C:\\Users\\sandY\\AppData\\Local\\conda\\conda\\envs\\tensorflow\\lib\\site-packages\\keras\\callbacks.py:122: UserWarning: Method on_batch_end() is slow compared to the batch update (0.179119). Check your callbacks.\n",
      "  % delta_t_median)\n",
      "C:\\Users\\sandY\\AppData\\Local\\conda\\conda\\envs\\tensorflow\\lib\\site-packages\\keras\\callbacks.py:122: UserWarning: Method on_batch_end() is slow compared to the batch update (0.163108). Check your callbacks.\n",
      "  % delta_t_median)\n",
      "C:\\Users\\sandY\\AppData\\Local\\conda\\conda\\envs\\tensorflow\\lib\\site-packages\\keras\\callbacks.py:122: UserWarning: Method on_batch_end() is slow compared to the batch update (0.117578). Check your callbacks.\n",
      "  % delta_t_median)\n"
     ]
    },
    {
     "name": "stdout",
     "output_type": "stream",
     "text": [
      "7390/8000 [==========================>...] - ETA: 1s - loss: 0.3971 - acc: 0.8380"
     ]
    },
    {
     "name": "stderr",
     "output_type": "stream",
     "text": [
      "C:\\Users\\sandY\\AppData\\Local\\conda\\conda\\envs\\tensorflow\\lib\\site-packages\\keras\\callbacks.py:122: UserWarning: Method on_batch_end() is slow compared to the batch update (0.132588). Check your callbacks.\n",
      "  % delta_t_median)\n",
      "C:\\Users\\sandY\\AppData\\Local\\conda\\conda\\envs\\tensorflow\\lib\\site-packages\\keras\\callbacks.py:122: UserWarning: Method on_batch_end() is slow compared to the batch update (0.100567). Check your callbacks.\n",
      "  % delta_t_median)\n"
     ]
    },
    {
     "name": "stdout",
     "output_type": "stream",
     "text": [
      "8000/8000 [==============================] - 16s 2ms/step - loss: 0.4004 - acc: 0.8349\n",
      "Epoch 30/100\n",
      "1860/8000 [=====>........................] - ETA: 12s - loss: 0.4034 - acc: 0.8317"
     ]
    },
    {
     "name": "stderr",
     "output_type": "stream",
     "text": [
      "C:\\Users\\sandY\\AppData\\Local\\conda\\conda\\envs\\tensorflow\\lib\\site-packages\\keras\\callbacks.py:122: UserWarning: Method on_batch_end() is slow compared to the batch update (0.172615). Check your callbacks.\n",
      "  % delta_t_median)\n"
     ]
    },
    {
     "name": "stdout",
     "output_type": "stream",
     "text": [
      "1880/8000 [======>.......................] - ETA: 13s - loss: 0.4021 - acc: 0.8319"
     ]
    },
    {
     "name": "stderr",
     "output_type": "stream",
     "text": [
      "C:\\Users\\sandY\\AppData\\Local\\conda\\conda\\envs\\tensorflow\\lib\\site-packages\\keras\\callbacks.py:122: UserWarning: Method on_batch_end() is slow compared to the batch update (0.176617). Check your callbacks.\n",
      "  % delta_t_median)\n",
      "C:\\Users\\sandY\\AppData\\Local\\conda\\conda\\envs\\tensorflow\\lib\\site-packages\\keras\\callbacks.py:122: UserWarning: Method on_batch_end() is slow compared to the batch update (0.122081). Check your callbacks.\n",
      "  % delta_t_median)\n"
     ]
    },
    {
     "name": "stdout",
     "output_type": "stream",
     "text": [
      "8000/8000 [==============================] - 14s 2ms/step - loss: 0.4002 - acc: 0.8369\n",
      "Epoch 31/100\n",
      " 250/8000 [..............................] - ETA: 6s - loss: 0.4013 - acc: 0.8200 "
     ]
    },
    {
     "name": "stderr",
     "output_type": "stream",
     "text": [
      "C:\\Users\\sandY\\AppData\\Local\\conda\\conda\\envs\\tensorflow\\lib\\site-packages\\keras\\callbacks.py:122: UserWarning: Method on_batch_end() is slow compared to the batch update (0.138091). Check your callbacks.\n",
      "  % delta_t_median)\n"
     ]
    },
    {
     "name": "stdout",
     "output_type": "stream",
     "text": [
      "2630/8000 [========>.....................] - ETA: 11s - loss: 0.3986 - acc: 0.8365"
     ]
    },
    {
     "name": "stderr",
     "output_type": "stream",
     "text": [
      "C:\\Users\\sandY\\AppData\\Local\\conda\\conda\\envs\\tensorflow\\lib\\site-packages\\keras\\callbacks.py:122: UserWarning: Method on_batch_end() is slow compared to the batch update (0.103068). Check your callbacks.\n",
      "  % delta_t_median)\n",
      "C:\\Users\\sandY\\AppData\\Local\\conda\\conda\\envs\\tensorflow\\lib\\site-packages\\keras\\callbacks.py:122: UserWarning: Method on_batch_end() is slow compared to the batch update (0.142094). Check your callbacks.\n",
      "  % delta_t_median)\n",
      "C:\\Users\\sandY\\AppData\\Local\\conda\\conda\\envs\\tensorflow\\lib\\site-packages\\keras\\callbacks.py:122: UserWarning: Method on_batch_end() is slow compared to the batch update (0.108071). Check your callbacks.\n",
      "  % delta_t_median)\n"
     ]
    },
    {
     "name": "stdout",
     "output_type": "stream",
     "text": [
      "8000/8000 [==============================] - 13s 2ms/step - loss: 0.4000 - acc: 0.8347\n",
      "Epoch 32/100\n",
      "8000/8000 [==============================] - 11s 1ms/step - loss: 0.3998 - acc: 0.8352\n",
      "Epoch 33/100\n",
      "8000/8000 [==============================] - 14s 2ms/step - loss: 0.3996 - acc: 0.8346\n",
      "Epoch 34/100\n",
      "8000/8000 [==============================] - 13s 2ms/step - loss: 0.3995 - acc: 0.8355\n",
      "Epoch 35/100\n",
      "8000/8000 [==============================] - 14s 2ms/step - loss: 0.3993 - acc: 0.8361\n",
      "Epoch 36/100\n",
      "1550/8000 [====>.........................] - ETA: 8s - loss: 0.3911 - acc: 0.8361"
     ]
    },
    {
     "name": "stderr",
     "output_type": "stream",
     "text": [
      "C:\\Users\\sandY\\AppData\\Local\\conda\\conda\\envs\\tensorflow\\lib\\site-packages\\keras\\callbacks.py:122: UserWarning: Method on_batch_end() is slow compared to the batch update (0.104069). Check your callbacks.\n",
      "  % delta_t_median)\n"
     ]
    },
    {
     "name": "stdout",
     "output_type": "stream",
     "text": [
      "8000/8000 [==============================] - 12s 1ms/step - loss: 0.3990 - acc: 0.8354\n",
      "Epoch 37/100\n",
      "  30/8000 [..............................] - ETA: 1:05 - loss: 0.5658 - acc: 0.7667"
     ]
    },
    {
     "name": "stderr",
     "output_type": "stream",
     "text": [
      "C:\\Users\\sandY\\AppData\\Local\\conda\\conda\\envs\\tensorflow\\lib\\site-packages\\keras\\callbacks.py:122: UserWarning: Method on_batch_end() is slow compared to the batch update (0.119579). Check your callbacks.\n",
      "  % delta_t_median)\n"
     ]
    },
    {
     "name": "stdout",
     "output_type": "stream",
     "text": [
      "8000/8000 [==============================] - 14s 2ms/step - loss: 0.3989 - acc: 0.8376\n",
      "Epoch 38/100\n",
      " 270/8000 [>.............................] - ETA: 8s - loss: 0.3882 - acc: 0.8370 "
     ]
    },
    {
     "name": "stderr",
     "output_type": "stream",
     "text": [
      "C:\\Users\\sandY\\AppData\\Local\\conda\\conda\\envs\\tensorflow\\lib\\site-packages\\keras\\callbacks.py:122: UserWarning: Method on_batch_end() is slow compared to the batch update (0.178117). Check your callbacks.\n",
      "  % delta_t_median)\n"
     ]
    },
    {
     "name": "stdout",
     "output_type": "stream",
     "text": [
      "8000/8000 [==============================] - 14s 2ms/step - loss: 0.3996 - acc: 0.8369\n",
      "Epoch 39/100\n",
      "2290/8000 [=======>......................] - ETA: 11s - loss: 0.4021 - acc: 0.8323"
     ]
    },
    {
     "name": "stderr",
     "output_type": "stream",
     "text": [
      "C:\\Users\\sandY\\AppData\\Local\\conda\\conda\\envs\\tensorflow\\lib\\site-packages\\keras\\callbacks.py:122: UserWarning: Method on_batch_end() is slow compared to the batch update (0.126584). Check your callbacks.\n",
      "  % delta_t_median)\n",
      "C:\\Users\\sandY\\AppData\\Local\\conda\\conda\\envs\\tensorflow\\lib\\site-packages\\keras\\callbacks.py:122: UserWarning: Method on_batch_end() is slow compared to the batch update (0.129086). Check your callbacks.\n",
      "  % delta_t_median)\n"
     ]
    },
    {
     "name": "stdout",
     "output_type": "stream",
     "text": [
      "3870/8000 [=============>................] - ETA: 9s - loss: 0.3999 - acc: 0.8326"
     ]
    },
    {
     "name": "stderr",
     "output_type": "stream",
     "text": [
      "C:\\Users\\sandY\\AppData\\Local\\conda\\conda\\envs\\tensorflow\\lib\\site-packages\\keras\\callbacks.py:122: UserWarning: Method on_batch_end() is slow compared to the batch update (0.102567). Check your callbacks.\n",
      "  % delta_t_median)\n"
     ]
    },
    {
     "name": "stdout",
     "output_type": "stream",
     "text": [
      "4140/8000 [==============>...............] - ETA: 9s - loss: 0.3998 - acc: 0.8331 "
     ]
    },
    {
     "name": "stderr",
     "output_type": "stream",
     "text": [
      "C:\\Users\\sandY\\AppData\\Local\\conda\\conda\\envs\\tensorflow\\lib\\site-packages\\keras\\callbacks.py:122: UserWarning: Method on_batch_end() is slow compared to the batch update (0.160106). Check your callbacks.\n",
      "  % delta_t_median)\n",
      "C:\\Users\\sandY\\AppData\\Local\\conda\\conda\\envs\\tensorflow\\lib\\site-packages\\keras\\callbacks.py:122: UserWarning: Method on_batch_end() is slow compared to the batch update (0.133589). Check your callbacks.\n",
      "  % delta_t_median)\n",
      "C:\\Users\\sandY\\AppData\\Local\\conda\\conda\\envs\\tensorflow\\lib\\site-packages\\keras\\callbacks.py:122: UserWarning: Method on_batch_end() is slow compared to the batch update (0.107071). Check your callbacks.\n",
      "  % delta_t_median)\n"
     ]
    },
    {
     "name": "stdout",
     "output_type": "stream",
     "text": [
      "5470/8000 [===================>..........] - ETA: 5s - loss: 0.3945 - acc: 0.8353"
     ]
    },
    {
     "name": "stderr",
     "output_type": "stream",
     "text": [
      "C:\\Users\\sandY\\AppData\\Local\\conda\\conda\\envs\\tensorflow\\lib\\site-packages\\keras\\callbacks.py:122: UserWarning: Method on_batch_end() is slow compared to the batch update (0.118578). Check your callbacks.\n",
      "  % delta_t_median)\n"
     ]
    },
    {
     "name": "stdout",
     "output_type": "stream",
     "text": [
      "8000/8000 [==============================] - 19s 2ms/step - loss: 0.3993 - acc: 0.8346\n",
      "Epoch 40/100\n",
      "8000/8000 [==============================] - 12s 2ms/step - loss: 0.3989 - acc: 0.8351\n",
      "Epoch 41/100\n",
      "  10/8000 [..............................] - ETA: 3s - loss: 0.3125 - acc: 0.9000"
     ]
    },
    {
     "name": "stderr",
     "output_type": "stream",
     "text": [
      "C:\\Users\\sandY\\AppData\\Local\\conda\\conda\\envs\\tensorflow\\lib\\site-packages\\keras\\callbacks.py:122: UserWarning: Method on_batch_end() is slow compared to the batch update (0.171113). Check your callbacks.\n",
      "  % delta_t_median)\n"
     ]
    },
    {
     "name": "stdout",
     "output_type": "stream",
     "text": [
      "  30/8000 [..............................] - ETA: 2:03 - loss: 0.3167 - acc: 0.8667"
     ]
    },
    {
     "name": "stderr",
     "output_type": "stream",
     "text": [
      "C:\\Users\\sandY\\AppData\\Local\\conda\\conda\\envs\\tensorflow\\lib\\site-packages\\keras\\callbacks.py:122: UserWarning: Method on_batch_end() is slow compared to the batch update (0.227650). Check your callbacks.\n",
      "  % delta_t_median)\n"
     ]
    },
    {
     "name": "stdout",
     "output_type": "stream",
     "text": [
      "\b\b\b\b\b\b\b\b\b\b\b\b\b\b\b\b\b\b\b\b\b\b\b\b\b\b\b\b\b\b\b\b\b\b\b\b\b\b\b\b\b\b\b\b\b\b\b\b\b\b\b\b\b\b\b\b\b\b\b\b\b\b\b\b\b\b\b\b\b\b\b\b\b\b\b\b\b\b\b\b\b\b\b\r",
      "  40/8000 [..............................] - ETA: 2:09 - loss: 0.3032 - acc: 0.8750"
     ]
    },
    {
     "name": "stderr",
     "output_type": "stream",
     "text": [
      "C:\\Users\\sandY\\AppData\\Local\\conda\\conda\\envs\\tensorflow\\lib\\site-packages\\keras\\callbacks.py:122: UserWarning: Method on_batch_end() is slow compared to the batch update (0.182121). Check your callbacks.\n",
      "  % delta_t_median)\n"
     ]
    },
    {
     "name": "stdout",
     "output_type": "stream",
     "text": [
      "  60/8000 [..............................] - ETA: 2:03 - loss: 0.2685 - acc: 0.9000"
     ]
    },
    {
     "name": "stderr",
     "output_type": "stream",
     "text": [
      "C:\\Users\\sandY\\AppData\\Local\\conda\\conda\\envs\\tensorflow\\lib\\site-packages\\keras\\callbacks.py:122: UserWarning: Method on_batch_end() is slow compared to the batch update (0.189626). Check your callbacks.\n",
      "  % delta_t_median)\n"
     ]
    },
    {
     "name": "stdout",
     "output_type": "stream",
     "text": [
      "8000/8000 [==============================] - 12s 1ms/step - loss: 0.3989 - acc: 0.8349\n",
      "Epoch 42/100\n",
      "  20/8000 [..............................] - ETA: 1:07 - loss: 0.4850 - acc: 0.8000"
     ]
    },
    {
     "name": "stderr",
     "output_type": "stream",
     "text": [
      "C:\\Users\\sandY\\AppData\\Local\\conda\\conda\\envs\\tensorflow\\lib\\site-packages\\keras\\callbacks.py:122: UserWarning: Method on_batch_end() is slow compared to the batch update (0.164109). Check your callbacks.\n",
      "  % delta_t_median)\n",
      "C:\\Users\\sandY\\AppData\\Local\\conda\\conda\\envs\\tensorflow\\lib\\site-packages\\keras\\callbacks.py:122: UserWarning: Method on_batch_end() is slow compared to the batch update (0.154602). Check your callbacks.\n",
      "  % delta_t_median)\n"
     ]
    },
    {
     "name": "stdout",
     "output_type": "stream",
     "text": [
      "\b\b\b\b\b\b\b\b\b\b\b\b\b\b\b\b\b\b\b\b\b\b\b\b\b\b\b\b\b\b\b\b\b\b\b\b\b\b\b\b\b\b\b\b\b\b\b\b\b\b\b\b\b\b\b\b\b\b\b\b\b\b\b\b\b\b\b\b\b\b\b\b\b\b\b\b\b\b\b\b\b\b\b\r",
      "  30/8000 [..............................] - ETA: 1:24 - loss: 0.4544 - acc: 0.8000"
     ]
    },
    {
     "name": "stderr",
     "output_type": "stream",
     "text": [
      "C:\\Users\\sandY\\AppData\\Local\\conda\\conda\\envs\\tensorflow\\lib\\site-packages\\keras\\callbacks.py:122: UserWarning: Method on_batch_end() is slow compared to the batch update (0.145096). Check your callbacks.\n",
      "  % delta_t_median)\n"
     ]
    },
    {
     "name": "stdout",
     "output_type": "stream",
     "text": [
      " 280/8000 [>.............................] - ETA: 22s - loss: 0.4375 - acc: 0.8250 "
     ]
    },
    {
     "name": "stderr",
     "output_type": "stream",
     "text": [
      "C:\\Users\\sandY\\AppData\\Local\\conda\\conda\\envs\\tensorflow\\lib\\site-packages\\keras\\callbacks.py:122: UserWarning: Method on_batch_end() is slow compared to the batch update (0.128585). Check your callbacks.\n",
      "  % delta_t_median)\n"
     ]
    },
    {
     "name": "stdout",
     "output_type": "stream",
     "text": [
      "2920/8000 [=========>....................] - ETA: 13s - loss: 0.4107 - acc: 0.8363"
     ]
    },
    {
     "name": "stderr",
     "output_type": "stream",
     "text": [
      "C:\\Users\\sandY\\AppData\\Local\\conda\\conda\\envs\\tensorflow\\lib\\site-packages\\keras\\callbacks.py:122: UserWarning: Method on_batch_end() is slow compared to the batch update (0.105069). Check your callbacks.\n",
      "  % delta_t_median)\n"
     ]
    },
    {
     "name": "stdout",
     "output_type": "stream",
     "text": [
      "8000/8000 [==============================] - 16s 2ms/step - loss: 0.3990 - acc: 0.8356\n",
      "Epoch 43/100\n",
      "  30/8000 [..............................] - ETA: 1:14 - loss: 0.5131 - acc: 0.8000"
     ]
    },
    {
     "name": "stderr",
     "output_type": "stream",
     "text": [
      "C:\\Users\\sandY\\AppData\\Local\\conda\\conda\\envs\\tensorflow\\lib\\site-packages\\keras\\callbacks.py:122: UserWarning: Method on_batch_end() is slow compared to the batch update (0.174116). Check your callbacks.\n",
      "  % delta_t_median)\n",
      "C:\\Users\\sandY\\AppData\\Local\\conda\\conda\\envs\\tensorflow\\lib\\site-packages\\keras\\callbacks.py:122: UserWarning: Method on_batch_end() is slow compared to the batch update (0.136591). Check your callbacks.\n",
      "  % delta_t_median)\n"
     ]
    },
    {
     "name": "stdout",
     "output_type": "stream",
     "text": [
      "3380/8000 [===========>..................] - ETA: 9s - loss: 0.3944 - acc: 0.8405"
     ]
    },
    {
     "name": "stderr",
     "output_type": "stream",
     "text": [
      "C:\\Users\\sandY\\AppData\\Local\\conda\\conda\\envs\\tensorflow\\lib\\site-packages\\keras\\callbacks.py:122: UserWarning: Method on_batch_end() is slow compared to the batch update (0.161607). Check your callbacks.\n",
      "  % delta_t_median)\n"
     ]
    },
    {
     "name": "stdout",
     "output_type": "stream",
     "text": [
      "3650/8000 [============>.................] - ETA: 8s - loss: 0.3968 - acc: 0.8395"
     ]
    },
    {
     "name": "stderr",
     "output_type": "stream",
     "text": [
      "C:\\Users\\sandY\\AppData\\Local\\conda\\conda\\envs\\tensorflow\\lib\\site-packages\\keras\\callbacks.py:122: UserWarning: Method on_batch_end() is slow compared to the batch update (0.216643). Check your callbacks.\n",
      "  % delta_t_median)\n",
      "C:\\Users\\sandY\\AppData\\Local\\conda\\conda\\envs\\tensorflow\\lib\\site-packages\\keras\\callbacks.py:122: UserWarning: Method on_batch_end() is slow compared to the batch update (0.148599). Check your callbacks.\n",
      "  % delta_t_median)\n"
     ]
    },
    {
     "name": "stdout",
     "output_type": "stream",
     "text": [
      "8000/8000 [==============================] - 15s 2ms/step - loss: 0.3986 - acc: 0.8357\n",
      "Epoch 44/100\n",
      "3130/8000 [==========>...................] - ETA: 8s - loss: 0.3961 - acc: 0.8329"
     ]
    },
    {
     "name": "stderr",
     "output_type": "stream",
     "text": [
      "C:\\Users\\sandY\\AppData\\Local\\conda\\conda\\envs\\tensorflow\\lib\\site-packages\\keras\\callbacks.py:122: UserWarning: Method on_batch_end() is slow compared to the batch update (0.169112). Check your callbacks.\n",
      "  % delta_t_median)\n",
      "C:\\Users\\sandY\\AppData\\Local\\conda\\conda\\envs\\tensorflow\\lib\\site-packages\\keras\\callbacks.py:122: UserWarning: Method on_batch_end() is slow compared to the batch update (0.169611). Check your callbacks.\n",
      "  % delta_t_median)\n"
     ]
    },
    {
     "name": "stdout",
     "output_type": "stream",
     "text": [
      "8000/8000 [==============================] - 14s 2ms/step - loss: 0.3988 - acc: 0.8355\n",
      "Epoch 45/100\n",
      "  60/8000 [..............................] - ETA: 1:41 - loss: 0.3786 - acc: 0.8500"
     ]
    },
    {
     "name": "stderr",
     "output_type": "stream",
     "text": [
      "C:\\Users\\sandY\\AppData\\Local\\conda\\conda\\envs\\tensorflow\\lib\\site-packages\\keras\\callbacks.py:122: UserWarning: Method on_batch_end() is slow compared to the batch update (0.162607). Check your callbacks.\n",
      "  % delta_t_median)\n",
      "C:\\Users\\sandY\\AppData\\Local\\conda\\conda\\envs\\tensorflow\\lib\\site-packages\\keras\\callbacks.py:122: UserWarning: Method on_batch_end() is slow compared to the batch update (0.162608). Check your callbacks.\n",
      "  % delta_t_median)\n",
      "C:\\Users\\sandY\\AppData\\Local\\conda\\conda\\envs\\tensorflow\\lib\\site-packages\\keras\\callbacks.py:122: UserWarning: Method on_batch_end() is slow compared to the batch update (0.102068). Check your callbacks.\n",
      "  % delta_t_median)\n"
     ]
    },
    {
     "name": "stdout",
     "output_type": "stream",
     "text": [
      "8000/8000 [==============================] - 16s 2ms/step - loss: 0.3980 - acc: 0.8371\n",
      "Epoch 46/100\n",
      "3150/8000 [==========>...................] - ETA: 12s - loss: 0.4136 - acc: 0.8238"
     ]
    },
    {
     "name": "stderr",
     "output_type": "stream",
     "text": [
      "C:\\Users\\sandY\\AppData\\Local\\conda\\conda\\envs\\tensorflow\\lib\\site-packages\\keras\\callbacks.py:122: UserWarning: Method on_batch_end() is slow compared to the batch update (0.101124). Check your callbacks.\n",
      "  % delta_t_median)\n"
     ]
    },
    {
     "name": "stdout",
     "output_type": "stream",
     "text": [
      "3670/8000 [============>.................] - ETA: 10s - loss: 0.4036 - acc: 0.8297"
     ]
    },
    {
     "name": "stderr",
     "output_type": "stream",
     "text": [
      "C:\\Users\\sandY\\AppData\\Local\\conda\\conda\\envs\\tensorflow\\lib\\site-packages\\keras\\callbacks.py:122: UserWarning: Method on_batch_end() is slow compared to the batch update (0.107128). Check your callbacks.\n",
      "  % delta_t_median)\n"
     ]
    },
    {
     "name": "stdout",
     "output_type": "stream",
     "text": [
      "8000/8000 [==============================] - 15s 2ms/step - loss: 0.3986 - acc: 0.8326\n",
      "Epoch 47/100\n",
      "  20/8000 [..............................] - ETA: 39s - loss: 0.2950 - acc: 0.9000"
     ]
    },
    {
     "name": "stderr",
     "output_type": "stream",
     "text": [
      "C:\\Users\\sandY\\AppData\\Local\\conda\\conda\\envs\\tensorflow\\lib\\site-packages\\keras\\callbacks.py:122: UserWarning: Method on_batch_end() is slow compared to the batch update (0.189125). Check your callbacks.\n",
      "  % delta_t_median)\n"
     ]
    },
    {
     "name": "stdout",
     "output_type": "stream",
     "text": [
      "  50/8000 [..............................] - ETA: 1:54 - loss: 0.2909 - acc: 0.8600"
     ]
    },
    {
     "name": "stderr",
     "output_type": "stream",
     "text": [
      "C:\\Users\\sandY\\AppData\\Local\\conda\\conda\\envs\\tensorflow\\lib\\site-packages\\keras\\callbacks.py:122: UserWarning: Method on_batch_end() is slow compared to the batch update (0.270179). Check your callbacks.\n",
      "  % delta_t_median)\n",
      "C:\\Users\\sandY\\AppData\\Local\\conda\\conda\\envs\\tensorflow\\lib\\site-packages\\keras\\callbacks.py:122: UserWarning: Method on_batch_end() is slow compared to the batch update (0.180620). Check your callbacks.\n",
      "  % delta_t_median)\n"
     ]
    },
    {
     "name": "stdout",
     "output_type": "stream",
     "text": [
      "3920/8000 [=============>................] - ETA: 8s - loss: 0.3970 - acc: 0.8349"
     ]
    },
    {
     "name": "stderr",
     "output_type": "stream",
     "text": [
      "C:\\Users\\sandY\\AppData\\Local\\conda\\conda\\envs\\tensorflow\\lib\\site-packages\\keras\\callbacks.py:122: UserWarning: Method on_batch_end() is slow compared to the batch update (0.114576). Check your callbacks.\n",
      "  % delta_t_median)\n"
     ]
    },
    {
     "name": "stdout",
     "output_type": "stream",
     "text": [
      "7430/8000 [==========================>...] - ETA: 1s - loss: 0.4002 - acc: 0.8350"
     ]
    },
    {
     "name": "stderr",
     "output_type": "stream",
     "text": [
      "C:\\Users\\sandY\\AppData\\Local\\conda\\conda\\envs\\tensorflow\\lib\\site-packages\\keras\\callbacks.py:122: UserWarning: Method on_batch_end() is slow compared to the batch update (0.109071). Check your callbacks.\n",
      "  % delta_t_median)\n",
      "C:\\Users\\sandY\\AppData\\Local\\conda\\conda\\envs\\tensorflow\\lib\\site-packages\\keras\\callbacks.py:122: UserWarning: Method on_batch_end() is slow compared to the batch update (0.159105). Check your callbacks.\n",
      "  % delta_t_median)\n"
     ]
    },
    {
     "name": "stdout",
     "output_type": "stream",
     "text": [
      "8000/8000 [==============================] - 16s 2ms/step - loss: 0.3989 - acc: 0.8346\n",
      "Epoch 48/100\n",
      "4790/8000 [================>.............] - ETA: 4s - loss: 0.4029 - acc: 0.8317"
     ]
    },
    {
     "name": "stderr",
     "output_type": "stream",
     "text": [
      "C:\\Users\\sandY\\AppData\\Local\\conda\\conda\\envs\\tensorflow\\lib\\site-packages\\keras\\callbacks.py:122: UserWarning: Method on_batch_end() is slow compared to the batch update (0.130086). Check your callbacks.\n",
      "  % delta_t_median)\n",
      "C:\\Users\\sandY\\AppData\\Local\\conda\\conda\\envs\\tensorflow\\lib\\site-packages\\keras\\callbacks.py:122: UserWarning: Method on_batch_end() is slow compared to the batch update (0.112575). Check your callbacks.\n",
      "  % delta_t_median)\n"
     ]
    },
    {
     "name": "stdout",
     "output_type": "stream",
     "text": [
      "8000/8000 [==============================] - 13s 2ms/step - loss: 0.3977 - acc: 0.8344\n",
      "Epoch 49/100\n",
      " 260/8000 [..............................] - ETA: 11s - loss: 0.3562 - acc: 0.8577"
     ]
    },
    {
     "name": "stderr",
     "output_type": "stream",
     "text": [
      "C:\\Users\\sandY\\AppData\\Local\\conda\\conda\\envs\\tensorflow\\lib\\site-packages\\keras\\callbacks.py:122: UserWarning: Method on_batch_end() is slow compared to the batch update (0.258171). Check your callbacks.\n",
      "  % delta_t_median)\n"
     ]
    },
    {
     "name": "stdout",
     "output_type": "stream",
     "text": [
      "1320/8000 [===>..........................] - ETA: 13s - loss: 0.3993 - acc: 0.8386"
     ]
    },
    {
     "name": "stderr",
     "output_type": "stream",
     "text": [
      "C:\\Users\\sandY\\AppData\\Local\\conda\\conda\\envs\\tensorflow\\lib\\site-packages\\keras\\callbacks.py:122: UserWarning: Method on_batch_end() is slow compared to the batch update (0.115076). Check your callbacks.\n",
      "  % delta_t_median)\n"
     ]
    },
    {
     "name": "stdout",
     "output_type": "stream",
     "text": [
      "8000/8000 [==============================] - 12s 1ms/step - loss: 0.3984 - acc: 0.8352\n",
      "Epoch 50/100\n",
      "7680/8000 [===========================>..] - ETA: 0s - loss: 0.3981 - acc: 0.8350"
     ]
    },
    {
     "name": "stderr",
     "output_type": "stream",
     "text": [
      "C:\\Users\\sandY\\AppData\\Local\\conda\\conda\\envs\\tensorflow\\lib\\site-packages\\keras\\callbacks.py:122: UserWarning: Method on_batch_end() is slow compared to the batch update (0.143628). Check your callbacks.\n",
      "  % delta_t_median)\n"
     ]
    },
    {
     "name": "stdout",
     "output_type": "stream",
     "text": [
      "8000/8000 [==============================] - 14s 2ms/step - loss: 0.3985 - acc: 0.8351\n",
      "Epoch 51/100\n",
      "4170/8000 [==============>...............] - ETA: 7s - loss: 0.3952 - acc: 0.8353"
     ]
    },
    {
     "name": "stderr",
     "output_type": "stream",
     "text": [
      "C:\\Users\\sandY\\AppData\\Local\\conda\\conda\\envs\\tensorflow\\lib\\site-packages\\keras\\callbacks.py:122: UserWarning: Method on_batch_end() is slow compared to the batch update (0.101567). Check your callbacks.\n",
      "  % delta_t_median)\n"
     ]
    },
    {
     "name": "stdout",
     "output_type": "stream",
     "text": [
      "4200/8000 [==============>...............] - ETA: 8s - loss: 0.3943 - acc: 0.8357"
     ]
    },
    {
     "name": "stderr",
     "output_type": "stream",
     "text": [
      "C:\\Users\\sandY\\AppData\\Local\\conda\\conda\\envs\\tensorflow\\lib\\site-packages\\keras\\callbacks.py:122: UserWarning: Method on_batch_end() is slow compared to the batch update (0.114570). Check your callbacks.\n",
      "  % delta_t_median)\n",
      "C:\\Users\\sandY\\AppData\\Local\\conda\\conda\\envs\\tensorflow\\lib\\site-packages\\keras\\callbacks.py:122: UserWarning: Method on_batch_end() is slow compared to the batch update (0.103568). Check your callbacks.\n",
      "  % delta_t_median)\n"
     ]
    },
    {
     "name": "stdout",
     "output_type": "stream",
     "text": [
      "8000/8000 [==============================] - 16s 2ms/step - loss: 0.3980 - acc: 0.8342\n",
      "Epoch 52/100\n",
      "  30/8000 [..............................] - ETA: 1:07 - loss: 0.3366 - acc: 0.8667"
     ]
    },
    {
     "name": "stderr",
     "output_type": "stream",
     "text": [
      "C:\\Users\\sandY\\AppData\\Local\\conda\\conda\\envs\\tensorflow\\lib\\site-packages\\keras\\callbacks.py:122: UserWarning: Method on_batch_end() is slow compared to the batch update (0.141094). Check your callbacks.\n",
      "  % delta_t_median)\n",
      "C:\\Users\\sandY\\AppData\\Local\\conda\\conda\\envs\\tensorflow\\lib\\site-packages\\keras\\callbacks.py:122: UserWarning: Method on_batch_end() is slow compared to the batch update (0.122581). Check your callbacks.\n",
      "  % delta_t_median)\n"
     ]
    },
    {
     "name": "stdout",
     "output_type": "stream",
     "text": [
      "8000/8000 [==============================] - 13s 2ms/step - loss: 0.3981 - acc: 0.8360\n",
      "Epoch 53/100\n",
      "8000/8000 [==============================] - 14s 2ms/step - loss: 0.3986 - acc: 0.8340\n",
      "Epoch 54/100\n",
      "  20/8000 [..............................] - ETA: 1:53 - loss: 0.6044 - acc: 0.7000"
     ]
    },
    {
     "name": "stderr",
     "output_type": "stream",
     "text": [
      "C:\\Users\\sandY\\AppData\\Local\\conda\\conda\\envs\\tensorflow\\lib\\site-packages\\keras\\callbacks.py:122: UserWarning: Method on_batch_end() is slow compared to the batch update (0.278183). Check your callbacks.\n",
      "  % delta_t_median)\n",
      "C:\\Users\\sandY\\AppData\\Local\\conda\\conda\\envs\\tensorflow\\lib\\site-packages\\keras\\callbacks.py:122: UserWarning: Method on_batch_end() is slow compared to the batch update (0.178618). Check your callbacks.\n",
      "  % delta_t_median)\n"
     ]
    },
    {
     "name": "stdout",
     "output_type": "stream",
     "text": [
      "  40/8000 [..............................] - ETA: 1:52 - loss: 0.5397 - acc: 0.7250"
     ]
    },
    {
     "name": "stderr",
     "output_type": "stream",
     "text": [
      "C:\\Users\\sandY\\AppData\\Local\\conda\\conda\\envs\\tensorflow\\lib\\site-packages\\keras\\callbacks.py:122: UserWarning: Method on_batch_end() is slow compared to the batch update (0.192127). Check your callbacks.\n",
      "  % delta_t_median)\n",
      "C:\\Users\\sandY\\AppData\\Local\\conda\\conda\\envs\\tensorflow\\lib\\site-packages\\keras\\callbacks.py:122: UserWarning: Method on_batch_end() is slow compared to the batch update (0.135590). Check your callbacks.\n",
      "  % delta_t_median)\n"
     ]
    },
    {
     "name": "stdout",
     "output_type": "stream",
     "text": [
      "8000/8000 [==============================] - 15s 2ms/step - loss: 0.3981 - acc: 0.8339\n",
      "Epoch 55/100\n",
      "8000/8000 [==============================] - 12s 2ms/step - loss: 0.3980 - acc: 0.8351\n",
      "Epoch 56/100\n",
      "8000/8000 [==============================] - 13s 2ms/step - loss: 0.3979 - acc: 0.8365\n",
      "Epoch 57/100\n",
      "8000/8000 [==============================] - 15s 2ms/step - loss: 0.3983 - acc: 0.8369\n",
      "Epoch 58/100\n",
      "  20/8000 [..............................] - ETA: 1:01 - loss: 0.4359 - acc: 0.8500"
     ]
    },
    {
     "name": "stderr",
     "output_type": "stream",
     "text": [
      "C:\\Users\\sandY\\AppData\\Local\\conda\\conda\\envs\\tensorflow\\lib\\site-packages\\keras\\callbacks.py:122: UserWarning: Method on_batch_end() is slow compared to the batch update (0.147097). Check your callbacks.\n",
      "  % delta_t_median)\n"
     ]
    },
    {
     "name": "stdout",
     "output_type": "stream",
     "text": [
      "8000/8000 [==============================] - 14s 2ms/step - loss: 0.3976 - acc: 0.8346\n",
      "Epoch 59/100\n",
      "  20/8000 [..............................] - ETA: 47s - loss: 0.3617 - acc: 0.8500"
     ]
    },
    {
     "name": "stderr",
     "output_type": "stream",
     "text": [
      "C:\\Users\\sandY\\AppData\\Local\\conda\\conda\\envs\\tensorflow\\lib\\site-packages\\keras\\callbacks.py:122: UserWarning: Method on_batch_end() is slow compared to the batch update (0.111074). Check your callbacks.\n",
      "  % delta_t_median)\n"
     ]
    },
    {
     "name": "stdout",
     "output_type": "stream",
     "text": [
      "8000/8000 [==============================] - 13s 2ms/step - loss: 0.3982 - acc: 0.8357\n",
      "Epoch 60/100\n",
      "8000/8000 [==============================] - 13s 2ms/step - loss: 0.3980 - acc: 0.8360\n",
      "Epoch 61/100\n",
      "8000/8000 [==============================] - 15s 2ms/step - loss: 0.3977 - acc: 0.8341\n",
      "Epoch 62/100\n",
      "8000/8000 [==============================] - 16s 2ms/step - loss: 0.3983 - acc: 0.8345\n",
      "Epoch 63/100\n",
      " 260/8000 [..............................] - ETA: 16s - loss: 0.3688 - acc: 0.8654 "
     ]
    },
    {
     "name": "stderr",
     "output_type": "stream",
     "text": [
      "C:\\Users\\sandY\\AppData\\Local\\conda\\conda\\envs\\tensorflow\\lib\\site-packages\\keras\\callbacks.py:122: UserWarning: Method on_batch_end() is slow compared to the batch update (0.246654). Check your callbacks.\n",
      "  % delta_t_median)\n",
      "C:\\Users\\sandY\\AppData\\Local\\conda\\conda\\envs\\tensorflow\\lib\\site-packages\\keras\\callbacks.py:122: UserWarning: Method on_batch_end() is slow compared to the batch update (0.178118). Check your callbacks.\n",
      "  % delta_t_median)\n"
     ]
    },
    {
     "name": "stdout",
     "output_type": "stream",
     "text": [
      "2840/8000 [=========>....................] - ETA: 10s - loss: 0.3892 - acc: 0.8458"
     ]
    },
    {
     "name": "stderr",
     "output_type": "stream",
     "text": [
      "C:\\Users\\sandY\\AppData\\Local\\conda\\conda\\envs\\tensorflow\\lib\\site-packages\\keras\\callbacks.py:122: UserWarning: Method on_batch_end() is slow compared to the batch update (0.105570). Check your callbacks.\n",
      "  % delta_t_median)\n"
     ]
    },
    {
     "name": "stdout",
     "output_type": "stream",
     "text": [
      "8000/8000 [==============================] - 16s 2ms/step - loss: 0.3976 - acc: 0.8362\n",
      "Epoch 64/100\n",
      "  50/8000 [..............................] - ETA: 1:50 - loss: 0.3602 - acc: 0.8200"
     ]
    },
    {
     "name": "stderr",
     "output_type": "stream",
     "text": [
      "C:\\Users\\sandY\\AppData\\Local\\conda\\conda\\envs\\tensorflow\\lib\\site-packages\\keras\\callbacks.py:122: UserWarning: Method on_batch_end() is slow compared to the batch update (0.122238). Check your callbacks.\n",
      "  % delta_t_median)\n"
     ]
    },
    {
     "name": "stdout",
     "output_type": "stream",
     "text": [
      "8000/8000 [==============================] - 13s 2ms/step - loss: 0.3978 - acc: 0.8331\n",
      "Epoch 65/100\n",
      "1760/8000 [=====>........................] - ETA: 16s - loss: 0.3879 - acc: 0.8449"
     ]
    },
    {
     "name": "stderr",
     "output_type": "stream",
     "text": [
      "C:\\Users\\sandY\\AppData\\Local\\conda\\conda\\envs\\tensorflow\\lib\\site-packages\\keras\\callbacks.py:122: UserWarning: Method on_batch_end() is slow compared to the batch update (0.112090). Check your callbacks.\n",
      "  % delta_t_median)\n"
     ]
    },
    {
     "name": "stdout",
     "output_type": "stream",
     "text": [
      "1780/8000 [=====>........................] - ETA: 16s - loss: 0.3853 - acc: 0.8461"
     ]
    },
    {
     "name": "stderr",
     "output_type": "stream",
     "text": [
      "C:\\Users\\sandY\\AppData\\Local\\conda\\conda\\envs\\tensorflow\\lib\\site-packages\\keras\\callbacks.py:122: UserWarning: Method on_batch_end() is slow compared to the batch update (0.114591). Check your callbacks.\n",
      "  % delta_t_median)\n"
     ]
    },
    {
     "name": "stdout",
     "output_type": "stream",
     "text": [
      "3970/8000 [=============>................] - ETA: 10s - loss: 0.3986 - acc: 0.8340"
     ]
    },
    {
     "name": "stderr",
     "output_type": "stream",
     "text": [
      "C:\\Users\\sandY\\AppData\\Local\\conda\\conda\\envs\\tensorflow\\lib\\site-packages\\keras\\callbacks.py:122: UserWarning: Method on_batch_end() is slow compared to the batch update (0.103569). Check your callbacks.\n",
      "  % delta_t_median)\n"
     ]
    },
    {
     "name": "stdout",
     "output_type": "stream",
     "text": [
      "3990/8000 [=============>................] - ETA: 10s - loss: 0.3982 - acc: 0.8343"
     ]
    },
    {
     "name": "stderr",
     "output_type": "stream",
     "text": [
      "C:\\Users\\sandY\\AppData\\Local\\conda\\conda\\envs\\tensorflow\\lib\\site-packages\\keras\\callbacks.py:122: UserWarning: Method on_batch_end() is slow compared to the batch update (0.138592). Check your callbacks.\n",
      "  % delta_t_median)\n"
     ]
    },
    {
     "name": "stdout",
     "output_type": "stream",
     "text": [
      "8000/8000 [==============================] - 19s 2ms/step - loss: 0.3985 - acc: 0.8351\n",
      "Epoch 66/100\n",
      "5530/8000 [===================>..........] - ETA: 5s - loss: 0.4030 - acc: 0.8320"
     ]
    },
    {
     "name": "stderr",
     "output_type": "stream",
     "text": [
      "C:\\Users\\sandY\\AppData\\Local\\conda\\conda\\envs\\tensorflow\\lib\\site-packages\\keras\\callbacks.py:122: UserWarning: Method on_batch_end() is slow compared to the batch update (0.129085). Check your callbacks.\n",
      "  % delta_t_median)\n"
     ]
    },
    {
     "name": "stdout",
     "output_type": "stream",
     "text": [
      "7370/8000 [==========================>...] - ETA: 1s - loss: 0.3992 - acc: 0.8328"
     ]
    },
    {
     "name": "stderr",
     "output_type": "stream",
     "text": [
      "C:\\Users\\sandY\\AppData\\Local\\conda\\conda\\envs\\tensorflow\\lib\\site-packages\\keras\\callbacks.py:122: UserWarning: Method on_batch_end() is slow compared to the batch update (0.145095). Check your callbacks.\n",
      "  % delta_t_median)\n",
      "C:\\Users\\sandY\\AppData\\Local\\conda\\conda\\envs\\tensorflow\\lib\\site-packages\\keras\\callbacks.py:122: UserWarning: Method on_batch_end() is slow compared to the batch update (0.170612). Check your callbacks.\n",
      "  % delta_t_median)\n"
     ]
    },
    {
     "name": "stdout",
     "output_type": "stream",
     "text": [
      "8000/8000 [==============================] - 18s 2ms/step - loss: 0.3979 - acc: 0.8344\n",
      "Epoch 67/100\n",
      "8000/8000 [==============================] - 17s 2ms/step - loss: 0.3978 - acc: 0.8339\n",
      "Epoch 68/100\n",
      "  30/8000 [..............................] - ETA: 1:55 - loss: 0.3775 - acc: 0.8333"
     ]
    },
    {
     "name": "stderr",
     "output_type": "stream",
     "text": [
      "C:\\Users\\sandY\\AppData\\Local\\conda\\conda\\envs\\tensorflow\\lib\\site-packages\\keras\\callbacks.py:122: UserWarning: Method on_batch_end() is slow compared to the batch update (0.244161). Check your callbacks.\n",
      "  % delta_t_median)\n",
      "C:\\Users\\sandY\\AppData\\Local\\conda\\conda\\envs\\tensorflow\\lib\\site-packages\\keras\\callbacks.py:122: UserWarning: Method on_batch_end() is slow compared to the batch update (0.212140). Check your callbacks.\n",
      "  % delta_t_median)\n"
     ]
    },
    {
     "name": "stdout",
     "output_type": "stream",
     "text": [
      " 260/8000 [..............................] - ETA: 17s - loss: 0.3374 - acc: 0.8692"
     ]
    },
    {
     "name": "stderr",
     "output_type": "stream",
     "text": [
      "C:\\Users\\sandY\\AppData\\Local\\conda\\conda\\envs\\tensorflow\\lib\\site-packages\\keras\\callbacks.py:122: UserWarning: Method on_batch_end() is slow compared to the batch update (0.180119). Check your callbacks.\n",
      "  % delta_t_median)\n"
     ]
    },
    {
     "name": "stdout",
     "output_type": "stream",
     "text": [
      "5120/8000 [==================>...........] - ETA: 5s - loss: 0.3958 - acc: 0.8363"
     ]
    },
    {
     "name": "stderr",
     "output_type": "stream",
     "text": [
      "C:\\Users\\sandY\\AppData\\Local\\conda\\conda\\envs\\tensorflow\\lib\\site-packages\\keras\\callbacks.py:122: UserWarning: Method on_batch_end() is slow compared to the batch update (0.114537). Check your callbacks.\n",
      "  % delta_t_median)\n"
     ]
    },
    {
     "name": "stdout",
     "output_type": "stream",
     "text": [
      "8000/8000 [==============================] - 15s 2ms/step - loss: 0.3969 - acc: 0.8360\n",
      "Epoch 69/100\n",
      " 250/8000 [..............................] - ETA: 10s - loss: 0.4598 - acc: 0.7760"
     ]
    },
    {
     "name": "stderr",
     "output_type": "stream",
     "text": [
      "C:\\Users\\sandY\\AppData\\Local\\conda\\conda\\envs\\tensorflow\\lib\\site-packages\\keras\\callbacks.py:122: UserWarning: Method on_batch_end() is slow compared to the batch update (0.177118). Check your callbacks.\n",
      "  % delta_t_median)\n"
     ]
    },
    {
     "name": "stdout",
     "output_type": "stream",
     "text": [
      "8000/8000 [==============================] - 12s 2ms/step - loss: 0.3977 - acc: 0.8357\n",
      "Epoch 70/100\n",
      "  20/8000 [..............................] - ETA: 1:44 - loss: 0.5152 - acc: 0.8000"
     ]
    },
    {
     "name": "stderr",
     "output_type": "stream",
     "text": [
      "C:\\Users\\sandY\\AppData\\Local\\conda\\conda\\envs\\tensorflow\\lib\\site-packages\\keras\\callbacks.py:122: UserWarning: Method on_batch_end() is slow compared to the batch update (0.255169). Check your callbacks.\n",
      "  % delta_t_median)\n",
      "C:\\Users\\sandY\\AppData\\Local\\conda\\conda\\envs\\tensorflow\\lib\\site-packages\\keras\\callbacks.py:122: UserWarning: Method on_batch_end() is slow compared to the batch update (0.215643). Check your callbacks.\n",
      "  % delta_t_median)\n"
     ]
    },
    {
     "name": "stdout",
     "output_type": "stream",
     "text": [
      " 280/8000 [>.............................] - ETA: 20s - loss: 0.3294 - acc: 0.8929"
     ]
    },
    {
     "name": "stderr",
     "output_type": "stream",
     "text": [
      "C:\\Users\\sandY\\AppData\\Local\\conda\\conda\\envs\\tensorflow\\lib\\site-packages\\keras\\callbacks.py:122: UserWarning: Method on_batch_end() is slow compared to the batch update (0.188124). Check your callbacks.\n",
      "  % delta_t_median)\n",
      "C:\\Users\\sandY\\AppData\\Local\\conda\\conda\\envs\\tensorflow\\lib\\site-packages\\keras\\callbacks.py:122: UserWarning: Method on_batch_end() is slow compared to the batch update (0.182120). Check your callbacks.\n",
      "  % delta_t_median)\n",
      "C:\\Users\\sandY\\AppData\\Local\\conda\\conda\\envs\\tensorflow\\lib\\site-packages\\keras\\callbacks.py:122: UserWarning: Method on_batch_end() is slow compared to the batch update (0.176117). Check your callbacks.\n",
      "  % delta_t_median)\n"
     ]
    },
    {
     "name": "stdout",
     "output_type": "stream",
     "text": [
      "8000/8000 [==============================] - 14s 2ms/step - loss: 0.3970 - acc: 0.8351\n",
      "Epoch 71/100\n",
      "8000/8000 [==============================] - 14s 2ms/step - loss: 0.3977 - acc: 0.8362\n",
      "Epoch 72/100\n",
      "  20/8000 [..............................] - ETA: 42s - loss: 0.2659 - acc: 0.9500"
     ]
    },
    {
     "name": "stderr",
     "output_type": "stream",
     "text": [
      "C:\\Users\\sandY\\AppData\\Local\\conda\\conda\\envs\\tensorflow\\lib\\site-packages\\keras\\callbacks.py:122: UserWarning: Method on_batch_end() is slow compared to the batch update (0.101066). Check your callbacks.\n",
      "  % delta_t_median)\n"
     ]
    },
    {
     "name": "stdout",
     "output_type": "stream",
     "text": [
      "8000/8000 [==============================] - 14s 2ms/step - loss: 0.3976 - acc: 0.8350\n",
      "Epoch 73/100\n",
      "7270/8000 [==========================>...] - ETA: 1s - loss: 0.3971 - acc: 0.8347"
     ]
    },
    {
     "name": "stderr",
     "output_type": "stream",
     "text": [
      "C:\\Users\\sandY\\AppData\\Local\\conda\\conda\\envs\\tensorflow\\lib\\site-packages\\keras\\callbacks.py:122: UserWarning: Method on_batch_end() is slow compared to the batch update (0.146097). Check your callbacks.\n",
      "  % delta_t_median)\n"
     ]
    },
    {
     "name": "stdout",
     "output_type": "stream",
     "text": [
      "8000/8000 [==============================] - 15s 2ms/step - loss: 0.3973 - acc: 0.8356\n",
      "Epoch 74/100\n",
      "8000/8000 [==============================] - 12s 2ms/step - loss: 0.3971 - acc: 0.8357\n",
      "Epoch 75/100\n",
      "  30/8000 [..............................] - ETA: 1:07 - loss: 0.3564 - acc: 0.9000"
     ]
    },
    {
     "name": "stderr",
     "output_type": "stream",
     "text": [
      "C:\\Users\\sandY\\AppData\\Local\\conda\\conda\\envs\\tensorflow\\lib\\site-packages\\keras\\callbacks.py:122: UserWarning: Method on_batch_end() is slow compared to the batch update (0.122755). Check your callbacks.\n",
      "  % delta_t_median)\n"
     ]
    },
    {
     "name": "stdout",
     "output_type": "stream",
     "text": [
      "8000/8000 [==============================] - 16s 2ms/step - loss: 0.3971 - acc: 0.8371\n",
      "Epoch 76/100\n",
      "8000/8000 [==============================] - 15s 2ms/step - loss: 0.3965 - acc: 0.8389\n",
      "Epoch 77/100\n",
      "  30/8000 [..............................] - ETA: 1:43 - loss: 0.2319 - acc: 0.9000"
     ]
    },
    {
     "name": "stderr",
     "output_type": "stream",
     "text": [
      "C:\\Users\\sandY\\AppData\\Local\\conda\\conda\\envs\\tensorflow\\lib\\site-packages\\keras\\callbacks.py:122: UserWarning: Method on_batch_end() is slow compared to the batch update (0.208138). Check your callbacks.\n",
      "  % delta_t_median)\n",
      "C:\\Users\\sandY\\AppData\\Local\\conda\\conda\\envs\\tensorflow\\lib\\site-packages\\keras\\callbacks.py:122: UserWarning: Method on_batch_end() is slow compared to the batch update (0.170112). Check your callbacks.\n",
      "  % delta_t_median)\n"
     ]
    },
    {
     "name": "stdout",
     "output_type": "stream",
     "text": [
      "8000/8000 [==============================] - 14s 2ms/step - loss: 0.3976 - acc: 0.8362\n",
      "Epoch 78/100\n",
      "  40/8000 [..............................] - ETA: 2:10 - loss: 0.3029 - acc: 0.8750"
     ]
    },
    {
     "name": "stderr",
     "output_type": "stream",
     "text": [
      "C:\\Users\\sandY\\AppData\\Local\\conda\\conda\\envs\\tensorflow\\lib\\site-packages\\keras\\callbacks.py:122: UserWarning: Method on_batch_end() is slow compared to the batch update (0.247163). Check your callbacks.\n",
      "  % delta_t_median)\n",
      "C:\\Users\\sandY\\AppData\\Local\\conda\\conda\\envs\\tensorflow\\lib\\site-packages\\keras\\callbacks.py:122: UserWarning: Method on_batch_end() is slow compared to the batch update (0.216143). Check your callbacks.\n",
      "  % delta_t_median)\n",
      "C:\\Users\\sandY\\AppData\\Local\\conda\\conda\\envs\\tensorflow\\lib\\site-packages\\keras\\callbacks.py:122: UserWarning: Method on_batch_end() is slow compared to the batch update (0.182621). Check your callbacks.\n",
      "  % delta_t_median)\n",
      "C:\\Users\\sandY\\AppData\\Local\\conda\\conda\\envs\\tensorflow\\lib\\site-packages\\keras\\callbacks.py:122: UserWarning: Method on_batch_end() is slow compared to the batch update (0.149099). Check your callbacks.\n",
      "  % delta_t_median)\n"
     ]
    },
    {
     "name": "stdout",
     "output_type": "stream",
     "text": [
      "8000/8000 [==============================] - 15s 2ms/step - loss: 0.3977 - acc: 0.8376\n",
      "Epoch 79/100\n",
      "1560/8000 [====>.........................] - ETA: 14s - loss: 0.4082 - acc: 0.8365"
     ]
    },
    {
     "name": "stderr",
     "output_type": "stream",
     "text": [
      "C:\\Users\\sandY\\AppData\\Local\\conda\\conda\\envs\\tensorflow\\lib\\site-packages\\keras\\callbacks.py:122: UserWarning: Method on_batch_end() is slow compared to the batch update (0.110293). Check your callbacks.\n",
      "  % delta_t_median)\n"
     ]
    },
    {
     "name": "stdout",
     "output_type": "stream",
     "text": [
      "8000/8000 [==============================] - 15s 2ms/step - loss: 0.3975 - acc: 0.8351\n",
      "Epoch 80/100\n",
      "8000/8000 [==============================] - 15s 2ms/step - loss: 0.3971 - acc: 0.8364\n",
      "Epoch 81/100\n",
      "4340/8000 [===============>..............] - ETA: 7s - loss: 0.3994 - acc: 0.8357"
     ]
    },
    {
     "name": "stderr",
     "output_type": "stream",
     "text": [
      "C:\\Users\\sandY\\AppData\\Local\\conda\\conda\\envs\\tensorflow\\lib\\site-packages\\keras\\callbacks.py:122: UserWarning: Method on_batch_end() is slow compared to the batch update (0.114075). Check your callbacks.\n",
      "  % delta_t_median)\n"
     ]
    },
    {
     "name": "stdout",
     "output_type": "stream",
     "text": [
      "8000/8000 [==============================] - 15s 2ms/step - loss: 0.3975 - acc: 0.8347\n",
      "Epoch 82/100\n",
      "4650/8000 [================>.............] - ETA: 5s - loss: 0.4040 - acc: 0.8348"
     ]
    },
    {
     "name": "stderr",
     "output_type": "stream",
     "text": [
      "C:\\Users\\sandY\\AppData\\Local\\conda\\conda\\envs\\tensorflow\\lib\\site-packages\\keras\\callbacks.py:122: UserWarning: Method on_batch_end() is slow compared to the batch update (0.144095). Check your callbacks.\n",
      "  % delta_t_median)\n",
      "C:\\Users\\sandY\\AppData\\Local\\conda\\conda\\envs\\tensorflow\\lib\\site-packages\\keras\\callbacks.py:122: UserWarning: Method on_batch_end() is slow compared to the batch update (0.134089). Check your callbacks.\n",
      "  % delta_t_median)\n"
     ]
    },
    {
     "name": "stdout",
     "output_type": "stream",
     "text": [
      "8000/8000 [==============================] - 14s 2ms/step - loss: 0.3974 - acc: 0.8361\n",
      "Epoch 83/100\n",
      "5980/8000 [=====================>........] - ETA: 3s - loss: 0.4031 - acc: 0.8338"
     ]
    },
    {
     "name": "stderr",
     "output_type": "stream",
     "text": [
      "C:\\Users\\sandY\\AppData\\Local\\conda\\conda\\envs\\tensorflow\\lib\\site-packages\\keras\\callbacks.py:122: UserWarning: Method on_batch_end() is slow compared to the batch update (0.141306). Check your callbacks.\n",
      "  % delta_t_median)\n"
     ]
    },
    {
     "name": "stdout",
     "output_type": "stream",
     "text": [
      "8000/8000 [==============================] - 13s 2ms/step - loss: 0.3972 - acc: 0.8365\n",
      "Epoch 84/100\n",
      "  20/8000 [..............................] - ETA: 41s - loss: 0.4770 - acc: 0.8500"
     ]
    },
    {
     "name": "stderr",
     "output_type": "stream",
     "text": [
      "C:\\Users\\sandY\\AppData\\Local\\conda\\conda\\envs\\tensorflow\\lib\\site-packages\\keras\\callbacks.py:122: UserWarning: Method on_batch_end() is slow compared to the batch update (0.100068). Check your callbacks.\n",
      "  % delta_t_median)\n"
     ]
    },
    {
     "name": "stdout",
     "output_type": "stream",
     "text": [
      "8000/8000 [==============================] - 14s 2ms/step - loss: 0.3970 - acc: 0.8362\n",
      "Epoch 85/100\n",
      "  30/8000 [..............................] - ETA: 1:02 - loss: 0.3096 - acc: 0.8667"
     ]
    },
    {
     "name": "stderr",
     "output_type": "stream",
     "text": [
      "C:\\Users\\sandY\\AppData\\Local\\conda\\conda\\envs\\tensorflow\\lib\\site-packages\\keras\\callbacks.py:122: UserWarning: Method on_batch_end() is slow compared to the batch update (0.112574). Check your callbacks.\n",
      "  % delta_t_median)\n"
     ]
    },
    {
     "name": "stdout",
     "output_type": "stream",
     "text": [
      "8000/8000 [==============================] - 13s 2ms/step - loss: 0.3969 - acc: 0.8366\n",
      "Epoch 86/100\n",
      "8000/8000 [==============================] - 13s 2ms/step - loss: 0.3966 - acc: 0.8375\n",
      "Epoch 87/100\n",
      "8000/8000 [==============================] - 18s 2ms/step - loss: 0.3960 - acc: 0.8370\n",
      "Epoch 88/100\n",
      "8000/8000 [==============================] - 15s 2ms/step - loss: 0.3968 - acc: 0.8357\n",
      "Epoch 89/100\n",
      "8000/8000 [==============================] - 12s 1ms/step - loss: 0.3969 - acc: 0.8366\n",
      "Epoch 90/100\n",
      "8000/8000 [==============================] - 15s 2ms/step - loss: 0.3967 - acc: 0.8367\n",
      "Epoch 91/100\n",
      "8000/8000 [==============================] - 14s 2ms/step - loss: 0.3972 - acc: 0.8346\n",
      "Epoch 92/100\n",
      " 300/8000 [>.............................] - ETA: 25s - loss: 0.3879 - acc: 0.8333"
     ]
    },
    {
     "name": "stderr",
     "output_type": "stream",
     "text": [
      "C:\\Users\\sandY\\AppData\\Local\\conda\\conda\\envs\\tensorflow\\lib\\site-packages\\keras\\callbacks.py:122: UserWarning: Method on_batch_end() is slow compared to the batch update (0.121581). Check your callbacks.\n",
      "  % delta_t_median)\n",
      "C:\\Users\\sandY\\AppData\\Local\\conda\\conda\\envs\\tensorflow\\lib\\site-packages\\keras\\callbacks.py:122: UserWarning: Method on_batch_end() is slow compared to the batch update (0.133088). Check your callbacks.\n",
      "  % delta_t_median)\n"
     ]
    },
    {
     "name": "stdout",
     "output_type": "stream",
     "text": [
      "8000/8000 [==============================] - 15s 2ms/step - loss: 0.3968 - acc: 0.8361\n",
      "Epoch 93/100\n",
      "8000/8000 [==============================] - 15s 2ms/step - loss: 0.3968 - acc: 0.8369\n",
      "Epoch 94/100\n",
      "8000/8000 [==============================] - 12s 2ms/step - loss: 0.3965 - acc: 0.8367\n",
      "Epoch 95/100\n",
      "5720/8000 [====================>.........] - ETA: 4s - loss: 0.3889 - acc: 0.8427"
     ]
    },
    {
     "name": "stderr",
     "output_type": "stream",
     "text": [
      "C:\\Users\\sandY\\AppData\\Local\\conda\\conda\\envs\\tensorflow\\lib\\site-packages\\keras\\callbacks.py:122: UserWarning: Method on_batch_end() is slow compared to the batch update (0.131567). Check your callbacks.\n",
      "  % delta_t_median)\n",
      "C:\\Users\\sandY\\AppData\\Local\\conda\\conda\\envs\\tensorflow\\lib\\site-packages\\keras\\callbacks.py:122: UserWarning: Method on_batch_end() is slow compared to the batch update (0.148078). Check your callbacks.\n",
      "  % delta_t_median)\n"
     ]
    },
    {
     "name": "stdout",
     "output_type": "stream",
     "text": [
      "5750/8000 [====================>.........] - ETA: 4s - loss: 0.3883 - acc: 0.8430"
     ]
    },
    {
     "name": "stderr",
     "output_type": "stream",
     "text": [
      "C:\\Users\\sandY\\AppData\\Local\\conda\\conda\\envs\\tensorflow\\lib\\site-packages\\keras\\callbacks.py:122: UserWarning: Method on_batch_end() is slow compared to the batch update (0.199539). Check your callbacks.\n",
      "  % delta_t_median)\n"
     ]
    },
    {
     "name": "stdout",
     "output_type": "stream",
     "text": [
      "8000/8000 [==============================] - 16s 2ms/step - loss: 0.3964 - acc: 0.8362\n",
      "Epoch 96/100\n",
      "  30/8000 [..............................] - ETA: 1:33 - loss: 0.2706 - acc: 0.9000"
     ]
    },
    {
     "name": "stderr",
     "output_type": "stream",
     "text": [
      "C:\\Users\\sandY\\AppData\\Local\\conda\\conda\\envs\\tensorflow\\lib\\site-packages\\keras\\callbacks.py:122: UserWarning: Method on_batch_end() is slow compared to the batch update (0.170613). Check your callbacks.\n",
      "  % delta_t_median)\n"
     ]
    },
    {
     "name": "stdout",
     "output_type": "stream",
     "text": [
      " 260/8000 [..............................] - ETA: 17s - loss: 0.3439 - acc: 0.8846 "
     ]
    },
    {
     "name": "stderr",
     "output_type": "stream",
     "text": [
      "C:\\Users\\sandY\\AppData\\Local\\conda\\conda\\envs\\tensorflow\\lib\\site-packages\\keras\\callbacks.py:122: UserWarning: Method on_batch_end() is slow compared to the batch update (0.125583). Check your callbacks.\n",
      "  % delta_t_median)\n"
     ]
    },
    {
     "name": "stdout",
     "output_type": "stream",
     "text": [
      "4420/8000 [===============>..............] - ETA: 6s - loss: 0.3929 - acc: 0.8432"
     ]
    },
    {
     "name": "stderr",
     "output_type": "stream",
     "text": [
      "C:\\Users\\sandY\\AppData\\Local\\conda\\conda\\envs\\tensorflow\\lib\\site-packages\\keras\\callbacks.py:122: UserWarning: Method on_batch_end() is slow compared to the batch update (0.139592). Check your callbacks.\n",
      "  % delta_t_median)\n"
     ]
    },
    {
     "name": "stdout",
     "output_type": "stream",
     "text": [
      "8000/8000 [==============================] - 13s 2ms/step - loss: 0.3967 - acc: 0.8374\n",
      "Epoch 97/100\n",
      "  20/8000 [..............................] - ETA: 1:16 - loss: 0.4117 - acc: 0.8000"
     ]
    },
    {
     "name": "stderr",
     "output_type": "stream",
     "text": [
      "C:\\Users\\sandY\\AppData\\Local\\conda\\conda\\envs\\tensorflow\\lib\\site-packages\\keras\\callbacks.py:122: UserWarning: Method on_batch_end() is slow compared to the batch update (0.183121). Check your callbacks.\n",
      "  % delta_t_median)\n"
     ]
    },
    {
     "name": "stdout",
     "output_type": "stream",
     "text": [
      "8000/8000 [==============================] - 16s 2ms/step - loss: 0.3964 - acc: 0.8381\n",
      "Epoch 98/100\n",
      "8000/8000 [==============================] - 13s 2ms/step - loss: 0.3963 - acc: 0.8376\n",
      "Epoch 99/100\n",
      "  40/8000 [..............................] - ETA: 1:13 - loss: 0.4039 - acc: 0.8250"
     ]
    },
    {
     "name": "stderr",
     "output_type": "stream",
     "text": [
      "C:\\Users\\sandY\\AppData\\Local\\conda\\conda\\envs\\tensorflow\\lib\\site-packages\\keras\\callbacks.py:122: UserWarning: Method on_batch_end() is slow compared to the batch update (0.181120). Check your callbacks.\n",
      "  % delta_t_median)\n",
      "C:\\Users\\sandY\\AppData\\Local\\conda\\conda\\envs\\tensorflow\\lib\\site-packages\\keras\\callbacks.py:122: UserWarning: Method on_batch_end() is slow compared to the batch update (0.142595). Check your callbacks.\n",
      "  % delta_t_median)\n"
     ]
    },
    {
     "name": "stdout",
     "output_type": "stream",
     "text": [
      "8000/8000 [==============================] - 13s 2ms/step - loss: 0.3966 - acc: 0.8344\n",
      "Epoch 100/100\n",
      " 570/8000 [=>............................] - ETA: 23s - loss: 0.3885 - acc: 0.8228"
     ]
    },
    {
     "name": "stderr",
     "output_type": "stream",
     "text": [
      "C:\\Users\\sandY\\AppData\\Local\\conda\\conda\\envs\\tensorflow\\lib\\site-packages\\keras\\callbacks.py:122: UserWarning: Method on_batch_end() is slow compared to the batch update (0.109572). Check your callbacks.\n",
      "  % delta_t_median)\n"
     ]
    },
    {
     "name": "stdout",
     "output_type": "stream",
     "text": [
      "2880/8000 [=========>....................] - ETA: 11s - loss: 0.3745 - acc: 0.8448"
     ]
    },
    {
     "name": "stderr",
     "output_type": "stream",
     "text": [
      "C:\\Users\\sandY\\AppData\\Local\\conda\\conda\\envs\\tensorflow\\lib\\site-packages\\keras\\callbacks.py:122: UserWarning: Method on_batch_end() is slow compared to the batch update (0.108710). Check your callbacks.\n",
      "  % delta_t_median)\n",
      "C:\\Users\\sandY\\AppData\\Local\\conda\\conda\\envs\\tensorflow\\lib\\site-packages\\keras\\callbacks.py:122: UserWarning: Method on_batch_end() is slow compared to the batch update (0.168612). Check your callbacks.\n",
      "  % delta_t_median)\n"
     ]
    },
    {
     "name": "stdout",
     "output_type": "stream",
     "text": [
      "3120/8000 [==========>...................] - ETA: 10s - loss: 0.3766 - acc: 0.8433"
     ]
    },
    {
     "name": "stderr",
     "output_type": "stream",
     "text": [
      "C:\\Users\\sandY\\AppData\\Local\\conda\\conda\\envs\\tensorflow\\lib\\site-packages\\keras\\callbacks.py:122: UserWarning: Method on_batch_end() is slow compared to the batch update (0.124582). Check your callbacks.\n",
      "  % delta_t_median)\n"
     ]
    },
    {
     "name": "stdout",
     "output_type": "stream",
     "text": [
      "8000/8000 [==============================] - 14s 2ms/step - loss: 0.3965 - acc: 0.8361\n"
     ]
    }
   ],
   "source": [
    "# Compiling the ANN\n",
    "classifier.compile(optimizer = 'adam', loss = 'binary_crossentropy', metrics = ['accuracy'])\n",
    "\n",
    "# Fitting the ANN to the Training set\n",
    "classifier.fit(X_train, y_train, batch_size = 10, nb_epoch = 100)\n",
    "\n",
    "# Part 3 - Making the predictions and evaluating the model\n",
    "\n",
    "# Predicting the Test set results\n",
    "y_pred = classifier.predict(X_test)\n",
    "y_pred = (y_pred > 0.5)\n"
   ]
  },
  {
   "cell_type": "code",
   "execution_count": 36,
   "metadata": {},
   "outputs": [
    {
     "data": {
      "text/plain": [
       "array([[0.20517474],\n",
       "       [0.28562003],\n",
       "       [0.1372579 ],\n",
       "       ...,\n",
       "       [0.0965516 ],\n",
       "       [0.17654088],\n",
       "       [0.09998241]], dtype=float32)"
      ]
     },
     "execution_count": 36,
     "metadata": {},
     "output_type": "execute_result"
    }
   ],
   "source": [
    "classifier.predict(X_test)"
   ]
  },
  {
   "cell_type": "code",
   "execution_count": 37,
   "metadata": {},
   "outputs": [
    {
     "data": {
      "text/plain": [
       "{'name': 'sequential_1',\n",
       " 'layers': [{'class_name': 'Dense',\n",
       "   'config': {'name': 'dense_1',\n",
       "    'trainable': True,\n",
       "    'batch_input_shape': (None, 11),\n",
       "    'dtype': 'float32',\n",
       "    'units': 6,\n",
       "    'activation': 'relu',\n",
       "    'use_bias': True,\n",
       "    'kernel_initializer': {'class_name': 'RandomUniform',\n",
       "     'config': {'minval': -0.05, 'maxval': 0.05, 'seed': None}},\n",
       "    'bias_initializer': {'class_name': 'Zeros', 'config': {}},\n",
       "    'kernel_regularizer': None,\n",
       "    'bias_regularizer': None,\n",
       "    'activity_regularizer': None,\n",
       "    'kernel_constraint': None,\n",
       "    'bias_constraint': None}},\n",
       "  {'class_name': 'Dense',\n",
       "   'config': {'name': 'dense_2',\n",
       "    'trainable': True,\n",
       "    'units': 6,\n",
       "    'activation': 'relu',\n",
       "    'use_bias': True,\n",
       "    'kernel_initializer': {'class_name': 'RandomUniform',\n",
       "     'config': {'minval': -0.05, 'maxval': 0.05, 'seed': None}},\n",
       "    'bias_initializer': {'class_name': 'Zeros', 'config': {}},\n",
       "    'kernel_regularizer': None,\n",
       "    'bias_regularizer': None,\n",
       "    'activity_regularizer': None,\n",
       "    'kernel_constraint': None,\n",
       "    'bias_constraint': None}},\n",
       "  {'class_name': 'Dense',\n",
       "   'config': {'name': 'dense_3',\n",
       "    'trainable': True,\n",
       "    'units': 1,\n",
       "    'activation': 'sigmoid',\n",
       "    'use_bias': True,\n",
       "    'kernel_initializer': {'class_name': 'RandomUniform',\n",
       "     'config': {'minval': -0.05, 'maxval': 0.05, 'seed': None}},\n",
       "    'bias_initializer': {'class_name': 'Zeros', 'config': {}},\n",
       "    'kernel_regularizer': None,\n",
       "    'bias_regularizer': None,\n",
       "    'activity_regularizer': None,\n",
       "    'kernel_constraint': None,\n",
       "    'bias_constraint': None}},\n",
       "  {'class_name': 'Dense',\n",
       "   'config': {'name': 'dense_4',\n",
       "    'trainable': True,\n",
       "    'batch_input_shape': (None, 11),\n",
       "    'dtype': 'float32',\n",
       "    'units': 6,\n",
       "    'activation': 'relu',\n",
       "    'use_bias': True,\n",
       "    'kernel_initializer': {'class_name': 'RandomUniform',\n",
       "     'config': {'minval': -0.05, 'maxval': 0.05, 'seed': None}},\n",
       "    'bias_initializer': {'class_name': 'Zeros', 'config': {}},\n",
       "    'kernel_regularizer': None,\n",
       "    'bias_regularizer': None,\n",
       "    'activity_regularizer': None,\n",
       "    'kernel_constraint': None,\n",
       "    'bias_constraint': None}},\n",
       "  {'class_name': 'Dense',\n",
       "   'config': {'name': 'dense_5',\n",
       "    'trainable': True,\n",
       "    'units': 6,\n",
       "    'activation': 'relu',\n",
       "    'use_bias': True,\n",
       "    'kernel_initializer': {'class_name': 'RandomUniform',\n",
       "     'config': {'minval': -0.05, 'maxval': 0.05, 'seed': None}},\n",
       "    'bias_initializer': {'class_name': 'Zeros', 'config': {}},\n",
       "    'kernel_regularizer': None,\n",
       "    'bias_regularizer': None,\n",
       "    'activity_regularizer': None,\n",
       "    'kernel_constraint': None,\n",
       "    'bias_constraint': None}},\n",
       "  {'class_name': 'Dense',\n",
       "   'config': {'name': 'dense_6',\n",
       "    'trainable': True,\n",
       "    'units': 1,\n",
       "    'activation': 'sigmoid',\n",
       "    'use_bias': True,\n",
       "    'kernel_initializer': {'class_name': 'RandomUniform',\n",
       "     'config': {'minval': -0.05, 'maxval': 0.05, 'seed': None}},\n",
       "    'bias_initializer': {'class_name': 'Zeros', 'config': {}},\n",
       "    'kernel_regularizer': None,\n",
       "    'bias_regularizer': None,\n",
       "    'activity_regularizer': None,\n",
       "    'kernel_constraint': None,\n",
       "    'bias_constraint': None}}]}"
      ]
     },
     "execution_count": 37,
     "metadata": {},
     "output_type": "execute_result"
    }
   ],
   "source": [
    "from sklearn.metrics import confusion_matrix\n",
    "classifier.get_config()\n",
    "#classifier.summary()"
   ]
  },
  {
   "cell_type": "code",
   "execution_count": 38,
   "metadata": {},
   "outputs": [
    {
     "data": {
      "text/plain": [
       "array([[1534,   61],\n",
       "       [ 258,  147]], dtype=int64)"
      ]
     },
     "execution_count": 38,
     "metadata": {},
     "output_type": "execute_result"
    }
   ],
   "source": [
    "confusion_matrix(y_test,y_pred)"
   ]
  },
  {
   "cell_type": "code",
   "execution_count": 39,
   "metadata": {},
   "outputs": [
    {
     "data": {
      "text/plain": [
       "0.8405"
      ]
     },
     "execution_count": 39,
     "metadata": {},
     "output_type": "execute_result"
    }
   ],
   "source": [
    "(1534+147)/(2000)"
   ]
  },
  {
   "cell_type": "code",
   "execution_count": null,
   "metadata": {},
   "outputs": [],
   "source": []
  },
  {
   "cell_type": "code",
   "execution_count": null,
   "metadata": {},
   "outputs": [],
   "source": []
  },
  {
   "cell_type": "markdown",
   "metadata": {},
   "source": [
    "# loan preiction"
   ]
  },
  {
   "cell_type": "code",
   "execution_count": 7,
   "metadata": {},
   "outputs": [],
   "source": [
    "X=pd.read_csv(\"C://Users//sandY//Downloads//train_u6lujuX_CVtuZ9i.csv\")"
   ]
  },
  {
   "cell_type": "code",
   "execution_count": 25,
   "metadata": {},
   "outputs": [],
   "source": [
    "X1=pd.read_csv(\"C://Users//sandY//Downloads//train_u6lujuX_CVtuZ9i.csv\")"
   ]
  },
  {
   "cell_type": "code",
   "execution_count": 8,
   "metadata": {},
   "outputs": [],
   "source": [
    "test=pd.read_csv(\"C://Users//sandY//Downloads//test_Y3wMUE5_7gLdaTN.csv\")"
   ]
  },
  {
   "cell_type": "code",
   "execution_count": 11,
   "metadata": {},
   "outputs": [],
   "source": [
    "X=X.iloc[:,1:12].values\n",
    "test=test.iloc[:,1:].values"
   ]
  },
  {
   "cell_type": "code",
   "execution_count": 9,
   "metadata": {},
   "outputs": [],
   "source": [
    "test=test.dropna(axis=0)"
   ]
  },
  {
   "cell_type": "code",
   "execution_count": 10,
   "metadata": {},
   "outputs": [],
   "source": [
    "X=X.dropna(axis=0)"
   ]
  },
  {
   "cell_type": "code",
   "execution_count": 14,
   "metadata": {},
   "outputs": [],
   "source": [
    "lc=LabelEncoder()"
   ]
  },
  {
   "cell_type": "code",
   "execution_count": 15,
   "metadata": {},
   "outputs": [],
   "source": [
    "X[:,0]=lc.fit_transform(X[:,0])"
   ]
  },
  {
   "cell_type": "code",
   "execution_count": 16,
   "metadata": {},
   "outputs": [],
   "source": [
    "lc1=LabelEncoder()\n",
    "X[:,1]=lc.fit_transform(X[:,1])\n",
    "lc1=LabelEncoder()\n",
    "X[:,2]=lc1.fit_transform(X[:,2])\n",
    "lc2=LabelEncoder()\n",
    "X[:,3]=lc2.fit_transform(X[:,3])\n",
    "lc3=LabelEncoder()\n",
    "X[:,4]=lc3.fit_transform(X[:,4])\n",
    "lc4=LabelEncoder()\n",
    "X[:,9]=lc4.fit_transform(X[:,9])\n",
    "lc5=LabelEncoder()\n",
    "X[:,10]=lc5.fit_transform(X[:,10])"
   ]
  },
  {
   "cell_type": "code",
   "execution_count": 17,
   "metadata": {},
   "outputs": [
    {
     "data": {
      "text/plain": [
       "array([[1, 1, 0, 0, 1, 3000, 0.0, 66.0, 360.0, 1, 2]], dtype=object)"
      ]
     },
     "execution_count": 17,
     "metadata": {},
     "output_type": "execute_result"
    }
   ],
   "source": [
    "X[1:2,0:12]"
   ]
  },
  {
   "cell_type": "code",
   "execution_count": 18,
   "metadata": {},
   "outputs": [],
   "source": [
    "one=OneHotEncoder(categorical_features = [2])"
   ]
  },
  {
   "cell_type": "code",
   "execution_count": 19,
   "metadata": {},
   "outputs": [
    {
     "name": "stderr",
     "output_type": "stream",
     "text": [
      "C:\\Users\\sandY\\AppData\\Local\\conda\\conda\\envs\\tensorflow\\lib\\site-packages\\sklearn\\preprocessing\\_encoders.py:371: FutureWarning: The handling of integer data will change in version 0.22. Currently, the categories are determined based on the range [0, max(values)], while in the future they will be determined based on the unique values.\n",
      "If you want the future behaviour and silence this warning, you can specify \"categories='auto'\".\n",
      "In case you used a LabelEncoder before this OneHotEncoder to convert the categories to integers, then you can now use the OneHotEncoder directly.\n",
      "  warnings.warn(msg, FutureWarning)\n",
      "C:\\Users\\sandY\\AppData\\Local\\conda\\conda\\envs\\tensorflow\\lib\\site-packages\\sklearn\\preprocessing\\_encoders.py:392: DeprecationWarning: The 'categorical_features' keyword is deprecated in version 0.20 and will be removed in 0.22. You can use the ColumnTransformer instead.\n",
      "  \"use the ColumnTransformer instead.\", DeprecationWarning)\n"
     ]
    }
   ],
   "source": [
    "X=one.fit_transform(X).toarray()"
   ]
  },
  {
   "cell_type": "code",
   "execution_count": 20,
   "metadata": {},
   "outputs": [
    {
     "name": "stderr",
     "output_type": "stream",
     "text": [
      "C:\\Users\\sandY\\AppData\\Local\\conda\\conda\\envs\\tensorflow\\lib\\site-packages\\sklearn\\preprocessing\\_encoders.py:371: FutureWarning: The handling of integer data will change in version 0.22. Currently, the categories are determined based on the range [0, max(values)], while in the future they will be determined based on the unique values.\n",
      "If you want the future behaviour and silence this warning, you can specify \"categories='auto'\".\n",
      "In case you used a LabelEncoder before this OneHotEncoder to convert the categories to integers, then you can now use the OneHotEncoder directly.\n",
      "  warnings.warn(msg, FutureWarning)\n",
      "C:\\Users\\sandY\\AppData\\Local\\conda\\conda\\envs\\tensorflow\\lib\\site-packages\\sklearn\\preprocessing\\_encoders.py:392: DeprecationWarning: The 'categorical_features' keyword is deprecated in version 0.20 and will be removed in 0.22. You can use the ColumnTransformer instead.\n",
      "  \"use the ColumnTransformer instead.\", DeprecationWarning)\n"
     ]
    }
   ],
   "source": [
    "one=OneHotEncoder(categorical_features = [13])\n",
    "X=one.fit_transform(X).toarray()"
   ]
  },
  {
   "cell_type": "code",
   "execution_count": 21,
   "metadata": {},
   "outputs": [],
   "source": [
    "X=X[:,1:]"
   ]
  },
  {
   "cell_type": "code",
   "execution_count": 22,
   "metadata": {},
   "outputs": [],
   "source": [
    "X=X[:,[0,1,3,4,5,6,7,8,9,10,11,12,13,14]]"
   ]
  },
  {
   "cell_type": "code",
   "execution_count": 23,
   "metadata": {},
   "outputs": [
    {
     "data": {
      "text/plain": [
       "array([[  0.,   0.,   1., ..., 128., 360.,   1.],\n",
       "       [  0.,   1.,   0., ...,  66., 360.,   1.],\n",
       "       [  0.,   1.,   0., ..., 120., 360.,   1.],\n",
       "       ...,\n",
       "       [  0.,   1.,   1., ..., 253., 360.,   1.],\n",
       "       [  0.,   1.,   0., ..., 187., 360.,   1.],\n",
       "       [  1.,   0.,   0., ..., 133., 360.,   0.]])"
      ]
     },
     "execution_count": 23,
     "metadata": {},
     "output_type": "execute_result"
    }
   ],
   "source": [
    "X"
   ]
  },
  {
   "cell_type": "code",
   "execution_count": 26,
   "metadata": {},
   "outputs": [],
   "source": [
    "y=X1.dropna(axis=0).iloc[:,12]"
   ]
  },
  {
   "cell_type": "code",
   "execution_count": 27,
   "metadata": {},
   "outputs": [],
   "source": [
    "y=y.map({\"N\":0,\"Y\":1})"
   ]
  },
  {
   "cell_type": "code",
   "execution_count": 28,
   "metadata": {},
   "outputs": [],
   "source": [
    "y=y.values"
   ]
  },
  {
   "cell_type": "code",
   "execution_count": 31,
   "metadata": {},
   "outputs": [],
   "source": [
    "sc=Sequential()"
   ]
  },
  {
   "cell_type": "code",
   "execution_count": 32,
   "metadata": {},
   "outputs": [
    {
     "name": "stdout",
     "output_type": "stream",
     "text": [
      "WARNING:tensorflow:From C:\\Users\\sandY\\AppData\\Local\\conda\\conda\\envs\\tensorflow\\lib\\site-packages\\tensorflow\\python\\framework\\op_def_library.py:263: colocate_with (from tensorflow.python.framework.ops) is deprecated and will be removed in a future version.\n",
      "Instructions for updating:\n",
      "Colocations handled automatically by placer.\n"
     ]
    },
    {
     "name": "stderr",
     "output_type": "stream",
     "text": [
      "C:\\Users\\sandY\\AppData\\Local\\conda\\conda\\envs\\tensorflow\\lib\\site-packages\\ipykernel_launcher.py:1: UserWarning: Update your `Dense` call to the Keras 2 API: `Dense(activation=\"relu\", input_dim=14, units=6, kernel_initializer=\"uniform\")`\n",
      "  \"\"\"Entry point for launching an IPython kernel.\n"
     ]
    }
   ],
   "source": [
    "sc.add(Dense(output_dim = 6, init = 'uniform', activation = 'relu', input_dim = 14))"
   ]
  },
  {
   "cell_type": "code",
   "execution_count": 33,
   "metadata": {},
   "outputs": [
    {
     "name": "stderr",
     "output_type": "stream",
     "text": [
      "C:\\Users\\sandY\\AppData\\Local\\conda\\conda\\envs\\tensorflow\\lib\\site-packages\\ipykernel_launcher.py:2: UserWarning: Update your `Dense` call to the Keras 2 API: `Dense(activation=\"relu\", units=6, kernel_initializer=\"uniform\")`\n",
      "  \n",
      "C:\\Users\\sandY\\AppData\\Local\\conda\\conda\\envs\\tensorflow\\lib\\site-packages\\ipykernel_launcher.py:5: UserWarning: Update your `Dense` call to the Keras 2 API: `Dense(activation=\"sigmoid\", units=1, kernel_initializer=\"uniform\")`\n",
      "  \"\"\"\n"
     ]
    },
    {
     "name": "stdout",
     "output_type": "stream",
     "text": [
      "WARNING:tensorflow:From C:\\Users\\sandY\\AppData\\Local\\conda\\conda\\envs\\tensorflow\\lib\\site-packages\\tensorflow\\python\\ops\\math_ops.py:3066: to_int32 (from tensorflow.python.ops.math_ops) is deprecated and will be removed in a future version.\n",
      "Instructions for updating:\n",
      "Use tf.cast instead.\n"
     ]
    },
    {
     "name": "stderr",
     "output_type": "stream",
     "text": [
      "C:\\Users\\sandY\\AppData\\Local\\conda\\conda\\envs\\tensorflow\\lib\\site-packages\\ipykernel_launcher.py:11: UserWarning: The `nb_epoch` argument in `fit` has been renamed `epochs`.\n",
      "  # This is added back by InteractiveShellApp.init_path()\n"
     ]
    },
    {
     "name": "stdout",
     "output_type": "stream",
     "text": [
      "Epoch 1/100\n",
      "480/480 [==============================] - 4s 8ms/step - loss: 0.6618 - acc: 0.6833\n",
      "Epoch 2/100\n",
      "480/480 [==============================] - 0s 400us/step - loss: 0.6582 - acc: 0.6917\n",
      "Epoch 3/100\n",
      "480/480 [==============================] - 0s 388us/step - loss: 0.6539 - acc: 0.6917\n",
      "Epoch 4/100\n",
      "480/480 [==============================] - 0s 398us/step - loss: 0.6496 - acc: 0.6917\n",
      "Epoch 5/100\n",
      "480/480 [==============================] - 0s 409us/step - loss: 0.6470 - acc: 0.6917\n",
      "Epoch 6/100\n",
      "480/480 [==============================] - 0s 394us/step - loss: 0.6413 - acc: 0.6917\n",
      "Epoch 7/100\n",
      "480/480 [==============================] - 0s 411us/step - loss: 0.6363 - acc: 0.6917\n",
      "Epoch 8/100\n",
      "480/480 [==============================] - 0s 392us/step - loss: 0.6371 - acc: 0.6917\n",
      "Epoch 9/100\n",
      "480/480 [==============================] - 0s 386us/step - loss: 0.6391 - acc: 0.6917\n",
      "Epoch 10/100\n",
      "480/480 [==============================] - 0s 359us/step - loss: 0.6362 - acc: 0.6917\n",
      "Epoch 11/100\n",
      "480/480 [==============================] - 0s 365us/step - loss: 0.6281 - acc: 0.6917\n",
      "Epoch 12/100\n",
      "480/480 [==============================] - 0s 344us/step - loss: 0.6312 - acc: 0.6917\n",
      "Epoch 13/100\n",
      "480/480 [==============================] - 0s 321us/step - loss: 0.6254 - acc: 0.6917\n",
      "Epoch 14/100\n",
      "480/480 [==============================] - 0s 288us/step - loss: 0.6263 - acc: 0.6917\n",
      "Epoch 15/100\n",
      "480/480 [==============================] - 0s 294us/step - loss: 0.6395 - acc: 0.6833\n",
      "Epoch 16/100\n",
      "480/480 [==============================] - 0s 284us/step - loss: 0.6261 - acc: 0.6938\n",
      "Epoch 17/100\n",
      "480/480 [==============================] - 0s 286us/step - loss: 0.6259 - acc: 0.6917\n",
      "Epoch 18/100\n",
      "480/480 [==============================] - 0s 286us/step - loss: 0.6260 - acc: 0.6938\n",
      "Epoch 19/100\n",
      "480/480 [==============================] - 0s 267us/step - loss: 0.6246 - acc: 0.6937\n",
      "Epoch 20/100\n",
      "480/480 [==============================] - 0s 273us/step - loss: 0.6209 - acc: 0.6938\n",
      "Epoch 21/100\n",
      "480/480 [==============================] - 0s 311us/step - loss: 0.6203 - acc: 0.6917\n",
      "Epoch 22/100\n",
      "480/480 [==============================] - 0s 248us/step - loss: 0.6172 - acc: 0.6917\n",
      "Epoch 23/100\n",
      "480/480 [==============================] - 0s 242us/step - loss: 0.6200 - acc: 0.6938\n",
      "Epoch 24/100\n",
      "480/480 [==============================] - 0s 238us/step - loss: 0.6198 - acc: 0.6938\n",
      "Epoch 25/100\n",
      "480/480 [==============================] - 0s 254us/step - loss: 0.6173 - acc: 0.6938\n",
      "Epoch 26/100\n",
      "480/480 [==============================] - 0s 261us/step - loss: 0.6185 - acc: 0.6938\n",
      "Epoch 27/100\n",
      "480/480 [==============================] - 0s 229us/step - loss: 0.6150 - acc: 0.6938\n",
      "Epoch 28/100\n",
      "480/480 [==============================] - 0s 227us/step - loss: 0.6183 - acc: 0.6917\n",
      "Epoch 29/100\n",
      "480/480 [==============================] - 0s 217us/step - loss: 0.6202 - acc: 0.6896\n",
      "Epoch 30/100\n",
      "480/480 [==============================] - 0s 215us/step - loss: 0.6256 - acc: 0.6917\n",
      "Epoch 31/100\n",
      "480/480 [==============================] - 0s 215us/step - loss: 0.6235 - acc: 0.6938\n",
      "Epoch 32/100\n",
      "480/480 [==============================] - 0s 208us/step - loss: 0.6139 - acc: 0.6938\n",
      "Epoch 33/100\n",
      "480/480 [==============================] - 0s 204us/step - loss: 0.6121 - acc: 0.6938\n",
      "Epoch 34/100\n",
      "480/480 [==============================] - 0s 200us/step - loss: 0.6125 - acc: 0.6938\n",
      "Epoch 35/100\n",
      "480/480 [==============================] - 0s 204us/step - loss: 0.6134 - acc: 0.6938\n",
      "Epoch 36/100\n",
      "480/480 [==============================] - 0s 206us/step - loss: 0.6138 - acc: 0.6938\n",
      "Epoch 37/100\n",
      "480/480 [==============================] - 0s 196us/step - loss: 0.6154 - acc: 0.6937\n",
      "Epoch 38/100\n",
      "480/480 [==============================] - 0s 200us/step - loss: 0.6218 - acc: 0.6917\n",
      "Epoch 39/100\n",
      "480/480 [==============================] - 0s 186us/step - loss: 0.6121 - acc: 0.6938\n",
      "Epoch 40/100\n",
      "480/480 [==============================] - 0s 186us/step - loss: 0.6114 - acc: 0.6917\n",
      "Epoch 41/100\n",
      "480/480 [==============================] - 0s 192us/step - loss: 0.6215 - acc: 0.6938\n",
      "Epoch 42/100\n",
      "480/480 [==============================] - 0s 192us/step - loss: 0.6148 - acc: 0.6938\n",
      "Epoch 43/100\n",
      "480/480 [==============================] - 0s 173us/step - loss: 0.6111 - acc: 0.6917\n",
      "Epoch 44/100\n",
      "480/480 [==============================] - 0s 177us/step - loss: 0.6099 - acc: 0.6937\n",
      "Epoch 45/100\n",
      "480/480 [==============================] - 0s 175us/step - loss: 0.6151 - acc: 0.6937\n",
      "Epoch 46/100\n",
      "480/480 [==============================] - 0s 190us/step - loss: 0.6117 - acc: 0.6937\n",
      "Epoch 47/100\n",
      "480/480 [==============================] - 0s 188us/step - loss: 0.6139 - acc: 0.6938\n",
      "Epoch 48/100\n",
      "480/480 [==============================] - 0s 177us/step - loss: 0.6122 - acc: 0.6958\n",
      "Epoch 49/100\n",
      "480/480 [==============================] - 0s 179us/step - loss: 0.6097 - acc: 0.6938\n",
      "Epoch 50/100\n",
      "480/480 [==============================] - 0s 177us/step - loss: 0.6098 - acc: 0.6917\n",
      "Epoch 51/100\n",
      "480/480 [==============================] - 0s 181us/step - loss: 0.6123 - acc: 0.6938\n",
      "Epoch 52/100\n",
      "480/480 [==============================] - 0s 179us/step - loss: 0.6130 - acc: 0.6937\n",
      "Epoch 53/100\n",
      "480/480 [==============================] - 0s 181us/step - loss: 0.6084 - acc: 0.6938\n",
      "Epoch 54/100\n",
      "480/480 [==============================] - 0s 181us/step - loss: 0.6102 - acc: 0.6938\n",
      "Epoch 55/100\n",
      "480/480 [==============================] - 0s 181us/step - loss: 0.6118 - acc: 0.6938\n",
      "Epoch 56/100\n",
      "480/480 [==============================] - 0s 177us/step - loss: 0.6114 - acc: 0.6938\n",
      "Epoch 57/100\n",
      "480/480 [==============================] - 0s 196us/step - loss: 0.6131 - acc: 0.6938\n",
      "Epoch 58/100\n",
      "480/480 [==============================] - 0s 204us/step - loss: 0.6080 - acc: 0.6938\n",
      "Epoch 59/100\n",
      "480/480 [==============================] - 0s 192us/step - loss: 0.6099 - acc: 0.6938\n",
      "Epoch 60/100\n",
      "480/480 [==============================] - 0s 196us/step - loss: 0.6077 - acc: 0.6938\n",
      "Epoch 61/100\n",
      "480/480 [==============================] - 0s 192us/step - loss: 0.6077 - acc: 0.6917\n",
      "Epoch 62/100\n",
      "480/480 [==============================] - 0s 188us/step - loss: 0.6091 - acc: 0.6917\n",
      "Epoch 63/100\n",
      "480/480 [==============================] - 0s 204us/step - loss: 0.6054 - acc: 0.6938\n",
      "Epoch 64/100\n",
      "480/480 [==============================] - 0s 202us/step - loss: 0.6107 - acc: 0.6938\n",
      "Epoch 65/100\n",
      "480/480 [==============================] - 0s 198us/step - loss: 0.6100 - acc: 0.6917\n",
      "Epoch 66/100\n",
      "480/480 [==============================] - 0s 177us/step - loss: 0.6097 - acc: 0.6917\n",
      "Epoch 67/100\n",
      "480/480 [==============================] - 0s 158us/step - loss: 0.6085 - acc: 0.6917\n",
      "Epoch 68/100\n",
      "480/480 [==============================] - 0s 167us/step - loss: 0.6091 - acc: 0.6896\n",
      "Epoch 69/100\n",
      "480/480 [==============================] - 0s 196us/step - loss: 0.6031 - acc: 0.6917\n",
      "Epoch 70/100\n",
      "480/480 [==============================] - 0s 171us/step - loss: 0.6132 - acc: 0.6938\n",
      "Epoch 71/100\n",
      "480/480 [==============================] - 0s 171us/step - loss: 0.6063 - acc: 0.6958\n",
      "Epoch 72/100\n",
      "480/480 [==============================] - 0s 188us/step - loss: 0.6118 - acc: 0.6938\n",
      "Epoch 73/100\n",
      "480/480 [==============================] - 0s 167us/step - loss: 0.6049 - acc: 0.6917\n",
      "Epoch 74/100\n",
      "480/480 [==============================] - 0s 169us/step - loss: 0.6083 - acc: 0.6875\n",
      "Epoch 75/100\n",
      "480/480 [==============================] - 0s 171us/step - loss: 0.6092 - acc: 0.7021\n",
      "Epoch 76/100\n",
      "480/480 [==============================] - 0s 171us/step - loss: 0.6054 - acc: 0.6917\n",
      "Epoch 77/100\n",
      "480/480 [==============================] - 0s 171us/step - loss: 0.6035 - acc: 0.7021\n",
      "Epoch 78/100\n",
      "480/480 [==============================] - 0s 204us/step - loss: 0.6013 - acc: 0.6917\n",
      "Epoch 79/100\n",
      "480/480 [==============================] - 0s 190us/step - loss: 0.6045 - acc: 0.7042\n",
      "Epoch 80/100\n",
      "480/480 [==============================] - 0s 202us/step - loss: 0.6050 - acc: 0.7000\n",
      "Epoch 81/100\n",
      "480/480 [==============================] - 0s 213us/step - loss: 0.6059 - acc: 0.6958\n",
      "Epoch 82/100\n",
      "480/480 [==============================] - 0s 202us/step - loss: 0.6076 - acc: 0.6958\n",
      "Epoch 83/100\n",
      "480/480 [==============================] - 0s 200us/step - loss: 0.6056 - acc: 0.7000\n",
      "Epoch 84/100\n",
      "480/480 [==============================] - 0s 200us/step - loss: 0.6000 - acc: 0.6979\n",
      "Epoch 85/100\n",
      "480/480 [==============================] - 0s 208us/step - loss: 0.6015 - acc: 0.7021\n",
      "Epoch 86/100\n",
      "480/480 [==============================] - 0s 208us/step - loss: 0.6012 - acc: 0.7000\n",
      "Epoch 87/100\n",
      "480/480 [==============================] - 0s 204us/step - loss: 0.6018 - acc: 0.7063\n",
      "Epoch 88/100\n",
      "480/480 [==============================] - 0s 227us/step - loss: 0.6004 - acc: 0.6917\n",
      "Epoch 89/100\n",
      "480/480 [==============================] - 0s 206us/step - loss: 0.5992 - acc: 0.7042\n",
      "Epoch 90/100\n",
      "480/480 [==============================] - 0s 204us/step - loss: 0.5970 - acc: 0.7042\n",
      "Epoch 91/100\n",
      "480/480 [==============================] - 0s 211us/step - loss: 0.5973 - acc: 0.7042\n",
      "Epoch 92/100\n",
      "480/480 [==============================] - 0s 198us/step - loss: 0.6007 - acc: 0.7042\n",
      "Epoch 93/100\n",
      "480/480 [==============================] - 0s 198us/step - loss: 0.5964 - acc: 0.7063\n",
      "Epoch 94/100\n",
      "480/480 [==============================] - 0s 202us/step - loss: 0.6012 - acc: 0.7021\n",
      "Epoch 95/100\n",
      "480/480 [==============================] - 0s 202us/step - loss: 0.5994 - acc: 0.7000\n",
      "Epoch 96/100\n",
      "480/480 [==============================] - 0s 202us/step - loss: 0.6007 - acc: 0.6896\n",
      "Epoch 97/100\n",
      "480/480 [==============================] - 0s 200us/step - loss: 0.5951 - acc: 0.7083\n",
      "Epoch 98/100\n",
      "480/480 [==============================] - 0s 198us/step - loss: 0.5944 - acc: 0.6979\n",
      "Epoch 99/100\n",
      "480/480 [==============================] - 0s 196us/step - loss: 0.6038 - acc: 0.6979\n",
      "Epoch 100/100\n",
      "480/480 [==============================] - 0s 194us/step - loss: 0.5945 - acc: 0.7042\n"
     ]
    },
    {
     "data": {
      "text/plain": [
       "<keras.callbacks.History at 0x9931160860>"
      ]
     },
     "execution_count": 33,
     "metadata": {},
     "output_type": "execute_result"
    }
   ],
   "source": [
    "# Adding the second hidden layer\n",
    "sc.add(Dense(output_dim = 6, init = 'uniform', activation = 'relu'))\n",
    "\n",
    "# Adding the output layer\n",
    "sc.add(Dense(output_dim = 1, init = 'uniform', activation = 'sigmoid'))\n",
    "\n",
    "# Compiling the ANN\n",
    "sc.compile(optimizer = 'adam', loss = 'binary_crossentropy', metrics = ['accuracy'])\n",
    "\n",
    "# Fitting the ANN to the Training set\n",
    "sc.fit(X,y, batch_size = 10, nb_epoch = 100)\n"
   ]
  },
  {
   "cell_type": "code",
   "execution_count": 268,
   "metadata": {},
   "outputs": [],
   "source": [
    "from sklearn.preprocessing import StandardScaler"
   ]
  },
  {
   "cell_type": "code",
   "execution_count": 42,
   "metadata": {},
   "outputs": [],
   "source": [
    "sc=StandardScaler()"
   ]
  },
  {
   "cell_type": "code",
   "execution_count": 43,
   "metadata": {},
   "outputs": [],
   "source": [
    "X=sc.fit_transform(X)"
   ]
  },
  {
   "cell_type": "code",
   "execution_count": 44,
   "metadata": {},
   "outputs": [
    {
     "ename": "NameError",
     "evalue": "name 'classifier' is not defined",
     "output_type": "error",
     "traceback": [
      "\u001b[1;31m---------------------------------------------------------------------------\u001b[0m",
      "\u001b[1;31mNameError\u001b[0m                                 Traceback (most recent call last)",
      "\u001b[1;32m<ipython-input-44-0b88f5d61254>\u001b[0m in \u001b[0;36m<module>\u001b[1;34m\u001b[0m\n\u001b[1;32m----> 1\u001b[1;33m \u001b[0mclassifier\u001b[0m\u001b[1;33m.\u001b[0m\u001b[0mpredict\u001b[0m\u001b[1;33m(\u001b[0m\u001b[0mX\u001b[0m\u001b[1;33m)\u001b[0m\u001b[1;33m\u001b[0m\u001b[1;33m\u001b[0m\u001b[0m\n\u001b[0m",
      "\u001b[1;31mNameError\u001b[0m: name 'classifier' is not defined"
     ]
    }
   ],
   "source": [
    "classifier.predict(X)"
   ]
  },
  {
   "cell_type": "code",
   "execution_count": 34,
   "metadata": {},
   "outputs": [],
   "source": [
    "y_pred=sc.predict(X)"
   ]
  },
  {
   "cell_type": "code",
   "execution_count": 35,
   "metadata": {},
   "outputs": [],
   "source": [
    "y_pred=(y_pred>0.5)"
   ]
  },
  {
   "cell_type": "code",
   "execution_count": 36,
   "metadata": {},
   "outputs": [],
   "source": [
    "from sklearn.metrics import confusion_matrix"
   ]
  },
  {
   "cell_type": "code",
   "execution_count": 37,
   "metadata": {},
   "outputs": [
    {
     "data": {
      "text/plain": [
       "array([[ 16, 132],\n",
       "       [  7, 325]], dtype=int64)"
      ]
     },
     "execution_count": 37,
     "metadata": {},
     "output_type": "execute_result"
    }
   ],
   "source": [
    "confusion_matrix(y,y_pred)"
   ]
  },
  {
   "cell_type": "code",
   "execution_count": 38,
   "metadata": {
    "scrolled": true
   },
   "outputs": [
    {
     "data": {
      "text/plain": [
       "0.7104166666666667"
      ]
     },
     "execution_count": 38,
     "metadata": {},
     "output_type": "execute_result"
    }
   ],
   "source": [
    "(16+325)/(16+325+7+132)"
   ]
  },
  {
   "cell_type": "code",
   "execution_count": 39,
   "metadata": {},
   "outputs": [],
   "source": [
    "from sklearn.metrics import classification_report"
   ]
  },
  {
   "cell_type": "code",
   "execution_count": 40,
   "metadata": {},
   "outputs": [],
   "source": [
    "a=classification_report(y,y_pred)"
   ]
  },
  {
   "cell_type": "code",
   "execution_count": 41,
   "metadata": {},
   "outputs": [
    {
     "name": "stdout",
     "output_type": "stream",
     "text": [
      "              precision    recall  f1-score   support\n",
      "\n",
      "           0       0.70      0.11      0.19       148\n",
      "           1       0.71      0.98      0.82       332\n",
      "\n",
      "   micro avg       0.71      0.71      0.71       480\n",
      "   macro avg       0.70      0.54      0.51       480\n",
      "weighted avg       0.71      0.71      0.63       480\n",
      "\n"
     ]
    }
   ],
   "source": [
    "print(a)"
   ]
  },
  {
   "cell_type": "code",
   "execution_count": 33,
   "metadata": {},
   "outputs": [],
   "source": [
    "#The confusion matrix, which is a breakdown of predictions into a table showing correct predictions and the types of incorrect predictions made. Ideally, you will only see numbers in the diagonal, which means that all your predictions were correct!\n",
    "#Precision is a measure of a classifier’s exactness. The higher the precision, the more accurate the classifier.\n",
    "#Recall is a measure of a classifier’s completeness. The higher the recall, the more cases the classifier covers.\n",
    "#The F1 Score or F-score is a weighted average of precision and recall.\n",
    "#The Kappa or Cohen’s kappa is the classification accuracy normalized by the imbalance of the classes in the data."
   ]
  },
  {
   "cell_type": "code",
   "execution_count": 42,
   "metadata": {},
   "outputs": [],
   "source": [
    "# Import the modules from `sklearn.metrics`\n",
    "from sklearn.metrics import confusion_matrix, precision_score, recall_score, f1_score, cohen_kappa_score"
   ]
  },
  {
   "cell_type": "code",
   "execution_count": 43,
   "metadata": {},
   "outputs": [
    {
     "ename": "SyntaxError",
     "evalue": "invalid syntax (<ipython-input-43-9e28ef2cc5cd>, line 4)",
     "output_type": "error",
     "traceback": [
      "\u001b[1;36m  File \u001b[1;32m\"<ipython-input-43-9e28ef2cc5cd>\"\u001b[1;36m, line \u001b[1;32m4\u001b[0m\n\u001b[1;33m    recall_score(y_test, y_pred)\u001b[0m\n\u001b[1;37m               ^\u001b[0m\n\u001b[1;31mSyntaxError\u001b[0m\u001b[1;31m:\u001b[0m invalid syntax\n"
     ]
    }
   ],
   "source": [
    "# Precision \n",
    "precision_score(y_test, y_pred\n",
    "# Recall\n",
    "recall_score(y_test, y_pred)   \n",
    "# F1 score\n",
    "f1_score(y_test,y_pred)"
   ]
  },
  {
   "cell_type": "code",
   "execution_count": 47,
   "metadata": {},
   "outputs": [],
   "source": [
    "dataset=X1"
   ]
  },
  {
   "cell_type": "code",
   "execution_count": 48,
   "metadata": {},
   "outputs": [
    {
     "data": {
      "text/html": [
       "<div>\n",
       "<style scoped>\n",
       "    .dataframe tbody tr th:only-of-type {\n",
       "        vertical-align: middle;\n",
       "    }\n",
       "\n",
       "    .dataframe tbody tr th {\n",
       "        vertical-align: top;\n",
       "    }\n",
       "\n",
       "    .dataframe thead th {\n",
       "        text-align: right;\n",
       "    }\n",
       "</style>\n",
       "<table border=\"1\" class=\"dataframe\">\n",
       "  <thead>\n",
       "    <tr style=\"text-align: right;\">\n",
       "      <th></th>\n",
       "      <th>Loan_ID</th>\n",
       "      <th>Gender</th>\n",
       "      <th>Married</th>\n",
       "      <th>Dependents</th>\n",
       "      <th>Education</th>\n",
       "      <th>Self_Employed</th>\n",
       "      <th>ApplicantIncome</th>\n",
       "      <th>CoapplicantIncome</th>\n",
       "      <th>LoanAmount</th>\n",
       "      <th>Loan_Amount_Term</th>\n",
       "      <th>Credit_History</th>\n",
       "      <th>Property_Area</th>\n",
       "      <th>Loan_Status</th>\n",
       "    </tr>\n",
       "  </thead>\n",
       "  <tbody>\n",
       "    <tr>\n",
       "      <th>0</th>\n",
       "      <td>LP001002</td>\n",
       "      <td>Male</td>\n",
       "      <td>No</td>\n",
       "      <td>0</td>\n",
       "      <td>Graduate</td>\n",
       "      <td>No</td>\n",
       "      <td>5849</td>\n",
       "      <td>0.0</td>\n",
       "      <td>NaN</td>\n",
       "      <td>360.0</td>\n",
       "      <td>1.0</td>\n",
       "      <td>Urban</td>\n",
       "      <td>Y</td>\n",
       "    </tr>\n",
       "    <tr>\n",
       "      <th>1</th>\n",
       "      <td>LP001003</td>\n",
       "      <td>Male</td>\n",
       "      <td>Yes</td>\n",
       "      <td>1</td>\n",
       "      <td>Graduate</td>\n",
       "      <td>No</td>\n",
       "      <td>4583</td>\n",
       "      <td>1508.0</td>\n",
       "      <td>128.0</td>\n",
       "      <td>360.0</td>\n",
       "      <td>1.0</td>\n",
       "      <td>Rural</td>\n",
       "      <td>N</td>\n",
       "    </tr>\n",
       "    <tr>\n",
       "      <th>2</th>\n",
       "      <td>LP001005</td>\n",
       "      <td>Male</td>\n",
       "      <td>Yes</td>\n",
       "      <td>0</td>\n",
       "      <td>Graduate</td>\n",
       "      <td>Yes</td>\n",
       "      <td>3000</td>\n",
       "      <td>0.0</td>\n",
       "      <td>66.0</td>\n",
       "      <td>360.0</td>\n",
       "      <td>1.0</td>\n",
       "      <td>Urban</td>\n",
       "      <td>Y</td>\n",
       "    </tr>\n",
       "    <tr>\n",
       "      <th>3</th>\n",
       "      <td>LP001006</td>\n",
       "      <td>Male</td>\n",
       "      <td>Yes</td>\n",
       "      <td>0</td>\n",
       "      <td>Not Graduate</td>\n",
       "      <td>No</td>\n",
       "      <td>2583</td>\n",
       "      <td>2358.0</td>\n",
       "      <td>120.0</td>\n",
       "      <td>360.0</td>\n",
       "      <td>1.0</td>\n",
       "      <td>Urban</td>\n",
       "      <td>Y</td>\n",
       "    </tr>\n",
       "    <tr>\n",
       "      <th>4</th>\n",
       "      <td>LP001008</td>\n",
       "      <td>Male</td>\n",
       "      <td>No</td>\n",
       "      <td>0</td>\n",
       "      <td>Graduate</td>\n",
       "      <td>No</td>\n",
       "      <td>6000</td>\n",
       "      <td>0.0</td>\n",
       "      <td>141.0</td>\n",
       "      <td>360.0</td>\n",
       "      <td>1.0</td>\n",
       "      <td>Urban</td>\n",
       "      <td>Y</td>\n",
       "    </tr>\n",
       "  </tbody>\n",
       "</table>\n",
       "</div>"
      ],
      "text/plain": [
       "    Loan_ID Gender Married Dependents     Education Self_Employed  \\\n",
       "0  LP001002   Male      No          0      Graduate            No   \n",
       "1  LP001003   Male     Yes          1      Graduate            No   \n",
       "2  LP001005   Male     Yes          0      Graduate           Yes   \n",
       "3  LP001006   Male     Yes          0  Not Graduate            No   \n",
       "4  LP001008   Male      No          0      Graduate            No   \n",
       "\n",
       "   ApplicantIncome  CoapplicantIncome  LoanAmount  Loan_Amount_Term  \\\n",
       "0             5849                0.0         NaN             360.0   \n",
       "1             4583             1508.0       128.0             360.0   \n",
       "2             3000                0.0        66.0             360.0   \n",
       "3             2583             2358.0       120.0             360.0   \n",
       "4             6000                0.0       141.0             360.0   \n",
       "\n",
       "   Credit_History Property_Area Loan_Status  \n",
       "0             1.0         Urban           Y  \n",
       "1             1.0         Rural           N  \n",
       "2             1.0         Urban           Y  \n",
       "3             1.0         Urban           Y  \n",
       "4             1.0         Urban           Y  "
      ]
     },
     "execution_count": 48,
     "metadata": {},
     "output_type": "execute_result"
    }
   ],
   "source": [
    "dataset.head()"
   ]
  },
  {
   "cell_type": "code",
   "execution_count": 50,
   "metadata": {},
   "outputs": [],
   "source": [
    "X=dataset.iloc[:,1:12]"
   ]
  },
  {
   "cell_type": "code",
   "execution_count": 52,
   "metadata": {},
   "outputs": [],
   "source": [
    "y=dataset.iloc[:,12]"
   ]
  },
  {
   "cell_type": "code",
   "execution_count": 55,
   "metadata": {},
   "outputs": [],
   "source": [
    "y=y.map({\"N\":0,\"Y\":1})"
   ]
  },
  {
   "cell_type": "code",
   "execution_count": 58,
   "metadata": {},
   "outputs": [],
   "source": [
    "from sklearn.model_selection import train_test_split\n",
    "X_train,X_test,y_train,y_test=train_test_split(X,y,test_size=0.2,random_state=200)"
   ]
  },
  {
   "cell_type": "code",
   "execution_count": 59,
   "metadata": {},
   "outputs": [
    {
     "name": "stdout",
     "output_type": "stream",
     "text": [
      "(491, 11) \n",
      " (123, 11) \n",
      " (491,) \n",
      " (123,)\n"
     ]
    }
   ],
   "source": [
    "print(X_train.shape,\"\\n\",X_test.shape,\"\\n\",y_train.shape,\"\\n\",y_test.shape)"
   ]
  },
  {
   "cell_type": "code",
   "execution_count": 60,
   "metadata": {},
   "outputs": [],
   "source": [
    "from keras import regularizers\n",
    "cla=Sequential()\n"
   ]
  },
  {
   "cell_type": "code",
   "execution_count": null,
   "metadata": {},
   "outputs": [],
   "source": [
    "cla.add(Dense(6, activation='relu', input_shape=(14,),kernel_regularizer=regularizers.l2(0.001)))"
   ]
  },
  {
   "cell_type": "code",
   "execution_count": null,
   "metadata": {},
   "outputs": [],
   "source": [
    "cla.add(Dense(6,activation =\"relu\",kernel_initializer=\"uniform\"))\n",
    "#cla.add(Dense(6,activation =\"relu\",kernel_initializer=\"uniform\"))"
   ]
  },
  {
   "cell_type": "code",
   "execution_count": null,
   "metadata": {},
   "outputs": [],
   "source": [
    "cla.add(Dense(1,kernel_initializer=\"uniform\",activation=\"sigmoid\",kernel_regularizer=regularizers.l2(0.0001)))"
   ]
  },
  {
   "cell_type": "code",
   "execution_count": null,
   "metadata": {},
   "outputs": [],
   "source": [
    "cla.compile(loss=\"binary_crossentropy\",optimizer=\"adam\",  metrics=[\"accuracy\"])"
   ]
  },
  {
   "cell_type": "code",
   "execution_count": null,
   "metadata": {},
   "outputs": [],
   "source": [
    "cla.fit(X_train,y_train,batch_size=5,epochs=70,verbose=1)"
   ]
  },
  {
   "cell_type": "code",
   "execution_count": 306,
   "metadata": {},
   "outputs": [],
   "source": [
    "sc=Sequential()"
   ]
  },
  {
   "cell_type": "code",
   "execution_count": 307,
   "metadata": {},
   "outputs": [],
   "source": [
    "sc.add(Dense( 6,kernel_initializer = 'uniform', activation = 'relu', input_dim = 14))"
   ]
  },
  {
   "cell_type": "code",
   "execution_count": 320,
   "metadata": {},
   "outputs": [
    {
     "name": "stderr",
     "output_type": "stream",
     "text": [
      "C:\\Users\\sandY\\AppData\\Local\\conda\\conda\\envs\\tensorflow\\lib\\site-packages\\ipykernel_launcher.py:5: UserWarning: Update your `Dense` call to the Keras 2 API: `Dense(1, activation=\"sigmoid\", kernel_initializer=\"uniform\")`\n",
      "  \"\"\"\n",
      "C:\\Users\\sandY\\AppData\\Local\\conda\\conda\\envs\\tensorflow\\lib\\site-packages\\ipykernel_launcher.py:11: UserWarning: The `nb_epoch` argument in `fit` has been renamed `epochs`.\n",
      "  # This is added back by InteractiveShellApp.init_path()\n"
     ]
    },
    {
     "name": "stdout",
     "output_type": "stream",
     "text": [
      "Train on 384 samples, validate on 96 samples\n",
      "Epoch 1/100\n",
      "384/384 [==============================] - 5s 13ms/step - loss: 0.6907 - acc: 0.6641 - val_loss: 0.6863 - val_acc: 0.7188\n",
      "Epoch 2/100\n",
      "384/384 [==============================] - 0s 691us/step - loss: 0.6852 - acc: 0.6849 - val_loss: 0.6808 - val_acc: 0.7188\n",
      "Epoch 3/100\n",
      "384/384 [==============================] - 0s 714us/step - loss: 0.6802 - acc: 0.6849 - val_loss: 0.6749 - val_acc: 0.7188\n",
      "Epoch 4/100\n",
      "384/384 [==============================] - 0s 704us/step - loss: 0.6757 - acc: 0.6849 - val_loss: 0.6694 - val_acc: 0.7188\n",
      "Epoch 5/100\n",
      "384/384 [==============================] - 0s 727us/step - loss: 0.6715 - acc: 0.6849 - val_loss: 0.6648 - val_acc: 0.7188\n",
      "Epoch 6/100\n",
      "384/384 [==============================] - 0s 724us/step - loss: 0.6677 - acc: 0.6849 - val_loss: 0.6600 - val_acc: 0.7188\n",
      "Epoch 7/100\n",
      "384/384 [==============================] - 0s 857us/step - loss: 0.6640 - acc: 0.6849 - val_loss: 0.6557 - val_acc: 0.7188\n",
      "Epoch 8/100\n",
      "384/384 [==============================] - 0s 732us/step - loss: 0.6605 - acc: 0.6849 - val_loss: 0.6513 - val_acc: 0.7188\n",
      "Epoch 9/100\n",
      "384/384 [==============================] - 0s 558us/step - loss: 0.6574 - acc: 0.6849 - val_loss: 0.6480 - val_acc: 0.7188\n",
      "Epoch 10/100\n",
      "384/384 [==============================] - 0s 539us/step - loss: 0.6546 - acc: 0.6849 - val_loss: 0.6439 - val_acc: 0.7188\n",
      "Epoch 11/100\n",
      "384/384 [==============================] - 0s 524us/step - loss: 0.6518 - acc: 0.6849 - val_loss: 0.6409 - val_acc: 0.7188\n",
      "Epoch 12/100\n",
      "384/384 [==============================] - 0s 459us/step - loss: 0.6494 - acc: 0.6849 - val_loss: 0.6379 - val_acc: 0.7188\n",
      "Epoch 13/100\n",
      "384/384 [==============================] - 0s 464us/step - loss: 0.6470 - acc: 0.6849 - val_loss: 0.6349 - val_acc: 0.7188\n",
      "Epoch 14/100\n",
      "384/384 [==============================] - 0s 490us/step - loss: 0.6449 - acc: 0.6849 - val_loss: 0.6319 - val_acc: 0.7188\n",
      "Epoch 15/100\n",
      "384/384 [==============================] - 0s 459us/step - loss: 0.6428 - acc: 0.6849 - val_loss: 0.6296 - val_acc: 0.7188\n",
      "Epoch 16/100\n",
      "384/384 [==============================] - 0s 456us/step - loss: 0.6412 - acc: 0.6849 - val_loss: 0.6273 - val_acc: 0.7188\n",
      "Epoch 17/100\n",
      "384/384 [==============================] - 0s 683us/step - loss: 0.6397 - acc: 0.6849 - val_loss: 0.6254 - val_acc: 0.7188\n",
      "Epoch 18/100\n",
      "384/384 [==============================] - 0s 412us/step - loss: 0.6382 - acc: 0.6849 - val_loss: 0.6233 - val_acc: 0.7188\n",
      "Epoch 19/100\n",
      "384/384 [==============================] - 0s 412us/step - loss: 0.6369 - acc: 0.6849 - val_loss: 0.6212 - val_acc: 0.7188\n",
      "Epoch 20/100\n",
      "384/384 [==============================] - 0s 399us/step - loss: 0.6356 - acc: 0.6849 - val_loss: 0.6197 - val_acc: 0.7188\n",
      "Epoch 21/100\n",
      "384/384 [==============================] - 0s 446us/step - loss: 0.6345 - acc: 0.6849 - val_loss: 0.6181 - val_acc: 0.7188\n",
      "Epoch 22/100\n",
      "384/384 [==============================] - 0s 386us/step - loss: 0.6334 - acc: 0.6849 - val_loss: 0.6167 - val_acc: 0.7188\n",
      "Epoch 23/100\n",
      "384/384 [==============================] - 0s 375us/step - loss: 0.6325 - acc: 0.6849 - val_loss: 0.6154 - val_acc: 0.7188\n",
      "Epoch 24/100\n",
      "384/384 [==============================] - 0s 375us/step - loss: 0.6317 - acc: 0.6849 - val_loss: 0.6141 - val_acc: 0.7188\n",
      "Epoch 25/100\n",
      "384/384 [==============================] - 0s 393us/step - loss: 0.6309 - acc: 0.6849 - val_loss: 0.6129 - val_acc: 0.7188\n",
      "Epoch 26/100\n",
      "384/384 [==============================] - 0s 388us/step - loss: 0.6301 - acc: 0.6849 - val_loss: 0.6117 - val_acc: 0.7188\n",
      "Epoch 27/100\n",
      "384/384 [==============================] - 0s 396us/step - loss: 0.6295 - acc: 0.6849 - val_loss: 0.6109 - val_acc: 0.7188\n",
      "Epoch 28/100\n",
      "384/384 [==============================] - 0s 388us/step - loss: 0.6289 - acc: 0.6849 - val_loss: 0.6098 - val_acc: 0.7188\n",
      "Epoch 29/100\n",
      "384/384 [==============================] - 0s 383us/step - loss: 0.6284 - acc: 0.6849 - val_loss: 0.6089 - val_acc: 0.7188\n",
      "Epoch 30/100\n",
      "384/384 [==============================] - 0s 386us/step - loss: 0.6278 - acc: 0.6849 - val_loss: 0.6079 - val_acc: 0.7188\n",
      "Epoch 31/100\n",
      "384/384 [==============================] - 0s 378us/step - loss: 0.6274 - acc: 0.6849 - val_loss: 0.6074 - val_acc: 0.7188\n",
      "Epoch 32/100\n",
      "384/384 [==============================] - 0s 365us/step - loss: 0.6270 - acc: 0.6849 - val_loss: 0.6065 - val_acc: 0.7188\n",
      "Epoch 33/100\n",
      "384/384 [==============================] - 0s 315us/step - loss: 0.6266 - acc: 0.6849 - val_loss: 0.6061 - val_acc: 0.7188\n",
      "Epoch 34/100\n",
      "384/384 [==============================] - 0s 313us/step - loss: 0.6264 - acc: 0.6849 - val_loss: 0.6054 - val_acc: 0.7188\n",
      "Epoch 35/100\n",
      "384/384 [==============================] - 0s 318us/step - loss: 0.6261 - acc: 0.6849 - val_loss: 0.6049 - val_acc: 0.7188\n",
      "Epoch 36/100\n",
      "384/384 [==============================] - 0s 315us/step - loss: 0.6258 - acc: 0.6849 - val_loss: 0.6044 - val_acc: 0.7188\n",
      "Epoch 37/100\n",
      "384/384 [==============================] - 0s 292us/step - loss: 0.6256 - acc: 0.6849 - val_loss: 0.6040 - val_acc: 0.7188\n",
      "Epoch 38/100\n",
      "384/384 [==============================] - 0s 349us/step - loss: 0.6253 - acc: 0.6849 - val_loss: 0.6035 - val_acc: 0.7188\n",
      "Epoch 39/100\n",
      "384/384 [==============================] - 0s 386us/step - loss: 0.6251 - acc: 0.6849 - val_loss: 0.6030 - val_acc: 0.7188\n",
      "Epoch 40/100\n",
      "384/384 [==============================] - 0s 365us/step - loss: 0.6249 - acc: 0.6849 - val_loss: 0.6026 - val_acc: 0.7188\n",
      "Epoch 41/100\n",
      "384/384 [==============================] - 0s 378us/step - loss: 0.6247 - acc: 0.6849 - val_loss: 0.6023 - val_acc: 0.7188\n",
      "Epoch 42/100\n",
      "384/384 [==============================] - 0s 375us/step - loss: 0.6247 - acc: 0.6849 - val_loss: 0.6018 - val_acc: 0.7188\n",
      "Epoch 43/100\n",
      "384/384 [==============================] - 0s 360us/step - loss: 0.6244 - acc: 0.6849 - val_loss: 0.6016 - val_acc: 0.7188\n",
      "Epoch 44/100\n",
      "384/384 [==============================] - 0s 323us/step - loss: 0.6244 - acc: 0.6849 - val_loss: 0.6011 - val_acc: 0.7188\n",
      "Epoch 45/100\n",
      "384/384 [==============================] - 0s 334us/step - loss: 0.6241 - acc: 0.6849 - val_loss: 0.6009 - val_acc: 0.7188\n",
      "Epoch 46/100\n",
      "384/384 [==============================] - 0s 336us/step - loss: 0.6240 - acc: 0.6849 - val_loss: 0.6007 - val_acc: 0.7188\n",
      "Epoch 47/100\n",
      "384/384 [==============================] - 0s 307us/step - loss: 0.6240 - acc: 0.6849 - val_loss: 0.6006 - val_acc: 0.7188\n",
      "Epoch 48/100\n",
      "384/384 [==============================] - 0s 302us/step - loss: 0.6239 - acc: 0.6849 - val_loss: 0.6002 - val_acc: 0.7188\n",
      "Epoch 49/100\n",
      "384/384 [==============================] - 0s 297us/step - loss: 0.6238 - acc: 0.6849 - val_loss: 0.6000 - val_acc: 0.7188\n",
      "Epoch 50/100\n",
      "384/384 [==============================] - 0s 341us/step - loss: 0.6238 - acc: 0.6849 - val_loss: 0.5998 - val_acc: 0.7188\n",
      "Epoch 51/100\n",
      "384/384 [==============================] - 0s 326us/step - loss: 0.6237 - acc: 0.6849 - val_loss: 0.5995 - val_acc: 0.7188\n",
      "Epoch 52/100\n",
      "384/384 [==============================] - 0s 313us/step - loss: 0.6236 - acc: 0.6849 - val_loss: 0.5993 - val_acc: 0.7188\n",
      "Epoch 53/100\n",
      "384/384 [==============================] - 0s 328us/step - loss: 0.6235 - acc: 0.6849 - val_loss: 0.5992 - val_acc: 0.7188\n",
      "Epoch 54/100\n",
      "384/384 [==============================] - 0s 344us/step - loss: 0.6235 - acc: 0.6849 - val_loss: 0.5991 - val_acc: 0.7188\n",
      "Epoch 55/100\n",
      "384/384 [==============================] - 0s 349us/step - loss: 0.6235 - acc: 0.6849 - val_loss: 0.5989 - val_acc: 0.7188\n",
      "Epoch 56/100\n",
      "384/384 [==============================] - 0s 360us/step - loss: 0.6234 - acc: 0.6849 - val_loss: 0.5987 - val_acc: 0.7188\n",
      "Epoch 57/100\n",
      "384/384 [==============================] - 0s 370us/step - loss: 0.6234 - acc: 0.6849 - val_loss: 0.5985 - val_acc: 0.7188\n",
      "Epoch 58/100\n",
      "384/384 [==============================] - 0s 380us/step - loss: 0.6234 - acc: 0.6849 - val_loss: 0.5985 - val_acc: 0.7188\n",
      "Epoch 59/100\n",
      "384/384 [==============================] - 0s 334us/step - loss: 0.6234 - acc: 0.6849 - val_loss: 0.5984 - val_acc: 0.7188\n",
      "Epoch 60/100\n",
      "384/384 [==============================] - 0s 326us/step - loss: 0.6234 - acc: 0.6849 - val_loss: 0.5983 - val_acc: 0.7188\n"
     ]
    },
    {
     "name": "stdout",
     "output_type": "stream",
     "text": [
      "Epoch 61/100\n",
      "384/384 [==============================] - 0s 341us/step - loss: 0.6233 - acc: 0.6849 - val_loss: 0.5982 - val_acc: 0.7188\n",
      "Epoch 62/100\n",
      "384/384 [==============================] - 0s 352us/step - loss: 0.6233 - acc: 0.6849 - val_loss: 0.5982 - val_acc: 0.7188\n",
      "Epoch 63/100\n",
      "384/384 [==============================] - 0s 279us/step - loss: 0.6233 - acc: 0.6849 - val_loss: 0.5981 - val_acc: 0.7188\n",
      "Epoch 64/100\n",
      "384/384 [==============================] - 0s 294us/step - loss: 0.6233 - acc: 0.6849 - val_loss: 0.5981 - val_acc: 0.7188\n",
      "Epoch 65/100\n",
      "384/384 [==============================] - 0s 274us/step - loss: 0.6233 - acc: 0.6849 - val_loss: 0.5980 - val_acc: 0.7188\n",
      "Epoch 66/100\n",
      "384/384 [==============================] - 0s 279us/step - loss: 0.6233 - acc: 0.6849 - val_loss: 0.5980 - val_acc: 0.7188\n",
      "Epoch 67/100\n",
      "384/384 [==============================] - 0s 274us/step - loss: 0.6232 - acc: 0.6849 - val_loss: 0.5979 - val_acc: 0.7188\n",
      "Epoch 68/100\n",
      "384/384 [==============================] - 0s 284us/step - loss: 0.6232 - acc: 0.6849 - val_loss: 0.5978 - val_acc: 0.7188\n",
      "Epoch 69/100\n",
      "384/384 [==============================] - 0s 276us/step - loss: 0.6232 - acc: 0.6849 - val_loss: 0.5976 - val_acc: 0.7188\n",
      "Epoch 70/100\n",
      "384/384 [==============================] - 0s 334us/step - loss: 0.6232 - acc: 0.6849 - val_loss: 0.5976 - val_acc: 0.7188\n",
      "Epoch 71/100\n",
      "384/384 [==============================] - 0s 302us/step - loss: 0.6232 - acc: 0.6849 - val_loss: 0.5977 - val_acc: 0.7188\n",
      "Epoch 72/100\n",
      "384/384 [==============================] - 0s 341us/step - loss: 0.6232 - acc: 0.6849 - val_loss: 0.5976 - val_acc: 0.7188\n",
      "Epoch 73/100\n",
      "384/384 [==============================] - 0s 360us/step - loss: 0.6233 - acc: 0.6849 - val_loss: 0.5976 - val_acc: 0.7188\n",
      "Epoch 74/100\n",
      "384/384 [==============================] - 0s 354us/step - loss: 0.6232 - acc: 0.6849 - val_loss: 0.5974 - val_acc: 0.7188\n",
      "Epoch 75/100\n",
      "384/384 [==============================] - 0s 326us/step - loss: 0.6232 - acc: 0.6849 - val_loss: 0.5974 - val_acc: 0.7188\n",
      "Epoch 76/100\n",
      "384/384 [==============================] - 0s 289us/step - loss: 0.6232 - acc: 0.6849 - val_loss: 0.5974 - val_acc: 0.7188\n",
      "Epoch 77/100\n",
      "384/384 [==============================] - 0s 284us/step - loss: 0.6232 - acc: 0.6849 - val_loss: 0.5973 - val_acc: 0.7188\n",
      "Epoch 78/100\n",
      "384/384 [==============================] - 0s 331us/step - loss: 0.6232 - acc: 0.6849 - val_loss: 0.5973 - val_acc: 0.7188\n",
      "Epoch 79/100\n",
      "384/384 [==============================] - 0s 281us/step - loss: 0.6232 - acc: 0.6849 - val_loss: 0.5972 - val_acc: 0.7188\n",
      "Epoch 80/100\n",
      "384/384 [==============================] - 0s 268us/step - loss: 0.6232 - acc: 0.6849 - val_loss: 0.5973 - val_acc: 0.7188\n",
      "Epoch 81/100\n",
      "384/384 [==============================] - 0s 281us/step - loss: 0.6232 - acc: 0.6849 - val_loss: 0.5973 - val_acc: 0.7188\n",
      "Epoch 82/100\n",
      "384/384 [==============================] - 0s 284us/step - loss: 0.6232 - acc: 0.6849 - val_loss: 0.5972 - val_acc: 0.7188\n",
      "Epoch 83/100\n",
      "384/384 [==============================] - 0s 271us/step - loss: 0.6232 - acc: 0.6849 - val_loss: 0.5972 - val_acc: 0.7188\n",
      "Epoch 84/100\n",
      "384/384 [==============================] - 0s 279us/step - loss: 0.6232 - acc: 0.6849 - val_loss: 0.5972 - val_acc: 0.7188\n",
      "Epoch 85/100\n",
      "384/384 [==============================] - 0s 276us/step - loss: 0.6232 - acc: 0.6849 - val_loss: 0.5972 - val_acc: 0.7188\n",
      "Epoch 86/100\n",
      "384/384 [==============================] - 0s 313us/step - loss: 0.6232 - acc: 0.6849 - val_loss: 0.5971 - val_acc: 0.7188\n",
      "Epoch 87/100\n",
      "384/384 [==============================] - 0s 302us/step - loss: 0.6232 - acc: 0.6849 - val_loss: 0.5971 - val_acc: 0.7188\n",
      "Epoch 88/100\n",
      "384/384 [==============================] - 0s 289us/step - loss: 0.6231 - acc: 0.6849 - val_loss: 0.5970 - val_acc: 0.7188\n",
      "Epoch 89/100\n",
      "384/384 [==============================] - 0s 328us/step - loss: 0.6232 - acc: 0.6849 - val_loss: 0.5971 - val_acc: 0.7188\n",
      "Epoch 90/100\n",
      "384/384 [==============================] - 0s 365us/step - loss: 0.6232 - acc: 0.6849 - val_loss: 0.5970 - val_acc: 0.7188\n",
      "Epoch 91/100\n",
      "384/384 [==============================] - 0s 357us/step - loss: 0.6232 - acc: 0.6849 - val_loss: 0.5969 - val_acc: 0.7188\n",
      "Epoch 92/100\n",
      "384/384 [==============================] - 0s 326us/step - loss: 0.6231 - acc: 0.6849 - val_loss: 0.5970 - val_acc: 0.7188\n",
      "Epoch 93/100\n",
      "384/384 [==============================] - 0s 294us/step - loss: 0.6232 - acc: 0.6849 - val_loss: 0.5971 - val_acc: 0.7188\n",
      "Epoch 94/100\n",
      "384/384 [==============================] - 0s 292us/step - loss: 0.6232 - acc: 0.6849 - val_loss: 0.5970 - val_acc: 0.7188\n",
      "Epoch 95/100\n",
      "384/384 [==============================] - 0s 323us/step - loss: 0.6231 - acc: 0.6849 - val_loss: 0.5970 - val_acc: 0.7188\n",
      "Epoch 96/100\n",
      "384/384 [==============================] - 0s 284us/step - loss: 0.6232 - acc: 0.6849 - val_loss: 0.5971 - val_acc: 0.7188\n",
      "Epoch 97/100\n",
      "384/384 [==============================] - 0s 271us/step - loss: 0.6232 - acc: 0.6849 - val_loss: 0.5971 - val_acc: 0.7188\n",
      "Epoch 98/100\n",
      "384/384 [==============================] - 0s 274us/step - loss: 0.6231 - acc: 0.6849 - val_loss: 0.5971 - val_acc: 0.7188\n",
      "Epoch 99/100\n",
      "384/384 [==============================] - 0s 284us/step - loss: 0.6232 - acc: 0.6849 - val_loss: 0.5970 - val_acc: 0.7188\n",
      "Epoch 100/100\n",
      "384/384 [==============================] - 0s 276us/step - loss: 0.6231 - acc: 0.6849 - val_loss: 0.5970 - val_acc: 0.7188\n"
     ]
    },
    {
     "data": {
      "text/plain": [
       "<keras.callbacks.History at 0xbd4dd51cf8>"
      ]
     },
     "execution_count": 320,
     "metadata": {},
     "output_type": "execute_result"
    }
   ],
   "source": [
    "# Adding the second hidden layer\n",
    "sc.add(Dense( 6, kernel_initializer = 'uniform', activation = 'relu'))\n",
    "\n",
    "# Adding the output layer\n",
    "sc.add(Dense(1, init = 'uniform', activation = 'sigmoid'))\n",
    "\n",
    "# Compiling the ANN\n",
    "sc.compile(optimizer = 'adam', loss = 'binary_crossentropy', metrics = ['accuracy'])\n",
    "\n",
    "# Fitting the ANN to the Training set\n",
    "sc.fit(X,y, batch_size = 10, nb_epoch = 100,validation_split=0.2)\n"
   ]
  },
  {
   "cell_type": "code",
   "execution_count": 317,
   "metadata": {},
   "outputs": [],
   "source": [
    "y1=sc.predict(u)\n",
    "y1=y1>0.5"
   ]
  },
  {
   "cell_type": "code",
   "execution_count": 318,
   "metadata": {},
   "outputs": [
    {
     "data": {
      "text/plain": [
       "array([[  3, 145],\n",
       "       [  2, 330]], dtype=int64)"
      ]
     },
     "execution_count": 318,
     "metadata": {},
     "output_type": "execute_result"
    }
   ],
   "source": [
    "confusion_matrix(y,y1)"
   ]
  },
  {
   "cell_type": "code",
   "execution_count": 321,
   "metadata": {},
   "outputs": [
    {
     "ename": "TypeError",
     "evalue": "'History' object is not subscriptable",
     "output_type": "error",
     "traceback": [
      "\u001b[1;31m---------------------------------------------------------------------------\u001b[0m",
      "\u001b[1;31mTypeError\u001b[0m                                 Traceback (most recent call last)",
      "\u001b[1;32m<ipython-input-321-2417fb0b9725>\u001b[0m in \u001b[0;36m<module>\u001b[1;34m\u001b[0m\n\u001b[0;32m      1\u001b[0m \u001b[1;32mfrom\u001b[0m \u001b[0mmatplotlib\u001b[0m \u001b[1;32mimport\u001b[0m \u001b[0mpyplot\u001b[0m \u001b[1;32mas\u001b[0m \u001b[0mplt\u001b[0m\u001b[1;33m\u001b[0m\u001b[1;33m\u001b[0m\u001b[0m\n\u001b[1;32m----> 2\u001b[1;33m \u001b[0mplt\u001b[0m\u001b[1;33m.\u001b[0m\u001b[0mplot\u001b[0m\u001b[1;33m(\u001b[0m\u001b[0msc\u001b[0m\u001b[1;33m.\u001b[0m\u001b[0mhistory\u001b[0m\u001b[1;33m[\u001b[0m\u001b[1;34m'acc'\u001b[0m\u001b[1;33m]\u001b[0m\u001b[1;33m)\u001b[0m\u001b[1;33m\u001b[0m\u001b[1;33m\u001b[0m\u001b[0m\n\u001b[0m\u001b[0;32m      3\u001b[0m \u001b[0mplt\u001b[0m\u001b[1;33m.\u001b[0m\u001b[0mplot\u001b[0m\u001b[1;33m(\u001b[0m\u001b[0msc\u001b[0m\u001b[1;33m.\u001b[0m\u001b[0mhistory\u001b[0m\u001b[1;33m[\u001b[0m\u001b[1;34m'val_acc'\u001b[0m\u001b[1;33m]\u001b[0m\u001b[1;33m)\u001b[0m\u001b[1;33m\u001b[0m\u001b[1;33m\u001b[0m\u001b[0m\n\u001b[0;32m      4\u001b[0m \u001b[0mplt\u001b[0m\u001b[1;33m.\u001b[0m\u001b[0mtitle\u001b[0m\u001b[1;33m(\u001b[0m\u001b[1;34m'Model accuracy'\u001b[0m\u001b[1;33m)\u001b[0m\u001b[1;33m\u001b[0m\u001b[1;33m\u001b[0m\u001b[0m\n\u001b[0;32m      5\u001b[0m \u001b[0mplt\u001b[0m\u001b[1;33m.\u001b[0m\u001b[0mylabel\u001b[0m\u001b[1;33m(\u001b[0m\u001b[1;34m'Accuracy'\u001b[0m\u001b[1;33m)\u001b[0m\u001b[1;33m\u001b[0m\u001b[1;33m\u001b[0m\u001b[0m\n",
      "\u001b[1;31mTypeError\u001b[0m: 'History' object is not subscriptable"
     ]
    }
   ],
   "source": [
    "from matplotlib import pyplot as plt \n",
    "plt.plot(sc.history['acc'])\n",
    "plt.plot(sc.history['val_acc'])\n",
    "plt.title('Model accuracy')\n",
    "plt.ylabel('Accuracy')\n",
    "plt.xlabel('Epoch')\n",
    "plt.legend(['Train', 'Test'], loc='upper left')\n",
    "plt.show()\n"
   ]
  },
  {
   "cell_type": "code",
   "execution_count": 322,
   "metadata": {},
   "outputs": [
    {
     "ename": "TypeError",
     "evalue": "'History' object is not subscriptable",
     "output_type": "error",
     "traceback": [
      "\u001b[1;31m---------------------------------------------------------------------------\u001b[0m",
      "\u001b[1;31mTypeError\u001b[0m                                 Traceback (most recent call last)",
      "\u001b[1;32m<ipython-input-322-cf78e6bdd442>\u001b[0m in \u001b[0;36m<module>\u001b[1;34m\u001b[0m\n\u001b[1;32m----> 1\u001b[1;33m \u001b[0msc\u001b[0m\u001b[1;33m.\u001b[0m\u001b[0mhistory\u001b[0m\u001b[1;33m[\u001b[0m\u001b[1;34m\"acc\"\u001b[0m\u001b[1;33m]\u001b[0m\u001b[1;33m\u001b[0m\u001b[1;33m\u001b[0m\u001b[0m\n\u001b[0m",
      "\u001b[1;31mTypeError\u001b[0m: 'History' object is not subscriptable"
     ]
    }
   ],
   "source": [
    "sc.history[\"acc\"]"
   ]
  },
  {
   "cell_type": "markdown",
   "metadata": {},
   "source": [
    "# project "
   ]
  },
  {
   "cell_type": "code",
   "execution_count": 37,
   "metadata": {},
   "outputs": [
    {
     "ename": "OSError",
     "evalue": "pima-indians-diabetes.csv not found.",
     "output_type": "error",
     "traceback": [
      "\u001b[1;31m---------------------------------------------------------------------------\u001b[0m",
      "\u001b[1;31mOSError\u001b[0m                                   Traceback (most recent call last)",
      "\u001b[1;32m<ipython-input-37-84faa66be1a5>\u001b[0m in \u001b[0;36m<module>\u001b[1;34m\u001b[0m\n\u001b[0;32m      1\u001b[0m \u001b[1;32mimport\u001b[0m \u001b[0mnumpy\u001b[0m\u001b[1;33m\u001b[0m\u001b[1;33m\u001b[0m\u001b[0m\n\u001b[1;32m----> 2\u001b[1;33m \u001b[0mdataset\u001b[0m \u001b[1;33m=\u001b[0m \u001b[0mnumpy\u001b[0m\u001b[1;33m.\u001b[0m\u001b[0mloadtxt\u001b[0m\u001b[1;33m(\u001b[0m\u001b[1;34m\"pima-indians-diabetes.csv\"\u001b[0m\u001b[1;33m,\u001b[0m \u001b[0mdelimiter\u001b[0m\u001b[1;33m=\u001b[0m\u001b[1;34m\",\"\u001b[0m\u001b[1;33m)\u001b[0m\u001b[1;33m\u001b[0m\u001b[1;33m\u001b[0m\u001b[0m\n\u001b[0m",
      "\u001b[1;32m~\\AppData\\Local\\conda\\conda\\envs\\tensorflow\\lib\\site-packages\\numpy\\lib\\npyio.py\u001b[0m in \u001b[0;36mloadtxt\u001b[1;34m(fname, dtype, comments, delimiter, converters, skiprows, usecols, unpack, ndmin, encoding, max_rows)\u001b[0m\n\u001b[0;32m    953\u001b[0m             \u001b[0mfname\u001b[0m \u001b[1;33m=\u001b[0m \u001b[0mos_fspath\u001b[0m\u001b[1;33m(\u001b[0m\u001b[0mfname\u001b[0m\u001b[1;33m)\u001b[0m\u001b[1;33m\u001b[0m\u001b[1;33m\u001b[0m\u001b[0m\n\u001b[0;32m    954\u001b[0m         \u001b[1;32mif\u001b[0m \u001b[0m_is_string_like\u001b[0m\u001b[1;33m(\u001b[0m\u001b[0mfname\u001b[0m\u001b[1;33m)\u001b[0m\u001b[1;33m:\u001b[0m\u001b[1;33m\u001b[0m\u001b[1;33m\u001b[0m\u001b[0m\n\u001b[1;32m--> 955\u001b[1;33m             \u001b[0mfh\u001b[0m \u001b[1;33m=\u001b[0m \u001b[0mnp\u001b[0m\u001b[1;33m.\u001b[0m\u001b[0mlib\u001b[0m\u001b[1;33m.\u001b[0m\u001b[0m_datasource\u001b[0m\u001b[1;33m.\u001b[0m\u001b[0mopen\u001b[0m\u001b[1;33m(\u001b[0m\u001b[0mfname\u001b[0m\u001b[1;33m,\u001b[0m \u001b[1;34m'rt'\u001b[0m\u001b[1;33m,\u001b[0m \u001b[0mencoding\u001b[0m\u001b[1;33m=\u001b[0m\u001b[0mencoding\u001b[0m\u001b[1;33m)\u001b[0m\u001b[1;33m\u001b[0m\u001b[1;33m\u001b[0m\u001b[0m\n\u001b[0m\u001b[0;32m    956\u001b[0m             \u001b[0mfencoding\u001b[0m \u001b[1;33m=\u001b[0m \u001b[0mgetattr\u001b[0m\u001b[1;33m(\u001b[0m\u001b[0mfh\u001b[0m\u001b[1;33m,\u001b[0m \u001b[1;34m'encoding'\u001b[0m\u001b[1;33m,\u001b[0m \u001b[1;34m'latin1'\u001b[0m\u001b[1;33m)\u001b[0m\u001b[1;33m\u001b[0m\u001b[1;33m\u001b[0m\u001b[0m\n\u001b[0;32m    957\u001b[0m             \u001b[0mfh\u001b[0m \u001b[1;33m=\u001b[0m \u001b[0miter\u001b[0m\u001b[1;33m(\u001b[0m\u001b[0mfh\u001b[0m\u001b[1;33m)\u001b[0m\u001b[1;33m\u001b[0m\u001b[1;33m\u001b[0m\u001b[0m\n",
      "\u001b[1;32m~\\AppData\\Local\\conda\\conda\\envs\\tensorflow\\lib\\site-packages\\numpy\\lib\\_datasource.py\u001b[0m in \u001b[0;36mopen\u001b[1;34m(path, mode, destpath, encoding, newline)\u001b[0m\n\u001b[0;32m    264\u001b[0m \u001b[1;33m\u001b[0m\u001b[0m\n\u001b[0;32m    265\u001b[0m     \u001b[0mds\u001b[0m \u001b[1;33m=\u001b[0m \u001b[0mDataSource\u001b[0m\u001b[1;33m(\u001b[0m\u001b[0mdestpath\u001b[0m\u001b[1;33m)\u001b[0m\u001b[1;33m\u001b[0m\u001b[1;33m\u001b[0m\u001b[0m\n\u001b[1;32m--> 266\u001b[1;33m     \u001b[1;32mreturn\u001b[0m \u001b[0mds\u001b[0m\u001b[1;33m.\u001b[0m\u001b[0mopen\u001b[0m\u001b[1;33m(\u001b[0m\u001b[0mpath\u001b[0m\u001b[1;33m,\u001b[0m \u001b[0mmode\u001b[0m\u001b[1;33m,\u001b[0m \u001b[0mencoding\u001b[0m\u001b[1;33m=\u001b[0m\u001b[0mencoding\u001b[0m\u001b[1;33m,\u001b[0m \u001b[0mnewline\u001b[0m\u001b[1;33m=\u001b[0m\u001b[0mnewline\u001b[0m\u001b[1;33m)\u001b[0m\u001b[1;33m\u001b[0m\u001b[1;33m\u001b[0m\u001b[0m\n\u001b[0m\u001b[0;32m    267\u001b[0m \u001b[1;33m\u001b[0m\u001b[0m\n\u001b[0;32m    268\u001b[0m \u001b[1;33m\u001b[0m\u001b[0m\n",
      "\u001b[1;32m~\\AppData\\Local\\conda\\conda\\envs\\tensorflow\\lib\\site-packages\\numpy\\lib\\_datasource.py\u001b[0m in \u001b[0;36mopen\u001b[1;34m(self, path, mode, encoding, newline)\u001b[0m\n\u001b[0;32m    622\u001b[0m                                       encoding=encoding, newline=newline)\n\u001b[0;32m    623\u001b[0m         \u001b[1;32melse\u001b[0m\u001b[1;33m:\u001b[0m\u001b[1;33m\u001b[0m\u001b[1;33m\u001b[0m\u001b[0m\n\u001b[1;32m--> 624\u001b[1;33m             \u001b[1;32mraise\u001b[0m \u001b[0mIOError\u001b[0m\u001b[1;33m(\u001b[0m\u001b[1;34m\"%s not found.\"\u001b[0m \u001b[1;33m%\u001b[0m \u001b[0mpath\u001b[0m\u001b[1;33m)\u001b[0m\u001b[1;33m\u001b[0m\u001b[1;33m\u001b[0m\u001b[0m\n\u001b[0m\u001b[0;32m    625\u001b[0m \u001b[1;33m\u001b[0m\u001b[0m\n\u001b[0;32m    626\u001b[0m \u001b[1;33m\u001b[0m\u001b[0m\n",
      "\u001b[1;31mOSError\u001b[0m: pima-indians-diabetes.csv not found."
     ]
    }
   ],
   "source": [
    "import numpy\n",
    "dataset = numpy.loadtxt(\"pima-indians-diabetes.csv\", delimiter=\",\")\n"
   ]
  },
  {
   "cell_type": "code",
   "execution_count": null,
   "metadata": {},
   "outputs": [],
   "source": []
  }
 ],
 "metadata": {
  "kernelspec": {
   "display_name": "Python 3",
   "language": "python",
   "name": "python3"
  },
  "language_info": {
   "codemirror_mode": {
    "name": "ipython",
    "version": 3
   },
   "file_extension": ".py",
   "mimetype": "text/x-python",
   "name": "python",
   "nbconvert_exporter": "python",
   "pygments_lexer": "ipython3",
   "version": "3.7.1"
  }
 },
 "nbformat": 4,
 "nbformat_minor": 2
}
